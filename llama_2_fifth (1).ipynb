{
 "cells": [
  {
   "cell_type": "code",
   "execution_count": 1,
   "id": "5e470cd8-840a-4127-b36d-090297fd66a0",
   "metadata": {},
   "outputs": [],
   "source": [
    "import torch\n",
    "import transformers\n",
    "import argparse\n",
    "from transformers import AutoModelForCausalLM, AutoTokenizer\n",
    "from datasets import load_dataset\n",
    "from peft import (\n",
    "        get_peft_model, \n",
    "        prepare_model_for_kbit_training, \n",
    "        LoraConfig\n",
    "    )\n",
    "from trl import SFTTrainer"
   ]
  },
  {
   "cell_type": "code",
   "execution_count": 2,
   "id": "4670ff28-27fb-473c-b53f-ec5bdbc147b0",
   "metadata": {},
   "outputs": [
    {
     "data": {
      "application/vnd.jupyter.widget-view+json": {
       "model_id": "170ad6d2de3b4105bf2caf3954770121",
       "version_major": 2,
       "version_minor": 0
      },
      "text/plain": [
       "config.json:   0%|          | 0.00/609 [00:00<?, ?B/s]"
      ]
     },
     "metadata": {},
     "output_type": "display_data"
    },
    {
     "data": {
      "application/vnd.jupyter.widget-view+json": {
       "model_id": "c7caa97bbf224d0f842dc8132699cf63",
       "version_major": 2,
       "version_minor": 0
      },
      "text/plain": [
       "model.safetensors.index.json:   0%|          | 0.00/26.8k [00:00<?, ?B/s]"
      ]
     },
     "metadata": {},
     "output_type": "display_data"
    },
    {
     "data": {
      "application/vnd.jupyter.widget-view+json": {
       "model_id": "ad55690d328b420aab78224d1deeacff",
       "version_major": 2,
       "version_minor": 0
      },
      "text/plain": [
       "Downloading shards:   0%|          | 0/2 [00:00<?, ?it/s]"
      ]
     },
     "metadata": {},
     "output_type": "display_data"
    },
    {
     "data": {
      "application/vnd.jupyter.widget-view+json": {
       "model_id": "72a32be33577474288f40e24d16dc85a",
       "version_major": 2,
       "version_minor": 0
      },
      "text/plain": [
       "model-00001-of-00002.safetensors:   0%|          | 0.00/9.98G [00:00<?, ?B/s]"
      ]
     },
     "metadata": {},
     "output_type": "display_data"
    },
    {
     "data": {
      "application/vnd.jupyter.widget-view+json": {
       "model_id": "e7effd76373543698f9ae175590cb3de",
       "version_major": 2,
       "version_minor": 0
      },
      "text/plain": [
       "model-00002-of-00002.safetensors:   0%|          | 0.00/3.50G [00:00<?, ?B/s]"
      ]
     },
     "metadata": {},
     "output_type": "display_data"
    },
    {
     "data": {
      "application/vnd.jupyter.widget-view+json": {
       "model_id": "0a63dc23985d4f7aa27e4ebc9a5cf0c4",
       "version_major": 2,
       "version_minor": 0
      },
      "text/plain": [
       "Loading checkpoint shards:   0%|          | 0/2 [00:00<?, ?it/s]"
      ]
     },
     "metadata": {},
     "output_type": "display_data"
    },
    {
     "data": {
      "application/vnd.jupyter.widget-view+json": {
       "model_id": "f118c470f4d14941814f7e11f748b38c",
       "version_major": 2,
       "version_minor": 0
      },
      "text/plain": [
       "generation_config.json:   0%|          | 0.00/188 [00:00<?, ?B/s]"
      ]
     },
     "metadata": {},
     "output_type": "display_data"
    },
    {
     "data": {
      "application/vnd.jupyter.widget-view+json": {
       "model_id": "340fb1f109ae4aa499c51ea1a7bab05a",
       "version_major": 2,
       "version_minor": 0
      },
      "text/plain": [
       "tokenizer_config.json:   0%|          | 0.00/776 [00:00<?, ?B/s]"
      ]
     },
     "metadata": {},
     "output_type": "display_data"
    },
    {
     "data": {
      "application/vnd.jupyter.widget-view+json": {
       "model_id": "d1152fd0fcc5482495e8f6afa177f64b",
       "version_major": 2,
       "version_minor": 0
      },
      "text/plain": [
       "tokenizer.model:   0%|          | 0.00/500k [00:00<?, ?B/s]"
      ]
     },
     "metadata": {},
     "output_type": "display_data"
    },
    {
     "data": {
      "application/vnd.jupyter.widget-view+json": {
       "model_id": "5e6f0a60c9714d6892bf4a429422d436",
       "version_major": 2,
       "version_minor": 0
      },
      "text/plain": [
       "tokenizer.json:   0%|          | 0.00/1.84M [00:00<?, ?B/s]"
      ]
     },
     "metadata": {},
     "output_type": "display_data"
    },
    {
     "data": {
      "application/vnd.jupyter.widget-view+json": {
       "model_id": "79c16e167a254104964f8620aa1824fe",
       "version_major": 2,
       "version_minor": 0
      },
      "text/plain": [
       "special_tokens_map.json:   0%|          | 0.00/414 [00:00<?, ?B/s]"
      ]
     },
     "metadata": {},
     "output_type": "display_data"
    }
   ],
   "source": [
    "model_name = \"meta-llama/Llama-2-7b-hf\"\n",
    "model = AutoModelForCausalLM.from_pretrained(model_name,\n",
    "                                            load_in_8bit=True,\n",
    "                                            device_map=\"auto\"\n",
    "                                            )\n",
    "tokenizer = AutoTokenizer.from_pretrained(model_name)"
   ]
  },
  {
   "cell_type": "code",
   "execution_count": 3,
   "id": "b86bf84f-0990-4d90-ba6f-6264f1746211",
   "metadata": {},
   "outputs": [
    {
     "data": {
      "text/plain": [
       "LlamaForCausalLM(\n",
       "  (model): LlamaModel(\n",
       "    (embed_tokens): Embedding(32000, 4096)\n",
       "    (layers): ModuleList(\n",
       "      (0-31): 32 x LlamaDecoderLayer(\n",
       "        (self_attn): LlamaAttention(\n",
       "          (q_proj): Linear8bitLt(in_features=4096, out_features=4096, bias=False)\n",
       "          (k_proj): Linear8bitLt(in_features=4096, out_features=4096, bias=False)\n",
       "          (v_proj): Linear8bitLt(in_features=4096, out_features=4096, bias=False)\n",
       "          (o_proj): Linear8bitLt(in_features=4096, out_features=4096, bias=False)\n",
       "          (rotary_emb): LlamaRotaryEmbedding()\n",
       "        )\n",
       "        (mlp): LlamaMLP(\n",
       "          (gate_proj): Linear8bitLt(in_features=4096, out_features=11008, bias=False)\n",
       "          (up_proj): Linear8bitLt(in_features=4096, out_features=11008, bias=False)\n",
       "          (down_proj): Linear8bitLt(in_features=11008, out_features=4096, bias=False)\n",
       "          (act_fn): SiLU()\n",
       "        )\n",
       "        (input_layernorm): LlamaRMSNorm()\n",
       "        (post_attention_layernorm): LlamaRMSNorm()\n",
       "      )\n",
       "    )\n",
       "    (norm): LlamaRMSNorm()\n",
       "  )\n",
       "  (lm_head): Linear(in_features=4096, out_features=32000, bias=False)\n",
       ")"
      ]
     },
     "execution_count": 3,
     "metadata": {},
     "output_type": "execute_result"
    }
   ],
   "source": [
    "model"
   ]
  },
  {
   "cell_type": "code",
   "execution_count": 3,
   "id": "dbd914eb-866e-43c5-ba84-6f8640c7847e",
   "metadata": {},
   "outputs": [
    {
     "data": {
      "application/vnd.jupyter.widget-view+json": {
       "model_id": "1b9e3f7ce4c5466084e76b6f2cb0d194",
       "version_major": 2,
       "version_minor": 0
      },
      "text/plain": [
       "Fetching 4 files:   0%|          | 0/4 [00:00<?, ?it/s]"
      ]
     },
     "metadata": {},
     "output_type": "display_data"
    },
    {
     "data": {
      "application/vnd.jupyter.widget-view+json": {
       "model_id": "2c48498513ed439986c72e182b3340a8",
       "version_major": 2,
       "version_minor": 0
      },
      "text/plain": [
       "adapter_config.json:   0%|          | 0.00/630 [00:00<?, ?B/s]"
      ]
     },
     "metadata": {},
     "output_type": "display_data"
    },
    {
     "data": {
      "application/vnd.jupyter.widget-view+json": {
       "model_id": "cd0ecd45a82d40a0bb8348b8f128b566",
       "version_major": 2,
       "version_minor": 0
      },
      "text/plain": [
       "README.md:   0%|          | 0.00/5.18k [00:00<?, ?B/s]"
      ]
     },
     "metadata": {},
     "output_type": "display_data"
    },
    {
     "data": {
      "application/vnd.jupyter.widget-view+json": {
       "model_id": "4bc71e4aa5ee4701890e81d6257acd01",
       "version_major": 2,
       "version_minor": 0
      },
      "text/plain": [
       ".gitattributes:   0%|          | 0.00/1.52k [00:00<?, ?B/s]"
      ]
     },
     "metadata": {},
     "output_type": "display_data"
    },
    {
     "data": {
      "application/vnd.jupyter.widget-view+json": {
       "model_id": "a3f58fe3f8944030aaf8110cf55ccb56",
       "version_major": 2,
       "version_minor": 0
      },
      "text/plain": [
       "adapter_model.safetensors:   0%|          | 0.00/1.06G [00:00<?, ?B/s]"
      ]
     },
     "metadata": {},
     "output_type": "display_data"
    },
    {
     "data": {
      "text/plain": [
       "'cp/models--enyuan--llama_2_7b_materials/snapshots/429016e567bf6f618e2edd8f2c09ce68240fe57b'"
      ]
     },
     "execution_count": 3,
     "metadata": {},
     "output_type": "execute_result"
    }
   ],
   "source": [
    "from huggingface_hub import snapshot_download\n",
    "\n",
    "snapshot_download(repo_id=\"enyuan/llama_2_7b_materials\", cache_dir=\"cp\")"
   ]
  },
  {
   "cell_type": "code",
   "execution_count": 4,
   "id": "3774e518-3549-4aa0-bf2e-a71cdaf55160",
   "metadata": {},
   "outputs": [],
   "source": [
    "from peft import PeftModel\n",
    "\n",
    "tokenizer.add_special_tokens({\"pad_token\": \"<PAD>\"})\n",
    "model.resize_token_embeddings(len(tokenizer))\n",
    "\n",
    "peft_model_id = \"cp/models--enyuan--llama_2_7b_materials/snapshots/429016e567bf6f618e2edd8f2c09ce68240fe57b\"\n",
    "peft_model = PeftModel.from_pretrained(model, peft_model_id, torch_dtype=torch.float16, offload_folder=\"lora_results/lora_7/temp\")"
   ]
  },
  {
   "cell_type": "code",
   "execution_count": 7,
   "id": "b9e5287d-f42d-4aed-8065-859fd2b9df88",
   "metadata": {},
   "outputs": [
    {
     "name": "stdout",
     "output_type": "stream",
     "text": [
      "Answer the value:\n",
      " Gilbert damping constant of SiO_2\n",
      " Value: 0.016\n"
     ]
    }
   ],
   "source": [
    "def generate_prompt(prompt, output=None, eos_token=\"</s>\"):\n",
    "    instruction = \"Answer the value:\\n\"\n",
    "    input = f\"Gilbert damping constant of {prompt}\\n\"\n",
    "    output = f\"Value: \"\n",
    "    prompt = (\" \").join([instruction, input, output])\n",
    "    return prompt\n",
    "\n",
    "input_prompt = generate_prompt('SiO_2')\n",
    "input_tokens = tokenizer(input_prompt, return_tensors=\"pt\")[\"input_ids\"].to(\"cuda\")\n",
    "with torch.cuda.amp.autocast():\n",
    "    generation_output = peft_model.generate(\n",
    "        input_ids=input_tokens,\n",
    "        max_new_tokens=100,\n",
    "        do_sample=True,\n",
    "        top_k=10,\n",
    "        top_p=0.9,\n",
    "        temperature=0.3,\n",
    "        repetition_penalty=1.15,\n",
    "        num_return_sequences=1,\n",
    "        eos_token_id=tokenizer.eos_token_id,\n",
    "      )\n",
    "op = tokenizer.decode(generation_output[0], skip_special_tokens=True)\n",
    "print(op) "
   ]
  },
  {
   "cell_type": "code",
   "execution_count": 9,
   "id": "dcdc6346-07c2-4e82-b202-ea4a7b855883",
   "metadata": {},
   "outputs": [
    {
     "data": {
      "text/plain": [
       "'0.016'"
      ]
     },
     "execution_count": 9,
     "metadata": {},
     "output_type": "execute_result"
    }
   ],
   "source": [
    "op[len(input_prompt):]"
   ]
  },
  {
   "cell_type": "code",
   "execution_count": 16,
   "id": "665b3439-a06b-4a44-a6f8-69076580a522",
   "metadata": {},
   "outputs": [],
   "source": [
    "import pandas as pd\n",
    "\n",
    "def generate_prompt(prompt, output=None, eos_token=\"</s>\"):\n",
    "    instruction = \"Answer the value:\\n\"\n",
    "    input = f\"Gilbert damping constant of {prompt}\\n\"\n",
    "    output = f\"Value: \"\n",
    "    prompt = (\" \").join([instruction, input, output])\n",
    "    return prompt\n",
    "\n",
    "def predict_value(material):\n",
    "    input_prompt = generate_prompt(material)\n",
    "    input_tokens = tokenizer(input_prompt, return_tensors=\"pt\")[\"input_ids\"].to(\"cuda\")\n",
    "    with torch.cuda.amp.autocast():\n",
    "        generation_output = peft_model.generate(\n",
    "            input_ids=input_tokens,\n",
    "            max_new_tokens=100,\n",
    "            do_sample=True,\n",
    "            top_k=10,\n",
    "            top_p=0.9,\n",
    "            temperature=0.3,\n",
    "            repetition_penalty=1.15,\n",
    "            num_return_sequences=1,\n",
    "            eos_token_id=tokenizer.eos_token_id,\n",
    "          )\n",
    "    op = tokenizer.decode(generation_output[0], skip_special_tokens=True)\n",
    "    #print(op)\n",
    "    return op[len(input_prompt):]\n",
    "\n",
    "df = pd.read_csv('predictions.csv')\n",
    "generated_texts = []\n",
    "\n",
    "for i in df['Materials']:\n",
    "    generated_texts.append(predict_value(i))\n",
    "\n",
    "df['Damping constant'] = generated_texts\n",
    "df.to_csv('result2.csv', index=False)"
   ]
  },
  {
   "cell_type": "code",
   "execution_count": 13,
   "id": "49f27ae3-3d9c-4cbb-9e7f-f756c2740542",
   "metadata": {},
   "outputs": [],
   "source": [
    "df['Damping constant'] = generated_texts"
   ]
  },
  {
   "cell_type": "code",
   "execution_count": 15,
   "id": "e14581b3-82b8-40e1-bce2-6af62fd28d26",
   "metadata": {},
   "outputs": [],
   "source": [
    "df.to_csv('result.csv', index=False)"
   ]
  },
  {
   "cell_type": "code",
   "execution_count": null,
   "id": "a8b65c61-ad87-4182-9f54-d00f64462f10",
   "metadata": {},
   "outputs": [],
   "source": []
  },
  {
   "cell_type": "code",
   "execution_count": 43,
   "id": "e45832a7-81f4-4f27-9e0f-cfcdfb19ab12",
   "metadata": {},
   "outputs": [
    {
     "name": "stdout",
     "output_type": "stream",
     "text": [
      "Answer the materials:\n",
      " Material with low magnetic damping constant.\n",
      " The molecular formula of the material: \n",
      "Probability of H: 0.0000\n",
      "Probability of He: 0.0024\n",
      "Probability of Li: 0.0055\n",
      "Probability of Be: 0.0007\n",
      "Probability of B: 0.0002\n",
      "Probability of C: 0.0000\n",
      "Probability of N: 0.0003\n",
      "Probability of O: 0.0236\n",
      "Probability of F: 0.0000\n",
      "Probability of Ne: 0.0095\n",
      "Probability of Na: 0.0004\n",
      "Probability of Al: 0.0000\n",
      "Probability of Si: 0.0281\n",
      "Probability of P: 0.0002\n",
      "Probability of S: 0.0000\n",
      "Probability of Cl: 0.0000\n",
      "Probability of Ar: 0.0000\n",
      "Probability of K: 0.0034\n",
      "Probability of Ca: 0.0019\n",
      "Probability of Sc: 0.0000\n",
      "Probability of V: 0.0614\n",
      "Probability of Cr: 0.0000\n",
      "Probability of Fe: 0.0000\n",
      "Probability of Co: 0.0001\n",
      "Probability of Ge: 0.0012\n",
      "Probability of As: 0.0003\n",
      "Probability of Se: 0.0002\n",
      "Probability of Br: 0.0002\n",
      "Probability of Y: 0.0002\n",
      "Probability of Mo: 0.0001\n",
      "Probability of Ag: 0.0003\n",
      "Probability of In: 0.0018\n",
      "Probability of Te: 0.0001\n",
      "Probability of I: 0.0000\n",
      "Probability of La: 0.0005\n",
      "Probability of Pr: 0.0006\n",
      "Probability of Sm: 0.0004\n",
      "Probability of Er: 0.0011\n",
      "Probability of Lu: 0.0012\n",
      "Probability of W: 0.1248\n",
      "Probability of Re: 0.0159\n",
      "Probability of Os: 0.0014\n",
      "Probability of Bi: 0.0002\n",
      "Probability of Po: 0.0001\n",
      "Probability of At: 0.0062\n",
      "Probability of Fr: 0.0001\n",
      "Probability of Ac: 0.0018\n",
      "Probability of Th: 0.0017\n",
      "Probability of Pa: 0.0002\n",
      "Probability of U: 0.1249\n",
      "Probability of Am: 0.0009\n",
      "Probability of Es: 0.0026\n",
      "Probability of No: 0.0090\n",
      "Probability of Db: 0.0018\n",
      "Probability of Fl: 0.0002\n",
      "Probability of Mc: 0.0008\n",
      "Probability of A: 0.0001\n",
      "Probability of D: 0.0000\n",
      "Probability of E: 0.0002\n",
      "Probability of F: 0.0000\n",
      "Probability of G: 0.0008\n",
      "Probability of J: 0.0116\n",
      "Probability of K: 0.0034\n",
      "Probability of L: 0.0000\n",
      "Probability of M: 0.0000\n",
      "Probability of Q: 0.0052\n",
      "Probability of R: 0.0454\n",
      "Probability of T: 0.0000\n",
      "Probability of X: 0.0003\n",
      "Probability of Z: 0.0204\n"
     ]
    }
   ],
   "source": [
    "def generate_prompt(prompt, output=None, eos_token=\"</s>\"):\n",
    "    instruction = \"Answer the materials:\\n\"\n",
    "    input = f\"Material with {prompt}\\n\"\n",
    "    output = f\"The molecular formula of the material: \"\n",
    "    prompt = (\" \").join([instruction, input, output])\n",
    "    return prompt\n",
    "\n",
    "input_prompt = generate_prompt('low magnetic damping constant.')\n",
    "print(input_prompt)\n",
    "input_tokens = tokenizer(input_prompt, return_tensors=\"pt\")[\"input_ids\"].to(\"cuda\")\n",
    "\"\"\"\n",
    "predefined_tokens = [\n",
    "    \"H\", \"He\", \"Li\", \"Be\", \"B\", \"C\", \"N\", \"O\", \"F\", \"Ne\",\n",
    "    \"Na\", \"Al\", \"Si\", \"P\", \"S\", \"Cl\", \"Ar\", \"K\", \"Ca\", \"Sc\",\n",
    "    \"V\", \"Cr\", \"Fe\", \"Co\", \"Ge\", \"As\", \"Se\", \"Br\", \"Y\", \"Mo\",\n",
    "    \"Ag\", \"In\", \"Te\", \"I\", \"La\", \"Pr\", \"Sm\", \"Er\", \"Lu\", \"W\",\n",
    "    \"Re\", \"Os\", \"Bi\", \"Po\", \"At\", \"Fr\", \"Ac\", \"Th\", \"Pa\", \"U\",\n",
    "    \"Am\", \"Es\", \"No\", \"Db\", \"Fl\", \"Mc\"\n",
    "]\n",
    "\"\"\"\n",
    "predefined_tokens = [\n",
    "    \"H\", \"He\", \"Li\", \"Be\", \"B\", \"C\", \"N\", \"O\", \"F\", \"Ne\",\n",
    "    \"Na\", \"Al\", \"Si\", \"P\", \"S\", \"Cl\", \"Ar\", \"K\", \"Ca\", \"Sc\",\n",
    "    \"V\", \"Cr\", \"Fe\", \"Co\", \"Ge\", \"As\", \"Se\", \"Br\", \"Y\", \"Mo\",\n",
    "    \"Ag\", \"In\", \"Te\", \"I\", \"La\", \"Pr\", \"Sm\", \"Er\", \"Lu\", \"W\",\n",
    "    \"Re\", \"Os\", \"Bi\", \"Po\", \"At\", \"Fr\", \"Ac\", \"Th\", \"Pa\", \"U\",\n",
    "    \"Am\", \"Es\", \"No\", \"Db\", \"Fl\", \"Mc\", \n",
    "    \"A\", \"D\", \"E\", \"F\", \"G\", \"J\", \"L\", \"M\", \"Q\", \"R\", \"T\", \"X\", \"Z\"\n",
    "]\n",
    "\n",
    "# 将预定义的 token 列表转换为对应的 token IDs\n",
    "token_ids = tokenizer.convert_tokens_to_ids(predefined_tokens)\n",
    "\n",
    "# 生成下一个 token 的概率分布\n",
    "with torch.no_grad():\n",
    "    input_ids = torch.tensor([token_ids])\n",
    "    logits = peft_model(input_ids).logits\n",
    "\n",
    "# 打印每个元素及其对应的概率\n",
    "for element, token_id in zip(predefined_tokens, token_ids):\n",
    "    token_index = input_ids[0].tolist().index(token_id)\n",
    "    probability = torch.softmax(logits[0, token_index], dim=-1)[token_id].item()\n",
    "    print(f\"Probability of {element}: {probability:.4f}\")"
   ]
  },
  {
   "cell_type": "code",
   "execution_count": 16,
   "id": "6e92aa74-7c5e-49a1-94d3-dd79b8bf6b52",
   "metadata": {},
   "outputs": [
    {
     "name": "stdout",
     "output_type": "stream",
     "text": [
      "Answer the materials:\n",
      " Material with low magnetic damping constant.\n",
      " The molecular formula of the material: Y_3\n",
      "Word: Fe, Probability: 0.2266\n",
      "Word: Al, Probability: 0.2079\n",
      "Word: N, Probability: 0.0605\n",
      "Word: (, Probability: 0.0568\n",
      "Word: B, Probability: 0.0490\n",
      "Word: Co, Probability: 0.0436\n",
      "Word: C, Probability: 0.0295\n",
      "Word: Cr, Probability: 0.0206\n",
      "Word: M, Probability: 0.0198\n",
      "Word: Bi, Probability: 0.0177\n"
     ]
    }
   ],
   "source": [
    "def generate_prompt(prompt, output=None, eos_token=\"</s>\"):\n",
    "    instruction = \"Answer the materials:\\n\"\n",
    "    input = f\"Material with {prompt}\\n\"\n",
    "    output = f\"The molecular formula of the material: Y_3\"\n",
    "    prompt = (\" \").join([instruction, input, output])\n",
    "    return prompt\n",
    "\n",
    "input_prompt = generate_prompt('low magnetic damping constant.')\n",
    "print(input_prompt)\n",
    "input_tokens = tokenizer(input_prompt, return_tensors=\"pt\")[\"input_ids\"].to(\"cuda\")\n",
    "\n",
    "with torch.no_grad():\n",
    "    logits = peft_model(input_tokens).logits\n",
    "\n",
    "probabilities = torch.softmax(logits[:, -1, :], dim=-1)\n",
    "\n",
    "# Get the top 10 token IDs and their probabilities\n",
    "top_k = 10\n",
    "top_probabilities, top_token_ids = torch.topk(probabilities, top_k)\n",
    "\n",
    "# Convert probabilities to a human-readable format (e.g., Python list)\n",
    "top_probabilities = top_probabilities.squeeze().tolist()\n",
    "top_token_ids = top_token_ids.squeeze().tolist()\n",
    "\n",
    "# Decode each token ID and pair it with its probability\n",
    "top_words_with_probs = [(tokenizer.decode([token_id]), prob) for token_id, prob in zip(top_token_ids, top_probabilities)]\n",
    "\n",
    "# Display the results\n",
    "for word, prob in top_words_with_probs:\n",
    "    print(f\"Word: {word}, Probability: {prob:.4f}\")"
   ]
  },
  {
   "cell_type": "code",
   "execution_count": 24,
   "id": "90233752-97c7-4add-9ab3-e2b9a115a6dd",
   "metadata": {},
   "outputs": [
    {
     "name": "stdout",
     "output_type": "stream",
     "text": [
      "New Elements: ['Li_2O_', 'Li_3N_', 'LiNbO_', 'Si_2O_', 'Si_3O_', 'Si_3N_', 'K_2Cu', 'K_3C_', 'KC_8H', 'KC_4H', 'Ca_2Mg', 'Ca_2Mn', 'Ca_3Co_', 'V_2O_', 'V_4O_', 'V_4Co_', 'V_100', 'In_2O_', 'In_3Sn', 'In_3Sb', 'In_4Sn', 'In_4Sb', 'WC_1-', 'WO_12', 'W_2O_', 'W_2C_', 'W_100', 'W_3C_', 'Fe_2O_', 'Fe_3O_', 'Fe_12N', 'Fe_100', 'Re_2O_', 'Re_2Co_', 'Re_3B_', 'At_2O_', 'At_2Xe', 'U_2O_', 'U_3P_', 'Zr_2O_', 'Zr_6Cu', 'Zr_6C_', 'Zr_6O_', 'Y_3Al']\n",
      "Results: ['WO_3', 'Ac_2O', 'Ac_2O']\n",
      "New Elements: ['Li_2O_2', 'Li_3N_2', 'LiNbO_3', 'Si_2O_3', 'Si_3O_1', 'Si_3N_4', 'K_2CuCl', 'K_3C_6', 'KC_8H_', 'KC_4H_', 'Ca_2Mg_', 'Ca_3Co_2', 'V_2O_5', 'V_2O_3', 'V_4O_1', 'In_2O_3', 'In_3SnS', 'In_3Sb_', 'In_4Sn_', 'In_4Sb_', 'WC_1-x', 'W_2C_1', 'W_3C_1', 'Fe_2O_3', 'Fe_3O_4', 'Fe_12N_', 'Re_2O_7', 'Re_2Co_1', 'At_2O_3', 'At_2Xe_', 'U_2O_7', 'U_3P_4', 'Zr_2O_3', 'Zr_6Cu_', 'Zr_6C_2', 'Zr_6C_1', 'Zr_6O_1', 'Y_3Al_']\n",
      "Results: ['WO_3', 'Ac_2O', 'Ac_2O']\n",
      "New Elements: ['Li_3N_2O', 'Si_3O_10', 'K_2CuCl_', 'K_3C_60', 'KC_8H_1', 'KC_4H_1', 'Ca_3Co_2O', 'V_4O_12', 'In_3SnS_', 'In_3Sb_5', 'In_4Sb_1', 'W_2C_18', 'W_3C_12', 'W_3C_18', 'Fe_12N_2', 'Re_2Co_17', 'At_2Xe_1', 'U_3P_4O', 'Zr_6Cu_1', 'Zr_6C_12', 'Zr_6O_12', 'Y_3Al_5']\n",
      "Results: ['WO_3', 'Ac_2O', 'Ac_2O', 'Li_2O_2', 'LiNbO_3', 'Si_2O_3', 'Si_3N_4', 'V_2O_5', 'V_2O_3', 'In_2O_3', 'Fe_2O_3', 'Re_2O_7', 'At_2O_3', 'U_2O_7']\n",
      "New Elements: ['Li_3N_2O_', 'K_2CuCl_4', 'KC_8H_10', 'KC_4H_10', 'Ca_3Co_2O_', 'In_3SnS_4', 'In_3Sb_5Te', 'In_4Sb_12', 'Fe_12N_2O', 'Re_2Co_17B', 'U_3P_4O_', 'Zr_6Cu_12', 'Zr_6O_12N', 'Y_3Al_5O']\n",
      "Results: ['WO_3', 'Ac_2O', 'Ac_2O', 'Li_2O_2', 'LiNbO_3', 'Si_2O_3', 'Si_3N_4', 'V_2O_5', 'V_2O_3', 'In_2O_3', 'Fe_2O_3', 'Re_2O_7', 'At_2O_3', 'U_2O_7', 'K_3C_60', 'V_4O_12']\n",
      "New Elements: ['Li_3N_2O_4', 'KC_8H_10N', 'KC_4H_10N', 'Ca_3Co_2O_6', 'In_3Sb_5Te_', 'In_4Sb_12Se', 'Fe_12N_2O_', 'Re_2Co_17B_', 'U_3P_4O_1', 'Zr_6O_12N_', 'Y_3Al_5O_']\n",
      "Results: ['WO_3', 'Ac_2O', 'Ac_2O', 'Li_2O_2', 'LiNbO_3', 'Si_2O_3', 'Si_3N_4', 'V_2O_5', 'V_2O_3', 'In_2O_3', 'Fe_2O_3', 'Re_2O_7', 'At_2O_3', 'U_2O_7', 'K_3C_60', 'V_4O_12', 'K_2CuCl_4', 'In_3SnS_4', 'In_3SnS_4']\n",
      "New Elements: ['KC_8H_10N_', 'KC_4H_10N_', 'In_3Sb_5Te_1', 'In_4Sb_12Se_', 'Fe_12N_2O_1', 'Fe_12N_2O_2', 'Re_2Co_17B_2', 'U_3P_4O_12', 'Zr_6O_12N_4', 'Y_3Al_5O_1']\n",
      "Results: ['WO_3', 'Ac_2O', 'Ac_2O', 'Li_2O_2', 'LiNbO_3', 'Si_2O_3', 'Si_3N_4', 'V_2O_5', 'V_2O_3', 'In_2O_3', 'Fe_2O_3', 'Re_2O_7', 'At_2O_3', 'U_2O_7', 'K_3C_60', 'V_4O_12', 'K_2CuCl_4', 'In_3SnS_4', 'In_3SnS_4', 'Li_3N_2O_4', 'Ca_3Co_2O_6', 'Ca_3Co_2O_6']\n",
      "New Elements: ['KC_8H_10N_2', 'KC_8H_10N_4', 'KC_4H_10N_2', 'In_3Sb_5Te_12', 'In_4Sb_12Se_1', 'In_4Sb_12Se_2', 'Fe_12N_2O_19', 'Fe_12N_2O_22', 'Y_3Al_5O_12']\n",
      "Results: ['WO_3', 'Ac_2O', 'Ac_2O', 'Li_2O_2', 'LiNbO_3', 'Si_2O_3', 'Si_3N_4', 'V_2O_5', 'V_2O_3', 'In_2O_3', 'Fe_2O_3', 'Re_2O_7', 'At_2O_3', 'U_2O_7', 'K_3C_60', 'V_4O_12', 'K_2CuCl_4', 'In_3SnS_4', 'In_3SnS_4', 'Li_3N_2O_4', 'Ca_3Co_2O_6', 'Ca_3Co_2O_6', 'Re_2Co_17B_2', 'U_3P_4O_12', 'Zr_6O_12N_4']\n",
      "New Elements: ['KC_8H_10N_2O', 'KC_8H_10N_4O', 'KC_4H_10N_2O', 'In_4Sb_12Se_19', 'In_4Sb_12Se_22']\n",
      "Results: ['WO_3', 'Ac_2O', 'Ac_2O', 'Li_2O_2', 'LiNbO_3', 'Si_2O_3', 'Si_3N_4', 'V_2O_5', 'V_2O_3', 'In_2O_3', 'Fe_2O_3', 'Re_2O_7', 'At_2O_3', 'U_2O_7', 'K_3C_60', 'V_4O_12', 'K_2CuCl_4', 'In_3SnS_4', 'In_3SnS_4', 'Li_3N_2O_4', 'Ca_3Co_2O_6', 'Ca_3Co_2O_6', 'Re_2Co_17B_2', 'U_3P_4O_12', 'Zr_6O_12N_4', 'In_3Sb_5Te_12', 'Fe_12N_2O_19', 'Fe_12N_2O_22', 'Y_3Al_5O_12']\n",
      "New Elements: ['KC_8H_10N_2O_', 'KC_8H_10N_4O_', 'KC_4H_10N_2O_']\n",
      "Results: ['WO_3', 'Ac_2O', 'Ac_2O', 'Li_2O_2', 'LiNbO_3', 'Si_2O_3', 'Si_3N_4', 'V_2O_5', 'V_2O_3', 'In_2O_3', 'Fe_2O_3', 'Re_2O_7', 'At_2O_3', 'U_2O_7', 'K_3C_60', 'V_4O_12', 'K_2CuCl_4', 'In_3SnS_4', 'In_3SnS_4', 'Li_3N_2O_4', 'Ca_3Co_2O_6', 'Ca_3Co_2O_6', 'Re_2Co_17B_2', 'U_3P_4O_12', 'Zr_6O_12N_4', 'In_3Sb_5Te_12', 'Fe_12N_2O_19', 'Fe_12N_2O_22', 'Y_3Al_5O_12', 'In_4Sb_12Se_19', 'In_4Sb_12Se_22']\n",
      "New Elements: ['KC_8H_10N_2O_4', 'KC_8H_10N_4O_2', 'KC_4H_10N_2O_4']\n",
      "Results: ['WO_3', 'Ac_2O', 'Ac_2O', 'Li_2O_2', 'LiNbO_3', 'Si_2O_3', 'Si_3N_4', 'V_2O_5', 'V_2O_3', 'In_2O_3', 'Fe_2O_3', 'Re_2O_7', 'At_2O_3', 'U_2O_7', 'K_3C_60', 'V_4O_12', 'K_2CuCl_4', 'In_3SnS_4', 'In_3SnS_4', 'Li_3N_2O_4', 'Ca_3Co_2O_6', 'Ca_3Co_2O_6', 'Re_2Co_17B_2', 'U_3P_4O_12', 'Zr_6O_12N_4', 'In_3Sb_5Te_12', 'Fe_12N_2O_19', 'Fe_12N_2O_22', 'Y_3Al_5O_12', 'In_4Sb_12Se_19', 'In_4Sb_12Se_22']\n"
     ]
    }
   ],
   "source": [
    "def generate_prompt(prompt, output=None, eos_token=\"</s>\"):\n",
    "    instruction = \"Answer the materials:\\n\"\n",
    "    input = f\"Material with {prompt}\\n\"\n",
    "    output = f\"The molecular formula of the material: \"\n",
    "    prompt = (\" \").join([instruction, input, output])\n",
    "    return prompt\n",
    "\n",
    "input_prompt = generate_prompt('low magnetic damping constant in low temperture.')\n",
    "\n",
    "def next_step(elements, results):\n",
    "    # 存储新的列表和特殊字符的元素列表\n",
    "    new_elements = []\n",
    "    \n",
    "    # 特殊字符列表\n",
    "    special_chars = {'.', '</s>', ' ', 'The', '\\n'}\n",
    "    \n",
    "    for element in elements:\n",
    "        # 添加一个空格，然后编码为输入张量\n",
    "        input_text = input_prompt + element\n",
    "        input_ids = tokenizer.encode(input_text, return_tensors=\"pt\")\n",
    "    \n",
    "        # 生成下一个字符的概率分布\n",
    "        with torch.no_grad():\n",
    "            logits = peft_model(input_ids).logits\n",
    "    \n",
    "        # 计算下一个字符的概率\n",
    "        next_char_prob = torch.softmax(logits[0, -1, :], dim=-1)\n",
    "    \n",
    "        # 寻找概率大于0.1且概率排在前三的字符\n",
    "        top_chars = torch.topk(next_char_prob, k=2)\n",
    "        for char_id, prob in zip(top_chars.indices, top_chars.values):\n",
    "            if prob > 0.3:\n",
    "                next_char = tokenizer.decode([char_id])\n",
    "                if next_char not in special_chars:\n",
    "                    new_element = element + next_char\n",
    "                    new_elements.append(new_element)\n",
    "                else:\n",
    "                    results.append(element)\n",
    "    \n",
    "    # 打印新的列表\n",
    "    print(\"New Elements:\", new_elements)\n",
    "    \n",
    "    # 打印特殊字符对应的元素列表\n",
    "    print(\"Results:\", results)\n",
    "    return new_elements, results\n",
    "\n",
    "results = []\n",
    "elements = [\n",
    "    'Li_2O', 'Li_3N', 'LiNi_', 'LiNbO', 'SiO_2', 'Si_2O', 'Si_12', 'Si_3O', 'Si_3N', 'SiC_2', 'SiC_x', 'SiC_8', 'K_2C', 'K_3C', \n",
    "    'K_3Fe', 'KC_2', 'KC_8', 'KC_4', 'Ca_2M', 'Ca_2Co', 'Ca_3Co', 'Ca_12', 'Ca_10', 'V_2O', 'V_4O', 'V_4Co', 'V_12', 'V_10', \n",
    "    'In_2O', 'In_3S', 'In_4S', 'WC_1', 'WO_1', 'WO_3', 'WO_2', 'W_2O', 'W_2C', 'W_12', 'W_10', 'W_3C', 'Fe_2O', 'Fe_2Si', \n",
    "    'Fe_3O', 'Fe_3C', 'Fe_12', 'Fe_10', 'Re_2O', 'Re_2Co', 'Re_3B', 'At_2O', 'At_2X', 'At_12', 'Ac_2O', 'U_2O', 'U_3P', 'U_12', \n",
    "    'U_10', 'Zn_2Cr', 'Zn_12', 'Zr_2O', 'Zr_6C', 'Zr_6O', 'Y_3'\n",
    "]\n",
    "results = []\n",
    "\n",
    "for i in range(10):\n",
    "    elements, results = next_step(elements, results)"
   ]
  },
  {
   "cell_type": "code",
   "execution_count": 27,
   "id": "4d481311-ea02-4855-9dce-40397335090b",
   "metadata": {},
   "outputs": [
    {
     "name": "stdout",
     "output_type": "stream",
     "text": [
      "New Elements: ['Li_2', 'Li_3', 'LiNi', 'SiO_', 'Si_1', 'Si_2', 'SiC_', 'K_2', 'K_3', 'KC_', 'KCu', 'Ca_2', 'Ca_3', 'V_2', 'In_2', 'WC_', 'WO_', 'W_2', 'W_1', 'Fe_3', 'Fe_2', 'Re_2', 'At_2', 'Y_3Al', 'Y_3Fe', 'U_2', 'Zn_2', 'Zr_2']\n",
      "Results: ['VO']\n",
      "New Elements: ['LiNi_', 'SiO_2', 'SiO_4', 'Si_12', 'Si_2O', 'SiC_x', 'K_3C', 'KC_2', 'Ca_3Co', 'V_2O', 'In_2O', 'WC_1', 'WO_3', 'WO_1', 'W_12', 'Fe_3O', 'At_2O', 'Y_3Al_', 'Y_3Fe_']\n",
      "Results: ['VO', 'KCu', 'KCu']\n",
      "New Elements: ['LiNi_0', 'LiNi_2', 'Si_12B', 'Si_12O', 'Si_2O_', 'K_3C_', 'KC_2F', 'Ca_3Co_', 'V_2O_', 'In_2O_', 'WC_1-', 'WO_12', 'W_12C', 'Fe_3O_', 'At_2O_', 'Y_3Al_5', 'Y_3Fe_5']\n",
      "Results: ['VO', 'KCu', 'KCu', 'SiO_2', 'SiC_x', 'WO_3']\n",
      "New Elements: ['LiNi_2Co', 'Si_12B_', 'Si_12O_', 'Si_2O_3', 'Si_2O_5', 'K_3C_6', 'KC_2F_', 'Ca_3Co_2', 'V_2O_5', 'V_2O_3', 'In_2O_3', 'WC_1-x', 'W_12C_', 'Fe_3O_4', 'At_2O_3', 'Y_3Al_5O', 'Y_3Fe_5O']\n",
      "Results: ['VO', 'KCu', 'KCu', 'SiO_2', 'SiC_x', 'WO_3', 'LiNi_0', 'LiNi_2', 'WO_12']\n",
      "New Elements: ['LiNi_2CoM', 'LiNi_2Co_', 'Si_12B_6', 'Si_12B_1', 'Si_12O_1', 'K_3C_60', 'KC_2F_5', 'Ca_3Co_2O', 'WC_1-xN', 'W_12C_1', 'Y_3Al_5O_', 'Y_3Fe_5O_']\n",
      "Results: ['VO', 'KCu', 'KCu', 'SiO_2', 'SiC_x', 'WO_3', 'LiNi_0', 'LiNi_2', 'WO_12', 'Si_2O_3', 'Si_2O_5', 'V_2O_5', 'V_2O_3', 'In_2O_3', 'Fe_3O_4', 'At_2O_3']\n",
      "New Elements: ['LiNi_2CoMn', 'LiNi_2Co_0', 'LiNi_2Co_1', 'Si_12B_6O', 'Si_12B_12', 'Si_12O_19', 'KC_2F_5N', 'Ca_3Co_2O_', 'WC_1-xN_', 'WC_1-xNb', 'W_12C_18', 'Y_3Al_5O_1', 'Y_3Fe_5O_1']\n",
      "Results: ['VO', 'KCu', 'KCu', 'SiO_2', 'SiC_x', 'WO_3', 'LiNi_0', 'LiNi_2', 'WO_12', 'Si_2O_3', 'Si_2O_5', 'V_2O_5', 'V_2O_3', 'In_2O_3', 'Fe_3O_4', 'At_2O_3', 'Si_12B_6', 'K_3C_60', 'K_3C_60']\n",
      "New Elements: ['LiNi_2CoMn_', 'Si_12B_6O_', 'Si_12B_12O', 'Ca_3Co_2O_6', 'WC_1-xN_x', 'WC_1-xNb_', 'W_12C_18N', 'Y_3Al_5O_12', 'Y_3Fe_5O_12']\n",
      "Results: ['VO', 'KCu', 'KCu', 'SiO_2', 'SiC_x', 'WO_3', 'LiNi_0', 'LiNi_2', 'WO_12', 'Si_2O_3', 'Si_2O_5', 'V_2O_5', 'V_2O_3', 'In_2O_3', 'Fe_3O_4', 'At_2O_3', 'Si_12B_6', 'K_3C_60', 'K_3C_60', 'LiNi_2Co_0', 'LiNi_2Co_1', 'Si_12O_19', 'KC_2F_5N']\n",
      "New Elements: ['LiNi_2CoMn_1', 'LiNi_2CoMn_2', 'Si_12B_6O_1', 'Si_12B_12O_', 'WC_1-xNb_x', 'W_12C_18N_']\n",
      "Results: ['VO', 'KCu', 'KCu', 'SiO_2', 'SiC_x', 'WO_3', 'LiNi_0', 'LiNi_2', 'WO_12', 'Si_2O_3', 'Si_2O_5', 'V_2O_5', 'V_2O_3', 'In_2O_3', 'Fe_3O_4', 'At_2O_3', 'Si_12B_6', 'K_3C_60', 'K_3C_60', 'LiNi_2Co_0', 'LiNi_2Co_1', 'Si_12O_19', 'KC_2F_5N', 'Ca_3Co_2O_6', 'Ca_3Co_2O_6', 'WC_1-xN_x', 'Y_3Al_5O_12', 'Y_3Al_5O_12', 'Y_3Fe_5O_12', 'Y_3Fe_5O_12']\n",
      "New Elements: ['LiNi_2CoMn_1−', 'LiNi_2CoMn_2O', 'Si_12B_6O_18', 'Si_12B_6O_19', 'Si_12B_12O_1', 'WC_1-xNb_xC', 'W_12C_18N_1']\n",
      "Results: ['VO', 'KCu', 'KCu', 'SiO_2', 'SiC_x', 'WO_3', 'LiNi_0', 'LiNi_2', 'WO_12', 'Si_2O_3', 'Si_2O_5', 'V_2O_5', 'V_2O_3', 'In_2O_3', 'Fe_3O_4', 'At_2O_3', 'Si_12B_6', 'K_3C_60', 'K_3C_60', 'LiNi_2Co_0', 'LiNi_2Co_1', 'Si_12O_19', 'KC_2F_5N', 'Ca_3Co_2O_6', 'Ca_3Co_2O_6', 'WC_1-xN_x', 'Y_3Al_5O_12', 'Y_3Al_5O_12', 'Y_3Fe_5O_12', 'Y_3Fe_5O_12', 'LiNi_2CoMn_1', 'WC_1-xNb_x']\n",
      "New Elements: ['LiNi_2CoMn_1−x', 'LiNi_2CoMn_2O_', 'Si_12B_12O_19']\n",
      "Results: ['VO', 'KCu', 'KCu', 'SiO_2', 'SiC_x', 'WO_3', 'LiNi_0', 'LiNi_2', 'WO_12', 'Si_2O_3', 'Si_2O_5', 'V_2O_5', 'V_2O_3', 'In_2O_3', 'Fe_3O_4', 'At_2O_3', 'Si_12B_6', 'K_3C_60', 'K_3C_60', 'LiNi_2Co_0', 'LiNi_2Co_1', 'Si_12O_19', 'KC_2F_5N', 'Ca_3Co_2O_6', 'Ca_3Co_2O_6', 'WC_1-xN_x', 'Y_3Al_5O_12', 'Y_3Al_5O_12', 'Y_3Fe_5O_12', 'Y_3Fe_5O_12', 'LiNi_2CoMn_1', 'WC_1-xNb_x', 'Si_12B_6O_18', 'Si_12B_6O_19', 'WC_1-xNb_xC']\n",
      "New Elements: ['LiNi_2CoMn_1−xAl', 'LiNi_2CoMn_2O_4']\n",
      "Results: ['VO', 'KCu', 'KCu', 'SiO_2', 'SiC_x', 'WO_3', 'LiNi_0', 'LiNi_2', 'WO_12', 'Si_2O_3', 'Si_2O_5', 'V_2O_5', 'V_2O_3', 'In_2O_3', 'Fe_3O_4', 'At_2O_3', 'Si_12B_6', 'K_3C_60', 'K_3C_60', 'LiNi_2Co_0', 'LiNi_2Co_1', 'Si_12O_19', 'KC_2F_5N', 'Ca_3Co_2O_6', 'Ca_3Co_2O_6', 'WC_1-xN_x', 'Y_3Al_5O_12', 'Y_3Al_5O_12', 'Y_3Fe_5O_12', 'Y_3Fe_5O_12', 'LiNi_2CoMn_1', 'WC_1-xNb_x', 'Si_12B_6O_18', 'Si_12B_6O_19', 'WC_1-xNb_xC', 'Si_12B_12O_19', 'Si_12B_12O_19']\n",
      "New Elements: ['LiNi_2CoMn_1−xAl_']\n",
      "Results: ['VO', 'KCu', 'KCu', 'SiO_2', 'SiC_x', 'WO_3', 'LiNi_0', 'LiNi_2', 'WO_12', 'Si_2O_3', 'Si_2O_5', 'V_2O_5', 'V_2O_3', 'In_2O_3', 'Fe_3O_4', 'At_2O_3', 'Si_12B_6', 'K_3C_60', 'K_3C_60', 'LiNi_2Co_0', 'LiNi_2Co_1', 'Si_12O_19', 'KC_2F_5N', 'Ca_3Co_2O_6', 'Ca_3Co_2O_6', 'WC_1-xN_x', 'Y_3Al_5O_12', 'Y_3Al_5O_12', 'Y_3Fe_5O_12', 'Y_3Fe_5O_12', 'LiNi_2CoMn_1', 'WC_1-xNb_x', 'Si_12B_6O_18', 'Si_12B_6O_19', 'WC_1-xNb_xC', 'Si_12B_12O_19', 'Si_12B_12O_19', 'LiNi_2CoMn_2O_4', 'LiNi_2CoMn_2O_4']\n",
      "New Elements: ['LiNi_2CoMn_1−xAl_x']\n",
      "Results: ['VO', 'KCu', 'KCu', 'SiO_2', 'SiC_x', 'WO_3', 'LiNi_0', 'LiNi_2', 'WO_12', 'Si_2O_3', 'Si_2O_5', 'V_2O_5', 'V_2O_3', 'In_2O_3', 'Fe_3O_4', 'At_2O_3', 'Si_12B_6', 'K_3C_60', 'K_3C_60', 'LiNi_2Co_0', 'LiNi_2Co_1', 'Si_12O_19', 'KC_2F_5N', 'Ca_3Co_2O_6', 'Ca_3Co_2O_6', 'WC_1-xN_x', 'Y_3Al_5O_12', 'Y_3Al_5O_12', 'Y_3Fe_5O_12', 'Y_3Fe_5O_12', 'LiNi_2CoMn_1', 'WC_1-xNb_x', 'Si_12B_6O_18', 'Si_12B_6O_19', 'WC_1-xNb_xC', 'Si_12B_12O_19', 'Si_12B_12O_19', 'LiNi_2CoMn_2O_4', 'LiNi_2CoMn_2O_4']\n",
      "New Elements: ['LiNi_2CoMn_1−xAl_xO']\n",
      "Results: ['VO', 'KCu', 'KCu', 'SiO_2', 'SiC_x', 'WO_3', 'LiNi_0', 'LiNi_2', 'WO_12', 'Si_2O_3', 'Si_2O_5', 'V_2O_5', 'V_2O_3', 'In_2O_3', 'Fe_3O_4', 'At_2O_3', 'Si_12B_6', 'K_3C_60', 'K_3C_60', 'LiNi_2Co_0', 'LiNi_2Co_1', 'Si_12O_19', 'KC_2F_5N', 'Ca_3Co_2O_6', 'Ca_3Co_2O_6', 'WC_1-xN_x', 'Y_3Al_5O_12', 'Y_3Al_5O_12', 'Y_3Fe_5O_12', 'Y_3Fe_5O_12', 'LiNi_2CoMn_1', 'WC_1-xNb_x', 'Si_12B_6O_18', 'Si_12B_6O_19', 'WC_1-xNb_xC', 'Si_12B_12O_19', 'Si_12B_12O_19', 'LiNi_2CoMn_2O_4', 'LiNi_2CoMn_2O_4']\n",
      "New Elements: ['LiNi_2CoMn_1−xAl_xO_']\n",
      "Results: ['VO', 'KCu', 'KCu', 'SiO_2', 'SiC_x', 'WO_3', 'LiNi_0', 'LiNi_2', 'WO_12', 'Si_2O_3', 'Si_2O_5', 'V_2O_5', 'V_2O_3', 'In_2O_3', 'Fe_3O_4', 'At_2O_3', 'Si_12B_6', 'K_3C_60', 'K_3C_60', 'LiNi_2Co_0', 'LiNi_2Co_1', 'Si_12O_19', 'KC_2F_5N', 'Ca_3Co_2O_6', 'Ca_3Co_2O_6', 'WC_1-xN_x', 'Y_3Al_5O_12', 'Y_3Al_5O_12', 'Y_3Fe_5O_12', 'Y_3Fe_5O_12', 'LiNi_2CoMn_1', 'WC_1-xNb_x', 'Si_12B_6O_18', 'Si_12B_6O_19', 'WC_1-xNb_xC', 'Si_12B_12O_19', 'Si_12B_12O_19', 'LiNi_2CoMn_2O_4', 'LiNi_2CoMn_2O_4']\n"
     ]
    }
   ],
   "source": [
    "def generate_prompt(prompt, output=None, eos_token=\"</s>\"):\n",
    "    instruction = \"Answer the materials:\\n\"\n",
    "    input = f\"Material with {prompt}\\n\"\n",
    "    output = f\"The molecular formula of the material: \"\n",
    "    prompt = (\" \").join([instruction, input, output])\n",
    "    return prompt\n",
    "\n",
    "input_prompt = generate_prompt('low magnetic damping constant in low temperture.')\n",
    "\n",
    "def next_step(elements, results):\n",
    "    # 存储新的列表和特殊字符的元素列表\n",
    "    new_elements = []\n",
    "    \n",
    "    # 特殊字符列表\n",
    "    special_chars = {'.', '</s>', ' ', 'The', '\\n', '(', '['}\n",
    "    \n",
    "    for element in elements:\n",
    "        # 添加一个空格，然后编码为输入张量\n",
    "        input_text = input_prompt + element\n",
    "        input_ids = tokenizer.encode(input_text, return_tensors=\"pt\")\n",
    "    \n",
    "        # 生成下一个字符的概率分布\n",
    "        with torch.no_grad():\n",
    "            logits = peft_model(input_ids).logits\n",
    "    \n",
    "        # 计算下一个字符的概率\n",
    "        next_char_prob = torch.softmax(logits[0, -1, :], dim=-1)\n",
    "    \n",
    "        # 寻找概率大于0.1且概率排在前三的字符\n",
    "        top_chars = torch.topk(next_char_prob, k=2)\n",
    "        for char_id, prob in zip(top_chars.indices, top_chars.values):\n",
    "            if prob > 0.2:\n",
    "                next_char = tokenizer.decode([char_id])\n",
    "                if next_char not in special_chars:\n",
    "                    new_element = element + next_char\n",
    "                    new_elements.append(new_element)\n",
    "                else:\n",
    "                    results.append(element)\n",
    "    \n",
    "    # 打印新的列表\n",
    "    print(\"New Elements:\", new_elements)\n",
    "    \n",
    "    # 打印特殊字符对应的元素列表\n",
    "    print(\"Results:\", results)\n",
    "    return new_elements, results\n",
    "\n",
    "results = []\n",
    "elements = [\n",
    "    'Li_', 'LiN', 'SiO', 'Si_', 'SiC', 'K_', 'KC', 'Ca_', 'V_', 'VO', 'In_', 'WC', 'WO', 'W_', 'Fe_', 'Re_', 'At_', 'Y_3', 'U_', 'Zn_', 'Zr_'\n",
    "]\n",
    "results = []\n",
    "\n",
    "for i in range(15):\n",
    "    elements, results = next_step(elements, results)"
   ]
  },
  {
   "cell_type": "code",
   "execution_count": null,
   "id": "b92cb591-5d24-4f7e-995c-59686b224c40",
   "metadata": {},
   "outputs": [],
   "source": []
  },
  {
   "cell_type": "code",
   "execution_count": null,
   "id": "f41bccd7-12b0-4839-95c2-7045475b4850",
   "metadata": {},
   "outputs": [],
   "source": []
  },
  {
   "cell_type": "code",
   "execution_count": null,
   "id": "4974e65c-c08c-4be9-b383-33e7108f482e",
   "metadata": {},
   "outputs": [],
   "source": []
  },
  {
   "cell_type": "code",
   "execution_count": null,
   "id": "acb93895-8b9e-4186-923a-c855656b9c4e",
   "metadata": {},
   "outputs": [],
   "source": []
  },
  {
   "cell_type": "code",
   "execution_count": 8,
   "id": "85577f52-cb0b-474e-b6a6-0ec0ba85a562",
   "metadata": {},
   "outputs": [
    {
     "name": "stdout",
     "output_type": "stream",
     "text": [
      "Answer the materials:\n",
      " Material with low magnetic damping constant.\n",
      " The molecular formula of the material: \n",
      "New Elements: ['Li_', 'LiN', 'SiO', 'Si_', 'SiC', 'K_', 'KC', 'Ca_', 'V_', 'VO', 'V(', 'In_', 'WC', 'WO', 'W_', 'Fe_', 'Re_', 'Atleast', 'Atom', 'At_', 'Acet', 'Ac_', 'U(', 'UO', 'U_', 'Noinformation', 'Nodata', 'Zn_', 'Zn(', 'Zr_', 'Zr(']\n",
      "Results: []\n"
     ]
    }
   ],
   "source": [
    "def generate_prompt(prompt, output=None, eos_token=\"</s>\"):\n",
    "    instruction = \"Answer the materials:\\n\"\n",
    "    input = f\"Material with {prompt}\\n\"\n",
    "    output = f\"The molecular formula of the material: \"\n",
    "    prompt = (\" \").join([instruction, input, output])\n",
    "    return prompt\n",
    "\n",
    "input_prompt = generate_prompt('low magnetic damping constant.')\n",
    "print(input_prompt)\n",
    "input_tokens = tokenizer(input_prompt, return_tensors=\"pt\")[\"input_ids\"].to(\"cuda\")\n",
    "\n",
    "elements = [\n",
    "    \"Li\", \"Si\", \"K\", \"Ca\", \"V\", \"In\", \"W\", \"Fe\", \"Re\", \"At\", \"Ac\", \"Th\", \"U\", \"No\", \"Zn\", \"Zr\"\n",
    "]\n",
    "\n",
    "# 存储新的列表和特殊字符的元素列表\n",
    "new_elements = []\n",
    "results = []\n",
    "\n",
    "# 特殊字符列表\n",
    "special_chars = {'.', '</s>', ' ', 'The', '\\n'}\n",
    "\n",
    "for element in elements:\n",
    "    # 添加一个空格，然后编码为输入张量\n",
    "    input_text = input_prompt + element\n",
    "    input_ids = tokenizer.encode(input_text, return_tensors=\"pt\")\n",
    "\n",
    "    # 生成下一个字符的概率分布\n",
    "    with torch.no_grad():\n",
    "        logits = peft_model(input_ids).logits\n",
    "\n",
    "    # 计算下一个字符的概率\n",
    "    next_char_prob = torch.softmax(logits[0, -1, :], dim=-1)\n",
    "\n",
    "    # 寻找概率大于0.1且概率排在前三的字符\n",
    "    top_chars = torch.topk(next_char_prob, k=3)\n",
    "    for char_id, prob in zip(top_chars.indices, top_chars.values):\n",
    "        if prob > 0.1:\n",
    "            next_char = tokenizer.decode([char_id])\n",
    "            if next_char not in special_chars:\n",
    "                new_element = element + next_char\n",
    "                new_elements.append(new_element)\n",
    "            else:\n",
    "                results.append(element)\n",
    "\n",
    "# 打印新的列表\n",
    "print(\"New Elements:\", new_elements)\n",
    "\n",
    "# 打印特殊字符对应的元素列表\n",
    "print(\"Results:\", results)"
   ]
  },
  {
   "cell_type": "code",
   "execution_count": 9,
   "id": "58679658-ed0c-4571-b797-e40d9469129b",
   "metadata": {},
   "outputs": [
    {
     "name": "stdout",
     "output_type": "stream",
     "text": [
      "New Elements: ['Li_2', 'Li_3', 'LiNi', 'LiNb', 'LiN(', 'SiO_', 'Si_2', 'Si_1', 'Si_3', 'SiC_', 'K_2', 'K_3', 'KC_', 'KCu', 'Ca_2', 'Ca_3', 'Ca_1', 'V_2', 'V_4', 'V_1', 'VO(', 'In_2', 'In_3', 'In_4', 'WC_', 'WO_', 'W_2', 'W_1', 'W_3', 'Fe_2', 'Fe_3', 'Fe_1', 'Re_2', 'Re_3', 'At_2', 'At_1', 'Ac_2', 'U_2', 'U_3', 'U_1', 'Zn_2', 'Zn_1', 'Zr_2', 'Zr_6']\n",
      "Results: ['SiO', 'SiC']\n"
     ]
    }
   ],
   "source": [
    "elements = [\n",
    "    'Li_', 'LiN', 'SiO', 'Si_', 'SiC', 'K_', 'KC', 'Ca_', 'V_', 'VO', 'In_', 'WC', 'WO', 'W_', 'Fe_', 'Re_', 'At_', 'Ac_', 'U_', 'Zn_', 'Zr_'\n",
    "]\n",
    "\n",
    "# 存储新的列表和特殊字符的元素列表\n",
    "new_elements = []\n",
    "results = []\n",
    "\n",
    "# 特殊字符列表\n",
    "special_chars = {'.', '</s>', ' ', 'The', '\\n'}\n",
    "\n",
    "for element in elements:\n",
    "    # 添加一个空格，然后编码为输入张量\n",
    "    input_text = input_prompt + element\n",
    "    input_ids = tokenizer.encode(input_text, return_tensors=\"pt\").to(\"cuda\")\n",
    "\n",
    "    # 生成下一个字符的概率分布\n",
    "    with torch.no_grad():\n",
    "        logits = peft_model(input_ids).logits\n",
    "\n",
    "    # 计算下一个字符的概率\n",
    "    next_char_prob = torch.softmax(logits[0, -1, :], dim=-1)\n",
    "\n",
    "    # 寻找概率大于0.1且概率排在前三的字符\n",
    "    top_chars = torch.topk(next_char_prob, k=3)\n",
    "    for char_id, prob in zip(top_chars.indices, top_chars.values):\n",
    "        if prob > 0.1:\n",
    "            next_char = tokenizer.decode([char_id])\n",
    "            if next_char not in special_chars:\n",
    "                new_element = element + next_char\n",
    "                new_elements.append(new_element)\n",
    "            else:\n",
    "                results.append(element)\n",
    "\n",
    "# 打印新的列表\n",
    "print(\"New Elements:\", new_elements)\n",
    "\n",
    "# 打印特殊字符对应的元素列表\n",
    "print(\"Results:\", results)"
   ]
  },
  {
   "cell_type": "code",
   "execution_count": 10,
   "id": "789d7dfb-1434-4030-8ce1-c33e94468b76",
   "metadata": {},
   "outputs": [
    {
     "name": "stdout",
     "output_type": "stream",
     "text": [
      "New Elements: ['Li_2O', 'Li_3N', 'LiNi_', 'LiNbO', 'LiN(CH', 'LiN(C', 'LiN(Si', 'SiO_2', 'Si_2O', 'Si_12', 'Si_3O', 'Si_3N', 'SiC_2', 'SiC_x', 'SiC_8', 'K_2C', 'K_3C', 'K_3[', 'K_3Fe', 'KC_2', 'KC_8', 'KC_4', 'KCu(', 'KCu[', 'Ca_2M', 'Ca_2Co', 'Ca_3(', 'Ca_3Co', 'Ca_12', 'Ca_10', 'V_2O', 'V_4O', 'V_4Co', 'V_12', 'V_10', 'VO(CO', 'VO(C', 'VO(OH', 'In_2O', 'In_3S', 'In_4(', 'In_4S', 'WC_1', 'WO_1', 'WO_3', 'WO_2', 'W_2O', 'W_2C', 'W_12', 'W_10', 'W_3C', 'Fe_2O', 'Fe_2(', 'Fe_2Si', 'Fe_3O', 'Fe_3C', 'Fe_12', 'Fe_10', 'Re_2O', 'Re_2Co', 'Re_3B', 'At_2O', 'At_2X', 'At_12', 'Ac_2O', 'U_2O', 'U_2(', 'U_3P', 'U_12', 'U_10', 'Zn_2Cr', 'Zn_12', 'Zr_2O', 'Zr_2(', 'Zr_6C', 'Zr_6O']\n",
      "Results: ['SiO', 'SiC', 'Ca_2', 'Ca_1', 'V_1', 'At_1', 'Zn_2', 'Zn_1']\n"
     ]
    }
   ],
   "source": [
    "elements = [\n",
    "    'Li_2', 'Li_3', 'LiNi', 'LiNb', 'LiN(', 'SiO_', 'Si_2', 'Si_1', 'Si_3', 'SiC_', 'K_2', 'K_3', 'KC_', 'KCu', 'Ca_2', 'Ca_3', 'Ca_1', 'V_2', 'V_4', 'V_1', 'VO(', 'In_2', 'In_3', 'In_4', 'WC_', 'WO_', 'W_2', 'W_1', 'W_3', 'Fe_2', 'Fe_3', 'Fe_1', 'Re_2', 'Re_3', 'At_2', 'At_1', 'Ac_2', 'U_2', 'U_3', 'U_1', 'Zn_2', 'Zn_1', 'Zr_2', 'Zr_6'\n",
    "]\n",
    "\n",
    "# 存储新的列表和特殊字符的元素列表\n",
    "new_elements = []\n",
    "\n",
    "# 特殊字符列表\n",
    "special_chars = {'.', '</s>', ' ', 'The', '\\n'}\n",
    "\n",
    "for element in elements:\n",
    "    # 添加一个空格，然后编码为输入张量\n",
    "    input_text = input_prompt + element\n",
    "    input_ids = tokenizer.encode(input_text, return_tensors=\"pt\").to(\"cuda\")\n",
    "\n",
    "    # 生成下一个字符的概率分布\n",
    "    with torch.no_grad():\n",
    "        logits = peft_model(input_ids).logits\n",
    "\n",
    "    # 计算下一个字符的概率\n",
    "    next_char_prob = torch.softmax(logits[0, -1, :], dim=-1)\n",
    "\n",
    "    # 寻找概率大于0.1且概率排在前三的字符\n",
    "    top_chars = torch.topk(next_char_prob, k=3)\n",
    "    for char_id, prob in zip(top_chars.indices, top_chars.values):\n",
    "        if prob > 0.1:\n",
    "            next_char = tokenizer.decode([char_id])\n",
    "            if next_char not in special_chars:\n",
    "                new_element = element + next_char\n",
    "                new_elements.append(new_element)\n",
    "            else:\n",
    "                results.append(element)\n",
    "\n",
    "# 打印新的列表\n",
    "print(\"New Elements:\", new_elements)\n",
    "\n",
    "# 打印特殊字符对应的元素列表\n",
    "print(\"Results:\", results)"
   ]
  },
  {
   "cell_type": "code",
   "execution_count": 11,
   "id": "893f73a6-788b-4b8e-a67e-bed0d8b09520",
   "metadata": {},
   "outputs": [
    {
     "name": "stdout",
     "output_type": "stream",
     "text": [
      "New Elements: ['Li_2O_', 'Li_2O-', 'Li_3N_', 'Li_3Ni', 'LiNi_0', 'LiNi_2', 'LiNi_1', 'LiNbO_', 'Si_2O_', 'Si_12O', 'Si_12B', 'Si_12C', 'Si_3O_', 'Si_3N_', 'SiC_2H', 'SiC_2O', 'SiC_xO', 'SiC_xH', 'SiC_8H', 'K_2Cu', 'K_2C_', 'K_3C_', 'K_3Cu', 'K_3FeCl', 'K_3Fe_', 'KC_2H', 'KC_2O', 'KC_2F', 'KC_8H', 'KC_4H', 'Ca_2Mg', 'Ca_2Mn', 'Ca_2CoAl', 'Ca_2Co_', 'Ca_2CoM', 'Ca_3Co_', 'Ca_10Al', 'V_2O_', 'V_4O_', 'V_4Co_', 'V_12O', 'V_12C', 'V_100', 'V_10O', 'In_2O_', 'In_3Sb', 'In_3Sn', 'In_4Sn', 'In_4Sb', 'In_4S_', 'WC_1-', 'WC_1−', 'WO_12', 'WO_10', 'W_2O_', 'W_2C_', 'W_12C', 'W_12O', 'W_100', 'W_3C_', 'Fe_2O_', 'Fe_2SiO', 'Fe_2Si_', 'Fe_3O_', 'Fe_3C_', 'Fe_12N', 'Fe_12C', 'Fe_100', 'Re_2O_', 'Re_2Co_', 'Re_3B_', 'At_2O_', 'At_2Xe', 'At_2X_', 'At_12B', 'At_12C', 'U_2O_', 'U_3P_', 'U_12C', 'Zn_2CrO', 'Zn_2CrS', 'Zn_2Cr_', 'Zn_12C', 'Zr_2O_', 'Zr_6Cu', 'Zr_6C_', 'Zr_6Cd', 'Zr_6O_']\n",
      "Results: ['SiO', 'SiC', 'Ca_2', 'Ca_1', 'V_1', 'At_1', 'Zn_2', 'Zn_1', 'Li_2O', 'SiO_2', 'SiC_2', 'SiC_x', 'SiC_8', 'K_3Fe', 'Ca_12', 'Ca_10', 'WO_3', 'W_2C', 'W_3C', 'Fe_3C', 'Re_3B', 'Ac_2O', 'Ac_2O']\n"
     ]
    }
   ],
   "source": [
    "elements = [\n",
    "    'Li_2O', 'Li_3N', 'LiNi_', 'LiNbO', 'SiO_2', 'Si_2O', 'Si_12', 'Si_3O', 'Si_3N', 'SiC_2', 'SiC_x', 'SiC_8', 'K_2C', 'K_3C', \n",
    "    'K_3Fe', 'KC_2', 'KC_8', 'KC_4', 'Ca_2M', 'Ca_2Co', 'Ca_3Co', 'Ca_12', 'Ca_10', 'V_2O', 'V_4O', 'V_4Co', 'V_12', 'V_10', \n",
    "    'In_2O', 'In_3S', 'In_4S', 'WC_1', 'WO_1', 'WO_3', 'WO_2', 'W_2O', 'W_2C', 'W_12', 'W_10', 'W_3C', 'Fe_2O', 'Fe_2Si', \n",
    "    'Fe_3O', 'Fe_3C', 'Fe_12', 'Fe_10', 'Re_2O', 'Re_2Co', 'Re_3B', 'At_2O', 'At_2X', 'At_12', 'Ac_2O', 'U_2O', 'U_3P', 'U_12', \n",
    "    'U_10', 'Zn_2Cr', 'Zn_12', 'Zr_2O', 'Zr_6C', 'Zr_6O'\n",
    "]\n",
    "\n",
    "# 存储新的列表和特殊字符的元素列表\n",
    "new_elements = []\n",
    "\n",
    "# 特殊字符列表\n",
    "special_chars = {'.', '</s>', ' ', 'The', '\\n', '(', '['}\n",
    "\n",
    "for element in elements:\n",
    "    # 添加一个空格，然后编码为输入张量\n",
    "    input_text = input_prompt + element\n",
    "    input_ids = tokenizer.encode(input_text, return_tensors=\"pt\").to(\"cuda\")\n",
    "\n",
    "    # 生成下一个字符的概率分布\n",
    "    with torch.no_grad():\n",
    "        logits = peft_model(input_ids).logits\n",
    "\n",
    "    # 计算下一个字符的概率\n",
    "    next_char_prob = torch.softmax(logits[0, -1, :], dim=-1)\n",
    "\n",
    "    # 寻找概率大于0.1且概率排在前三的字符\n",
    "    top_chars = torch.topk(next_char_prob, k=3)\n",
    "    for char_id, prob in zip(top_chars.indices, top_chars.values):\n",
    "        if prob > 0.1:\n",
    "            next_char = tokenizer.decode([char_id])\n",
    "            if next_char not in special_chars:\n",
    "                new_element = element + next_char\n",
    "                new_elements.append(new_element)\n",
    "            else:\n",
    "                results.append(element)\n",
    "\n",
    "# 打印新的列表\n",
    "print(\"New Elements:\", new_elements)\n",
    "\n",
    "# 打印特殊字符对应的元素列表\n",
    "print(\"Results:\", results)"
   ]
  },
  {
   "cell_type": "code",
   "execution_count": 12,
   "id": "538b09a4-57d4-43a2-b72b-25aff76737b2",
   "metadata": {},
   "outputs": [
    {
     "name": "stdout",
     "output_type": "stream",
     "text": [
      "New Elements: ['Li_2O_2', 'Li_2O_3', 'Li_2O-N', 'Li_3N_2', 'Li_3N_4', 'Li_3N_3', 'Li_3Ni_', 'LiNi_2Co', 'LiNi_2M', 'LiNi_1-', 'LiNi_1−', 'LiNbO_3', 'Si_2O_3', 'Si_2O_5', 'Si_12O_', 'Si_12B_', 'Si_12C_', 'Si_3O_1', 'Si_3N_4', 'SiC_2H_', 'SiC_2O_', 'SiC_xO_', 'SiC_xH_', 'SiC_8H_', 'K_2CuCl', 'K_2C_2', 'K_2C_6', 'K_2C_4', 'K_3C_6', 'K_3C_2', 'K_3CuS', 'K_3FeCl_', 'K_3Fe_2', 'K_3Fe_5', 'K_3Fe_4', 'KC_2H_', 'KC_2O_', 'KC_2F_', 'KC_8H_', 'KC_4H_', 'Ca_2Mg_', 'Ca_2Mn_', 'Ca_2MnSi', 'Ca_2CoAl_', 'Ca_2Co_1', 'Ca_2Co_2', 'Ca_2Co_3', 'Ca_2CoMn', 'Ca_2CoMg', 'Ca_3Co_2', 'Ca_3Co_4', 'Ca_3Co_1', 'Ca_10Al_', 'V_2O_5', 'V_2O_3', 'V_4O_1', 'V_4O_9', 'V_4Co_1', 'V_4Co_2', 'V_4Co_3', 'V_12O_', 'V_12C_', 'V_10O_', 'In_2O_3', 'In_3Sb_', 'In_3SnS', 'In_3Sn_', 'In_4Sn_', 'In_4SnS', 'In_4Sb_', 'In_4S_3', 'In_4S_4', 'In_4S_8', 'WC_1-x', 'WC_1−x', 'WO_12O', 'WO_10O', 'WO_10^', 'W_2O_1', 'W_2O_7', 'W_2O_8', 'W_2C_1', 'W_2C_x', 'W_12C_', 'W_12O_', 'W_3C_1', 'W_3C_2', 'Fe_2O_3', 'Fe_2O_4', 'Fe_2SiO_', 'Fe_2Si_1', 'Fe_2Si_3', 'Fe_2Si_2', 'Fe_3O_4', 'Fe_3C_2', 'Fe_12N_', 'Fe_12C_', 'Fe_100N', 'Fe_100Co', 'Re_2O_7', 'Re_2O_5', 'Re_2Co_1', 'Re_2Co_2', 'Re_3B_2', 'Re_3B_1', 'Re_3B_3', 'At_2O_3', 'At_2Xe_', 'At_2X_3', 'At_2X_2', 'At_2X_1', 'At_12B_', 'At_12C_', 'U_2O_7', 'U_2O_3', 'U_3P_2', 'U_3P_4', 'U_3P_5', 'U_12C_', 'Zn_2CrO_', 'Zn_2CrSb', 'Zn_2CrSn', 'Zn_2Cr_0', 'Zn_2Cr_1', 'Zn_12Cu', 'Zn_12Cd', 'Zr_2O_3', 'Zr_2O_2', 'Zr_2O_4', 'Zr_6Cu_', 'Zr_6C_2', 'Zr_6C_1', 'Zr_6Cd_', 'Zr_6O_1']\n",
      "Results: ['SiO', 'SiC', 'Ca_2', 'Ca_1', 'V_1', 'At_1', 'Zn_2', 'Zn_1', 'Li_2O', 'SiO_2', 'SiC_2', 'SiC_x', 'SiC_8', 'K_3Fe', 'Ca_12', 'Ca_10', 'WO_3', 'W_2C', 'W_3C', 'Fe_3C', 'Re_3B', 'Ac_2O', 'Ac_2O', 'LiNi_0', 'LiNi_2', 'LiNi_1', 'K_2Cu', 'K_2Cu', 'K_3Cu', 'K_3Cu', 'In_3Sn', 'WO_12', 'WO_10']\n"
     ]
    }
   ],
   "source": [
    "elements = [\n",
    "    'Li_2O_', 'Li_2O-', 'Li_3N_', 'Li_3Ni', 'LiNi_0', 'LiNi_2', 'LiNi_1', 'LiNbO_', 'Si_2O_', 'Si_12O', 'Si_12B', 'Si_12C', 'Si_3O_', 'Si_3N_', 'SiC_2H', 'SiC_2O', 'SiC_xO', 'SiC_xH', 'SiC_8H', 'K_2Cu', 'K_2C_', 'K_3C_', 'K_3Cu', 'K_3FeCl', 'K_3Fe_', 'KC_2H', 'KC_2O', 'KC_2F', 'KC_8H', 'KC_4H', 'Ca_2Mg', 'Ca_2Mn', 'Ca_2CoAl', 'Ca_2Co_', 'Ca_2CoM', 'Ca_3Co_', 'Ca_10Al', 'V_2O_', 'V_4O_', 'V_4Co_', 'V_12O', 'V_12C', 'V_100', 'V_10O', 'In_2O_', 'In_3Sb', 'In_3Sn', 'In_4Sn', 'In_4Sb', 'In_4S_', 'WC_1-', 'WC_1−', 'WO_12', 'WO_10', 'W_2O_', 'W_2C_', 'W_12C', 'W_12O', 'W_100', 'W_3C_', 'Fe_2O_', 'Fe_2SiO', 'Fe_2Si_', 'Fe_3O_', 'Fe_3C_', 'Fe_12N', 'Fe_12C', 'Fe_100', 'Re_2O_', 'Re_2Co_', 'Re_3B_', 'At_2O_', 'At_2Xe', 'At_2X_', 'At_12B', 'At_12C', 'U_2O_', 'U_3P_', 'U_12C', 'Zn_2CrO', 'Zn_2CrS', 'Zn_2Cr_', 'Zn_12C', 'Zr_2O_', 'Zr_6Cu', 'Zr_6C_', 'Zr_6Cd', 'Zr_6O_'\n",
    "]\n",
    "\n",
    "# 存储新的列表和特殊字符的元素列表\n",
    "new_elements = []\n",
    "\n",
    "# 特殊字符列表\n",
    "special_chars = {'.', '</s>', ' ', 'The', '\\n', '(', '['}\n",
    "\n",
    "for element in elements:\n",
    "    # 添加一个空格，然后编码为输入张量\n",
    "    input_text = input_prompt + element\n",
    "    input_ids = tokenizer.encode(input_text, return_tensors=\"pt\").to(\"cuda\")\n",
    "\n",
    "    # 生成下一个字符的概率分布\n",
    "    with torch.no_grad():\n",
    "        logits = peft_model(input_ids).logits\n",
    "\n",
    "    # 计算下一个字符的概率\n",
    "    next_char_prob = torch.softmax(logits[0, -1, :], dim=-1)\n",
    "\n",
    "    # 寻找概率大于0.1且概率排在前三的字符\n",
    "    top_chars = torch.topk(next_char_prob, k=3)\n",
    "    for char_id, prob in zip(top_chars.indices, top_chars.values):\n",
    "        if prob > 0.1:\n",
    "            next_char = tokenizer.decode([char_id])\n",
    "            if next_char not in special_chars:\n",
    "                new_element = element + next_char\n",
    "                new_elements.append(new_element)\n",
    "            else:\n",
    "                results.append(element)\n",
    "\n",
    "# 打印新的列表\n",
    "print(\"New Elements:\", new_elements)\n",
    "\n",
    "# 打印特殊字符对应的元素列表\n",
    "print(\"Results:\", results)"
   ]
  },
  {
   "cell_type": "code",
   "execution_count": 13,
   "id": "95aa9d93-4481-437b-aa8a-351bd9f59ea0",
   "metadata": {},
   "outputs": [
    {
     "name": "stdout",
     "output_type": "stream",
     "text": [
      "New Elements: ['Li_3N_2O', 'Li_3N_4O', 'Li_3N_3O', 'Li_3Ni_2', 'Li_3Ni_4', 'Li_3Ni_1', 'LiNi_2CoM', 'LiNi_2Co_', 'LiNi_2Mn', 'LiNi_2Mg', 'Si_12O_1', 'Si_12B_1', 'Si_12B_6', 'Si_12C_6', 'Si_12C_1', 'Si_3O_10', 'SiC_2H_2', 'SiC_2H_5', 'SiC_2H_3', 'SiC_2O_2', 'SiC_2O_3', 'SiC_2O_4', 'SiC_xO_y', 'SiC_xH_2', 'SiC_xH_y', 'SiC_8H_1', 'SiC_8H_6', 'SiC_8H_8', 'K_2CuCl_', 'K_2C_2O', 'K_2C_2N', 'K_2C_60', 'K_2C_4H', 'K_2C_4N', 'K_2C_4O', 'K_3C_60', 'K_3C_2N', 'K_3C_2O', 'K_3CuSb', 'K_3CuSn', 'K_3FeCl_6', 'K_3FeCl_1', 'K_3FeCl_9', 'K_3Fe_2O', 'K_3Fe_5O', 'K_3Fe_4O', 'KC_2H_5', 'KC_2H_4', 'KC_2H_3', 'KC_2O_4', 'KC_2O_3', 'KC_2F_5', 'KC_2F_4', 'KC_8H_1', 'KC_8H_8', 'KC_4H_4', 'KC_4H_8', 'KC_4H_1', 'Ca_2Mg_2', 'Ca_2Mg_1', 'Ca_2Mg_3', 'Ca_2Mn_3', 'Ca_2Mn_2', 'Ca_2Mn_1', 'Ca_2MnSi_', 'Ca_2MnSiO', 'Ca_2CoAl_1', 'Ca_2CoAl_2', 'Ca_2CoAl_4', 'Ca_2Co_12', 'Ca_2Co_2O', 'Ca_2Co_2M', 'Ca_2Co_2Al', 'Ca_2Co_3O', 'Ca_2CoMnSi', 'Ca_2CoMnO', 'Ca_2CoMn_', 'Ca_2CoMgSi', 'Ca_2CoMgZ', 'Ca_2CoMg_', 'Ca_3Co_2O', 'Ca_3Co_4O', 'Ca_3Co_12', 'Ca_10Al_1', 'Ca_10Al_9', 'Ca_10Al_2', 'V_4O_12', 'V_4O_10', 'V_4O_11', 'V_4Co_12', 'V_4Co_16', 'V_4Co_2Cr', 'V_4Co_2M', 'V_12O_1', 'V_12O_2', 'V_12C_1', 'V_12C_2', 'V_10O_1', 'V_10O_2', 'In_3Sb_2', 'In_3Sb_5', 'In_3Sb_4', 'In_3SnS_', 'In_3Sn_2', 'In_3Sn_4', 'In_3Sn_3', 'In_4Sn_4', 'In_4Sn_1', 'In_4Sn_3', 'In_4SnS_', 'In_4SnSb', 'In_4Sb_1', 'In_4Sb_4', 'In_4Sb_2', 'In_4S_3O', 'In_4S_4O', 'WC_1-xN', 'WC_1−xN', 'W_2O_12', 'W_2O_10', 'W_2O_7S', 'W_2O_8S', 'W_2C_18', 'W_2C_12', 'W_2C_xN', 'W_12C_1', 'W_12C_2', 'W_12O_4', 'W_12O_1', 'W_12O_2', 'W_3C_12', 'W_3C_18', 'W_3C_2N', 'Fe_2SiO_4', 'Fe_2Si_3O', 'Fe_2Si_3B', 'Fe_2Si_2O', 'Fe_3O_4@', 'Fe_3C_2O', 'Fe_3C_2T', 'Fe_12N_2', 'Fe_12N_1', 'Fe_12C_6', 'Fe_12C_1', 'Fe_12C_2', 'Re_2Co_17', 'Re_2Co_12', 'Re_2Co_10', 'Re_2Co_2Si', 'Re_2Co_2Al', 'Re_3B_12', 'Re_3B_10', 'At_2Xe_1', 'At_2Xe_3', 'At_2Xe_2', 'At_2X_3Y', 'At_2X_2Y', 'At_2X_12', 'At_2X_10', 'At_12B_1', 'At_12B_6', 'At_12C_1', 'At_12C_2', 'U_2O_3N', 'U_3P_2O', 'U_3P_4O', 'U_3P_5O', 'U_3P_5S', 'U_12C_1', 'U_12C_6', 'U_12C_2', 'Zn_2CrO_4', 'Zn_2CrSb_', 'Zn_2CrSbS', 'Zn_2CrSnS', 'Zn_12Cu_', 'Zn_12Cd_', 'Zr_2O_2Si', 'Zr_2O_2N', 'Zr_6Cu_3', 'Zr_6Cu_1', 'Zr_6Cu_2', 'Zr_6C_2H', 'Zr_6C_2O', 'Zr_6C_2N', 'Zr_6C_12', 'Zr_6Cd_1', 'Zr_6Cd_2', 'Zr_6Cd_3', 'Zr_6O_12', 'Zr_6O_13', 'Zr_6O_11']\n",
      "Results: ['SiO', 'SiC', 'Ca_2', 'Ca_1', 'V_1', 'At_1', 'Zn_2', 'Zn_1', 'Li_2O', 'SiO_2', 'SiC_2', 'SiC_x', 'SiC_8', 'K_3Fe', 'Ca_12', 'Ca_10', 'WO_3', 'W_2C', 'W_3C', 'Fe_3C', 'Re_3B', 'Ac_2O', 'Ac_2O', 'LiNi_0', 'LiNi_2', 'LiNi_1', 'K_2Cu', 'K_2Cu', 'K_3Cu', 'K_3Cu', 'In_3Sn', 'WO_12', 'WO_10', 'Li_2O_2', 'Li_2O_3', 'Li_3N_2', 'Li_3N_4', 'Li_3N_3', 'LiNbO_3', 'Si_2O_3', 'Si_2O_5', 'Si_3N_4', 'K_3Fe_2', 'Ca_2Co_1', 'Ca_2Co_1', 'Ca_3Co_1', 'V_2O_5', 'V_2O_3', 'V_4O_9', 'V_4Co_1', 'In_2O_3', 'In_4S_3', 'In_4S_4', 'In_4S_8', 'W_2O_7', 'W_2O_8', 'W_2C_x', 'Fe_2O_3', 'Fe_2O_4', 'Fe_2Si_1', 'Fe_2Si_1', 'Fe_2Si_1', 'Fe_2Si_3', 'Fe_3O_4', 'Fe_3C_2', 'Re_2O_7', 'Re_2O_5', 'Re_3B_2', 'Re_3B_3', 'At_2O_3', 'At_2X_3', 'At_2X_2', 'U_2O_7', 'U_2O_3', 'U_3P_4', 'U_3P_5', 'Zn_2CrSb', 'Zn_2CrSn', 'Zn_2Cr_0', 'Zn_2Cr_1', 'Zn_2Cr_1', 'Zn_2Cr_1', 'Zr_2O_3', 'Zr_2O_3', 'Zr_2O_2', 'Zr_2O_4', 'Zr_6C_1']\n"
     ]
    }
   ],
   "source": [
    "elements = [\n",
    "    'Li_2O_2', 'Li_2O_3', 'Li_3N_2', 'Li_3N_4', 'Li_3N_3', 'Li_3Ni_', 'LiNi_2Co', 'LiNi_2M', 'LiNbO_3', 'Si_2O_3', 'Si_2O_5', 'Si_12O_', \n",
    "    'Si_12B_', 'Si_12C_', 'Si_3O_1', 'Si_3N_4', 'SiC_2H_', 'SiC_2O_', 'SiC_xO_', 'SiC_xH_', 'SiC_8H_', 'K_2CuCl', 'K_2C_2', 'K_2C_6', \n",
    "    'K_2C_4', 'K_3C_6', 'K_3C_2', 'K_3CuS', 'K_3FeCl_', 'K_3Fe_2', 'K_3Fe_5', 'K_3Fe_4', 'KC_2H_', 'KC_2O_', 'KC_2F_', 'KC_8H_', 'KC_4H_', \n",
    "    'Ca_2Mg_', 'Ca_2Mn_', 'Ca_2MnSi', 'Ca_2CoAl_', 'Ca_2Co_1', 'Ca_2Co_2', 'Ca_2Co_3', 'Ca_2CoMn', 'Ca_2CoMg', 'Ca_3Co_2', 'Ca_3Co_4', \n",
    "    'Ca_3Co_1', 'Ca_10Al_', 'V_2O_5', 'V_2O_3', 'V_4O_1', 'V_4O_9', 'V_4Co_1', 'V_4Co_2', 'V_4Co_3', 'V_12O_', 'V_12C_', 'V_10O_', 'In_2O_3', \n",
    "    'In_3Sb_', 'In_3SnS', 'In_3Sn_', 'In_4Sn_', 'In_4SnS', 'In_4Sb_', 'In_4S_3', 'In_4S_4', 'In_4S_8', 'WC_1-x', 'WC_1−x',  \n",
    "    'W_2O_1', 'W_2O_7', 'W_2O_8', 'W_2C_1', 'W_2C_x', 'W_12C_', 'W_12O_', 'W_3C_1', 'W_3C_2', 'Fe_2O_3', 'Fe_2O_4', 'Fe_2SiO_', \n",
    "    'Fe_2Si_1', 'Fe_2Si_3', 'Fe_2Si_2', 'Fe_3O_4', 'Fe_3C_2', 'Fe_12N_', 'Fe_12C_', 'Re_2O_7', 'Re_2O_5', 'Re_2Co_1', \n",
    "    'Re_2Co_2', 'Re_3B_2', 'Re_3B_1', 'Re_3B_3', 'At_2O_3', 'At_2Xe_', 'At_2X_3', 'At_2X_2', 'At_2X_1', 'At_12B_', 'At_12C_', 'U_2O_7', 'U_2O_3', \n",
    "    'U_3P_2', 'U_3P_4', 'U_3P_5', 'U_12C_', 'Zn_2CrO_', 'Zn_2CrSb', 'Zn_2CrSn', 'Zn_2Cr_0', 'Zn_2Cr_1', 'Zn_12Cu', 'Zn_12Cd', 'Zr_2O_3', 'Zr_2O_2', \n",
    "    'Zr_2O_4', 'Zr_6Cu_', 'Zr_6C_2', 'Zr_6C_1', 'Zr_6Cd_', 'Zr_6O_1'\n",
    "]\n",
    "\n",
    "# 存储新的列表和特殊字符的元素列表\n",
    "new_elements = []\n",
    "\n",
    "# 特殊字符列表\n",
    "special_chars = {'.', '</s>', ' ', 'The', '\\n', '(', '[', '-', '−'}\n",
    "\n",
    "for element in elements:\n",
    "    # 添加一个空格，然后编码为输入张量\n",
    "    input_text = input_prompt + element\n",
    "    input_ids = tokenizer.encode(input_text, return_tensors=\"pt\").to(\"cuda\")\n",
    "\n",
    "    # 生成下一个字符的概率分布\n",
    "    with torch.no_grad():\n",
    "        logits = peft_model(input_ids).logits\n",
    "\n",
    "    # 计算下一个字符的概率\n",
    "    next_char_prob = torch.softmax(logits[0, -1, :], dim=-1)\n",
    "\n",
    "    # 寻找概率大于0.1且概率排在前三的字符\n",
    "    top_chars = torch.topk(next_char_prob, k=3)\n",
    "    for char_id, prob in zip(top_chars.indices, top_chars.values):\n",
    "        if prob > 0.1:\n",
    "            next_char = tokenizer.decode([char_id])\n",
    "            if next_char not in special_chars:\n",
    "                new_element = element + next_char\n",
    "                new_elements.append(new_element)\n",
    "            else:\n",
    "                results.append(element)\n",
    "\n",
    "# 打印新的列表\n",
    "print(\"New Elements:\", new_elements)\n",
    "\n",
    "# 打印特殊字符对应的元素列表\n",
    "print(\"Results:\", results)"
   ]
  },
  {
   "cell_type": "code",
   "execution_count": 14,
   "id": "6a58a375-bb09-4b30-8a30-bbc413064d28",
   "metadata": {},
   "outputs": [
    {
     "name": "stdout",
     "output_type": "stream",
     "text": [
      "New Elements: ['Li_3N_2O_', 'Li_3N_4O_', 'Li_3N_3O_', 'Li_3Ni_2M', 'Li_3Ni_2Co', 'Li_3Ni_4Co', 'LiNi_2CoMn', 'LiNi_2Co_0', 'LiNi_2Co_1', 'LiNi_2Co_2', 'LiNi_2Mn_', 'LiNi_2Mg_', 'Si_12O_19', 'Si_12O_16', 'Si_12O_18', 'Si_12B_12', 'Si_12B_18', 'Si_12B_19', 'Si_12B_6O', 'Si_12C_6H', 'Si_12C_18', 'Si_12C_12', 'SiC_2H_2O', 'SiC_2H_2N', 'SiC_2H_5O', 'SiC_2H_3O', 'SiC_2H_3N', 'SiC_2O_2H', 'SiC_xO_yH', 'SiC_xH_yO', 'SiC_8H_10', 'SiC_8H_16', 'SiC_8H_18', 'SiC_8H_6O', 'SiC_8H_6N', 'SiC_8H_8O', 'SiC_8H_8N', 'K_2CuCl_4', 'K_2C_2O_', 'K_2C_2N_', 'K_2C_60N', 'K_2C_4H_', 'K_2C_4N_', 'K_2C_4O_', 'K_3C_60N', 'K_3C_2N_', 'K_3C_2O_', 'K_3CuSbO', 'K_3CuSb_', 'K_3CuSnO', 'K_3CuSnF', 'K_3CuSnBr', 'K_3FeCl_6Br', 'K_3FeCl_6N', 'K_3FeCl_12', 'K_3FeCl_10', 'K_3FeCl_9N', 'K_3FeCl_9O', 'K_3Fe_2O_', 'K_3Fe_5O_', 'K_3Fe_4O_', 'KC_2H_5N', 'KC_2H_4N', 'KC_2H_3N', 'KC_2H_3O', 'KC_2O_3N', 'KC_2F_5N', 'KC_2F_5O', 'KC_2F_4N', 'KC_2F_4O', 'KC_8H_10', 'KC_8H_12', 'KC_8H_11', 'KC_8H_8N', 'KC_8H_8O', 'KC_4H_4N', 'KC_4H_4O', 'KC_4H_8N', 'KC_4H_8O', 'KC_4H_10', 'KC_4H_12', 'KC_4H_11', 'Ca_2Mg_2Si', 'Ca_2Mg_2Al', 'Ca_2Mg_3Si', 'Ca_2Mg_3Al', 'Ca_2Mn_3O', 'Ca_2Mn_2O', 'Ca_2MnSi_2', 'Ca_2MnSiO_', 'Ca_2CoAl_12', 'Ca_2CoAl_10', 'Ca_2CoAl_2O', 'Ca_2CoAl_2Si', 'Ca_2CoAl_4O', 'Ca_2Co_12O', 'Ca_2Co_12Al', 'Ca_2Co_2O_', 'Ca_2Co_2Mn', 'Ca_2Co_2Mg', 'Ca_2Co_2Al_', 'Ca_2Co_3O_', 'Ca_2CoMnSi_', 'Ca_2CoMnSiO', 'Ca_2CoMnO_', 'Ca_2CoMn_2', 'Ca_2CoMn_3', 'Ca_2CoMn_4', 'Ca_2CoMgSi_', 'Ca_2CoMgSiO', 'Ca_2CoMgZn', 'Ca_2CoMg_2', 'Ca_2CoMg_3', 'Ca_2CoMg_4', 'Ca_3Co_2O_', 'Ca_3Co_4O_', 'Ca_3Co_12O', 'Ca_10Al_10', 'Ca_10Al_12', 'Ca_10Al_9M', 'Ca_10Al_9Si', 'Ca_10Al_2Si', 'Ca_10Al_2O', 'Ca_10Al_20', 'V_4Co_12Cr', 'V_4Co_12Fe', 'V_4Co_16Cr', 'V_4Co_2Cr_', 'V_4Co_2Mn', 'V_12O_19', 'V_12O_18', 'V_12O_28', 'V_12C_18', 'V_12C_12', 'V_12C_2N', 'V_10O_16', 'V_10O_18', 'V_10O_17', 'V_10O_28', 'V_10O_20', 'V_10O_22', 'In_3Sb_2Te', 'In_3Sb_2O', 'In_3Sb_5Te', 'In_3Sb_5Se', 'In_3Sb_4O', 'In_3Sb_4Se', 'In_3Sb_4Te', 'In_3SnS_4', 'In_3Sn_2S', 'In_3Sn_2O', 'In_3Sn_4S', 'In_3Sn_4O', 'In_3Sn_3S', 'In_3Sn_3O', 'In_3Sn_3As', 'In_4Sn_4S', 'In_4Sn_4O', 'In_4Sn_12', 'In_4Sn_3S', 'In_4Sn_3O', 'In_4SnS_4', 'In_4SnSb_', 'In_4Sb_12', 'In_4Sb_4O', 'In_4Sb_4Te', 'In_4Sb_4Se', 'In_4Sb_2Te', 'In_4Sb_2O', 'In_4S_3O_', 'In_4S_4O_', 'WC_1-xNb', 'WC_1-xN_', 'WC_1−xNb', 'WC_1−xN_', 'W_2O_7S_', 'W_2O_8S_', 'W_2C_xN_', 'W_12C_18', 'W_12C_24', 'W_12C_20', 'W_12C_22', 'W_12O_40', 'W_12O_19', 'W_12O_18', 'W_12O_28', 'W_12O_20', 'W_12O_22', 'W_3C_12N', 'W_3C_12B', 'W_3C_18H', 'W_3C_18N', 'W_3C_2N_', 'Fe_2Si_3O_', 'Fe_2Si_3B_', 'Fe_2Si_2O_', 'Fe_3O_4@Si', 'Fe_3O_4@C', 'Fe_3C_2O_', 'Fe_3C_2T_', 'Fe_3C_2Ti', 'Fe_12N_2O', 'Fe_12N_12', 'Fe_12N_18', 'Fe_12C_6N', 'Fe_12C_6S', 'Fe_12C_18', 'Fe_12C_12', 'Fe_12C_2N', 'Fe_12C_2Si', 'Re_2Co_17B', 'Re_2Co_17Al', 'Re_2Co_12B', 'Re_2Co_12Al', 'Re_2Co_10B', 'Re_2Co_10Al', 'Re_2Co_2Si_', 'Re_2Co_2Al_', 'Re_3B_12C', 'Re_3B_10Si', 'At_2Xe_12', 'At_2Xe_13', 'At_2Xe_10', 'At_2Xe_3Y', 'At_2Xe_2Y', 'At_2X_3Y_', 'At_2X_2Y_', 'At_2X_2YZ', 'At_2X_12Y', 'At_2X_100', 'At_2X_10Y', 'At_12B_12', 'At_12B_18', 'At_12B_60', 'At_12B_6O', 'At_12C_18', 'At_12C_12', 'At_12C_24', 'At_12C_20', 'U_2O_3N_', 'U_2O_3NH', 'U_3P_2O_', 'U_3P_4O_', 'U_3P_5O_', 'U_3P_5S_', 'U_3P_5Sb', 'U_12C_12', 'U_12C_18', 'U_12C_6N', 'U_12C_24', 'U_12C_22', 'Zn_2CrSb_8', 'Zn_2CrSb_1', 'Zn_2CrSb_2', 'Zn_2CrSbS_', 'Zn_2CrSnS_', 'Zn_12Cu_2', 'Zn_12Cu_3', 'Zn_12Cu_1', 'Zn_12Cd_1', 'Zn_12Cd_3', 'Zn_12Cd_2', 'Zr_2O_2SiO', 'Zr_2O_2Si_', 'Zr_2O_2N_', 'Zr_6Cu_3Si', 'Zr_6Cu_12', 'Zr_6Cu_2Si', 'Zr_6Cu_2N', 'Zr_6C_2H_', 'Zr_6C_2O_', 'Zr_6C_2N_', 'Zr_6C_12H', 'Zr_6C_12O', 'Zr_6C_12N', 'Zr_6Cd_12', 'Zr_6Cd_2N', 'Zr_6Cd_3N', 'Zr_6O_12N', 'Zr_6O_13N', 'Zr_6O_11N', 'Zr_6O_11Cl']\n",
      "Results: ['SiO', 'SiC', 'Ca_2', 'Ca_1', 'V_1', 'At_1', 'Zn_2', 'Zn_1', 'Li_2O', 'SiO_2', 'SiC_2', 'SiC_x', 'SiC_8', 'K_3Fe', 'Ca_12', 'Ca_10', 'WO_3', 'W_2C', 'W_3C', 'Fe_3C', 'Re_3B', 'Ac_2O', 'Ac_2O', 'LiNi_0', 'LiNi_2', 'LiNi_1', 'K_2Cu', 'K_2Cu', 'K_3Cu', 'K_3Cu', 'In_3Sn', 'WO_12', 'WO_10', 'Li_2O_2', 'Li_2O_3', 'Li_3N_2', 'Li_3N_4', 'Li_3N_3', 'LiNbO_3', 'Si_2O_3', 'Si_2O_5', 'Si_3N_4', 'K_3Fe_2', 'Ca_2Co_1', 'Ca_2Co_1', 'Ca_3Co_1', 'V_2O_5', 'V_2O_3', 'V_4O_9', 'V_4Co_1', 'In_2O_3', 'In_4S_3', 'In_4S_4', 'In_4S_8', 'W_2O_7', 'W_2O_8', 'W_2C_x', 'Fe_2O_3', 'Fe_2O_4', 'Fe_2Si_1', 'Fe_2Si_1', 'Fe_2Si_1', 'Fe_2Si_3', 'Fe_3O_4', 'Fe_3C_2', 'Re_2O_7', 'Re_2O_5', 'Re_3B_2', 'Re_3B_3', 'At_2O_3', 'At_2X_3', 'At_2X_2', 'U_2O_7', 'U_2O_3', 'U_3P_4', 'U_3P_5', 'Zn_2CrSb', 'Zn_2CrSn', 'Zn_2Cr_0', 'Zn_2Cr_1', 'Zn_2Cr_1', 'Zn_2Cr_1', 'Zr_2O_3', 'Zr_2O_3', 'Zr_2O_2', 'Zr_2O_4', 'Zr_6C_1', 'Li_3Ni_2', 'Li_3Ni_4', 'Li_3Ni_1', 'Li_3Ni_1', 'Si_12B_6', 'Si_12C_6', 'Si_3O_10', 'Si_3O_10', 'SiC_2H_2', 'SiC_2H_5', 'SiC_2H_3', 'SiC_2O_2', 'SiC_2O_3', 'SiC_2O_4', 'SiC_xO_y', 'SiC_xH_2', 'SiC_xH_2', 'SiC_xH_y', 'K_2C_60', 'K_3C_60', 'K_3FeCl_6', 'K_3FeCl_9', 'KC_2O_4', 'KC_2O_3', 'Ca_2Mg_2', 'Ca_2Mg_1', 'Ca_2Mg_1', 'Ca_2Mg_3', 'Ca_2Mn_1', 'Ca_2Mn_1', 'Ca_2Mn_1', 'Ca_2CoAl_1', 'V_4O_12', 'V_4O_12', 'V_4O_10', 'V_4O_11', 'V_4O_11', 'V_4Co_12', 'V_4Co_16', 'V_12C_2', 'In_3Sn_2', 'In_3Sn_4', 'W_2O_12', 'W_2O_12', 'W_2O_10', 'W_2O_7S', 'W_2O_8S', 'W_2C_18', 'W_2C_12', 'W_3C_12', 'Fe_2SiO_4', 'Fe_2SiO_4', 'Fe_2Si_3B', 'Fe_12N_2', 'Fe_12C_6', 'Fe_12C_2', 'Re_2Co_17', 'Re_3B_12', 'Re_3B_10', 'At_2Xe_3', 'At_2Xe_2', 'At_2X_12', 'At_2X_10', 'U_12C_6', 'U_12C_2', 'Zn_2CrO_4', 'Zr_6Cu_1', 'Zr_6Cd_1', 'Zr_6Cd_2', 'Zr_6Cd_3', 'Zr_6O_12', 'Zr_6O_13', 'Zr_6O_11']\n"
     ]
    }
   ],
   "source": [
    "elements = [\n",
    "    'Li_3N_2O', 'Li_3N_4O', 'Li_3N_3O', 'Li_3Ni_2', 'Li_3Ni_4', 'Li_3Ni_1', 'LiNi_2CoM', 'LiNi_2Co_', 'LiNi_2Mn', 'LiNi_2Mg', 'Si_12O_1', 'Si_12B_1', 'Si_12B_6', 'Si_12C_6', 'Si_12C_1', 'Si_3O_10', 'SiC_2H_2', 'SiC_2H_5', 'SiC_2H_3', 'SiC_2O_2', 'SiC_2O_3', 'SiC_2O_4', 'SiC_xO_y', 'SiC_xH_2', 'SiC_xH_y', 'SiC_8H_1', 'SiC_8H_6', 'SiC_8H_8', 'K_2CuCl_', 'K_2C_2O', 'K_2C_2N', 'K_2C_60', 'K_2C_4H', 'K_2C_4N', 'K_2C_4O', 'K_3C_60', 'K_3C_2N', 'K_3C_2O', 'K_3CuSb', 'K_3CuSn', 'K_3FeCl_6', 'K_3FeCl_1', 'K_3FeCl_9', 'K_3Fe_2O', 'K_3Fe_5O', 'K_3Fe_4O', 'KC_2H_5', 'KC_2H_4', 'KC_2H_3', 'KC_2O_4', 'KC_2O_3', 'KC_2F_5', 'KC_2F_4', 'KC_8H_1', 'KC_8H_8', 'KC_4H_4', 'KC_4H_8', 'KC_4H_1', 'Ca_2Mg_2', 'Ca_2Mg_1', 'Ca_2Mg_3', 'Ca_2Mn_3', 'Ca_2Mn_2', 'Ca_2Mn_1', 'Ca_2MnSi_', 'Ca_2MnSiO', 'Ca_2CoAl_1', 'Ca_2CoAl_2', 'Ca_2CoAl_4', 'Ca_2Co_12', 'Ca_2Co_2O', 'Ca_2Co_2M', 'Ca_2Co_2Al', 'Ca_2Co_3O', 'Ca_2CoMnSi', 'Ca_2CoMnO', 'Ca_2CoMn_', 'Ca_2CoMgSi', 'Ca_2CoMgZ', 'Ca_2CoMg_', 'Ca_3Co_2O', 'Ca_3Co_4O', 'Ca_3Co_12', 'Ca_10Al_1', 'Ca_10Al_9', 'Ca_10Al_2', 'V_4O_12', 'V_4O_10', 'V_4O_11', 'V_4Co_12', 'V_4Co_16', 'V_4Co_2Cr', 'V_4Co_2M', 'V_12O_1', 'V_12O_2', 'V_12C_1', 'V_12C_2', 'V_10O_1', 'V_10O_2', 'In_3Sb_2', 'In_3Sb_5', 'In_3Sb_4', 'In_3SnS_', 'In_3Sn_2', 'In_3Sn_4', 'In_3Sn_3', 'In_4Sn_4', 'In_4Sn_1', 'In_4Sn_3', 'In_4SnS_', 'In_4SnSb', 'In_4Sb_1', 'In_4Sb_4', 'In_4Sb_2', 'In_4S_3O', 'In_4S_4O', 'WC_1-xN', 'WC_1−xN', 'W_2O_12', 'W_2O_10', 'W_2O_7S', 'W_2O_8S', 'W_2C_18', 'W_2C_12', 'W_2C_xN', 'W_12C_1', 'W_12C_2', 'W_12O_4', 'W_12O_1', 'W_12O_2', 'W_3C_12', 'W_3C_18', 'W_3C_2N', 'Fe_2SiO_4', 'Fe_2Si_3O', 'Fe_2Si_3B', 'Fe_2Si_2O', 'Fe_3O_4@', 'Fe_3C_2O', 'Fe_3C_2T', 'Fe_12N_2', 'Fe_12N_1', 'Fe_12C_6', 'Fe_12C_1', 'Fe_12C_2', 'Re_2Co_17', 'Re_2Co_12', 'Re_2Co_10', 'Re_2Co_2Si', 'Re_2Co_2Al', 'Re_3B_12', 'Re_3B_10', 'At_2Xe_1', 'At_2Xe_3', 'At_2Xe_2', 'At_2X_3Y', 'At_2X_2Y', 'At_2X_12', 'At_2X_10', 'At_12B_1', 'At_12B_6', 'At_12C_1', 'At_12C_2', 'U_2O_3N', 'U_3P_2O', 'U_3P_4O', 'U_3P_5O', 'U_3P_5S', 'U_12C_1', 'U_12C_6', 'U_12C_2', 'Zn_2CrO_4', 'Zn_2CrSb_', 'Zn_2CrSbS', 'Zn_2CrSnS', 'Zn_12Cu_', 'Zn_12Cd_', 'Zr_2O_2Si', 'Zr_2O_2N', 'Zr_6Cu_3', 'Zr_6Cu_1', 'Zr_6Cu_2', 'Zr_6C_2H', 'Zr_6C_2O', 'Zr_6C_2N', 'Zr_6C_12', 'Zr_6Cd_1', 'Zr_6Cd_2', 'Zr_6Cd_3', 'Zr_6O_12', 'Zr_6O_13', 'Zr_6O_11'\n",
    "]\n",
    "\n",
    "# 存储新的列表和特殊字符的元素列表\n",
    "new_elements = []\n",
    "\n",
    "# 特殊字符列表\n",
    "special_chars = {'.', '</s>', ' ', 'The', '\\n', '(', '[', '-', '−'}\n",
    "\n",
    "for element in elements:\n",
    "    # 添加一个空格，然后编码为输入张量\n",
    "    input_text = input_prompt + element\n",
    "    input_ids = tokenizer.encode(input_text, return_tensors=\"pt\").to(\"cuda\")\n",
    "\n",
    "    # 生成下一个字符的概率分布\n",
    "    with torch.no_grad():\n",
    "        logits = peft_model(input_ids).logits\n",
    "\n",
    "    # 计算下一个字符的概率\n",
    "    next_char_prob = torch.softmax(logits[0, -1, :], dim=-1)\n",
    "\n",
    "    # 寻找概率大于0.1且概率排在前三的字符\n",
    "    top_chars = torch.topk(next_char_prob, k=3)\n",
    "    for char_id, prob in zip(top_chars.indices, top_chars.values):\n",
    "        if prob > 0.1:\n",
    "            next_char = tokenizer.decode([char_id])\n",
    "            if next_char not in special_chars:\n",
    "                new_element = element + next_char\n",
    "                new_elements.append(new_element)\n",
    "            else:\n",
    "                results.append(element)\n",
    "\n",
    "# 打印新的列表\n",
    "print(\"New Elements:\", new_elements)\n",
    "\n",
    "# 打印特殊字符对应的元素列表\n",
    "print(\"Results:\", results)"
   ]
  },
  {
   "cell_type": "code",
   "execution_count": 15,
   "id": "b7a4e212-c18a-400b-9b8c-dca5734aba35",
   "metadata": {},
   "outputs": [
    {
     "name": "stdout",
     "output_type": "stream",
     "text": [
      "New Elements: ['Li_3N_2O_4', 'Li_3N_2O_2', 'Li_3N_2O_3', 'Li_3N_4O_2', 'Li_3N_4O_3', 'Li_3N_4O_4', 'Li_3N_3O_1', 'Li_3N_3O_2', 'Li_3N_3O_4', 'Li_3Ni_2Mn', 'Li_3Ni_2Mg', 'Li_3Ni_2Co_', 'Li_3Ni_2CoM', 'Li_3Ni_4Co_', 'LiNi_2CoMn_', 'LiNi_2Co_2M', 'LiNi_2Co_2O', 'LiNi_2Mn_1', 'LiNi_2Mn_0', 'LiNi_2Mn_2', 'LiNi_2Mg_0', 'LiNi_2Mg_1', 'Si_12O_16N', 'Si_12B_12O', 'Si_12B_12H', 'Si_12B_18H', 'Si_12B_19H', 'Si_12B_19O', 'Si_12B_19N', 'Si_12B_6O_', 'Si_12C_6H_', 'Si_12C_18H', 'Si_12C_12O', 'Si_12C_12H', 'Si_12C_12N', 'SiC_2H_2O_', 'SiC_2H_2N_', 'SiC_2H_2NH', 'SiC_2H_5O_', 'SiC_2H_5OCH', 'SiC_2H_3O_', 'SiC_2H_3N_', 'SiC_2O_2H_', 'SiC_xO_yH_', 'SiC_xH_yO_', 'SiC_xH_yOz', 'SiC_8H_10O', 'SiC_8H_10N', 'SiC_8H_16N', 'SiC_8H_16O', 'SiC_8H_18N', 'SiC_8H_18O', 'SiC_8H_6O_', 'SiC_8H_6N_', 'SiC_8H_8O_', 'SiC_8H_8N_', 'K_2CuCl_4·', 'K_2C_2O_6', 'K_2C_2O_7', 'K_2C_2O_4', 'K_2C_2N_2', 'K_2C_2N_4', 'K_2C_2N_6', 'K_2C_60N_', 'K_2C_4H_2', 'K_2C_4H_3', 'K_2C_4H_4', 'K_2C_4N_2', 'K_2C_4N_4', 'K_2C_4N_6', 'K_2C_4O_1', 'K_2C_4O_9', 'K_2C_4O_6', 'K_3C_60N_', 'K_3C_2N_4', 'K_3C_2N_2', 'K_3C_2N_6', 'K_3C_2O_6', 'K_3C_2O_4', 'K_3C_2O_7', 'K_3CuSbO_', 'K_3CuSb_2', 'K_3CuSb_4', 'K_3CuSb_3', 'K_3CuSnO_', 'K_3CuSnF_', 'K_3CuSnBr_', 'K_3FeCl_6Br_', 'K_3FeCl_6N_', 'K_3FeCl_12Br', 'K_3FeCl_12F', 'K_3FeCl_10O', 'K_3FeCl_10F', 'K_3FeCl_9N_', 'K_3FeCl_9O_', 'K_3Fe_2O_4', 'K_3Fe_5O_1', 'K_3Fe_4O_9', 'K_3Fe_4O_1', 'KC_2H_5NH', 'KC_2H_5N_', 'KC_2H_4N_', 'KC_2H_3N_', 'KC_2H_3O_', 'KC_2O_3N_', 'KC_2F_5N_', 'KC_2F_5O_', 'KC_2F_5OCl', 'KC_2F_4N_', 'KC_2F_4O_', 'KC_8H_10N', 'KC_8H_10O', 'KC_8H_12N', 'KC_8H_12O', 'KC_8H_11N', 'KC_8H_8N_', 'KC_8H_8O_', 'KC_4H_4N_', 'KC_4H_4O_', 'KC_4H_8N_', 'KC_4H_8O_', 'KC_4H_10N', 'KC_4H_10O', 'KC_4H_12N', 'KC_4H_12O', 'KC_4H_11N', 'Ca_2Mg_2Si_', 'Ca_2Mg_2Al_', 'Ca_2Mg_3Si_', 'Ca_2Mg_3Al_', 'Ca_2Mn_3O_', 'Ca_2Mn_2O_', 'Ca_2MnSi_2O', 'Ca_2MnSiO_5', 'Ca_2MnSiO_6', 'Ca_2MnSiO_4', 'Ca_2CoAl_12O', 'Ca_2CoAl_10O', 'Ca_2CoAl_2O_', 'Ca_2CoAl_2Si_', 'Ca_2CoAl_4O_', 'Ca_2Co_12O_', 'Ca_2Co_12Al_', 'Ca_2Co_2O_6', 'Ca_2Co_2O_4', 'Ca_2Co_2O_5', 'Ca_2Co_2Mn_', 'Ca_2Co_2Mg_', 'Ca_2Co_2Al_1', 'Ca_2Co_2Al_2', 'Ca_2Co_2Al_4', 'Ca_2Co_3O_6', 'Ca_2Co_3O_1', 'Ca_2CoMnSi_2', 'Ca_2CoMnSi_4', 'Ca_2CoMnSi_3', 'Ca_2CoMnSiO_', 'Ca_2CoMnO_6', 'Ca_2CoMnO_4', 'Ca_2CoMnO_5', 'Ca_2CoMn_2O', 'Ca_2CoMn_3O', 'Ca_2CoMn_4O', 'Ca_2CoMgSi_2', 'Ca_2CoMgSi_4', 'Ca_2CoMgSiO_', 'Ca_2CoMgZnT', 'Ca_2CoMg_2Al', 'Ca_2CoMg_2Si', 'Ca_2CoMg_3Si', 'Ca_2CoMg_3Al', 'Ca_2CoMg_4Al', 'Ca_3Co_2O_6', 'Ca_3Co_4O_1', 'Ca_3Co_4O_9', 'Ca_3Co_12O_', 'Ca_10Al_10T', 'Ca_10Al_10Fe', 'Ca_10Al_12O', 'Ca_10Al_9Mg', 'Ca_10Al_9Mn', 'Ca_10Al_9Si_', 'Ca_10Al_2Si_', 'Ca_10Al_2O_', 'Ca_10Al_20M', 'Ca_10Al_20T', 'Ca_10Al_20Si', 'V_4Co_12Cr_', 'V_4Co_12Fe_', 'V_4Co_16Cr_', 'V_4Co_2Cr_2', 'V_4Co_2Cr_1', 'V_4Co_2Cr_3', 'V_4Co_2Mn_', 'V_4Co_2MnS', 'V_12C_18N', 'V_12C_18H', 'V_12C_12N', 'V_12C_12O', 'V_12C_2N_', 'In_3Sb_2Te_', 'In_3Sb_2O_', 'In_3Sb_5Te_', 'In_3Sb_5Se_', 'In_3Sb_4O_', 'In_3Sb_4Se_', 'In_3Sb_4Te_', 'In_3Sn_2S_', 'In_3Sn_2Sb', 'In_3Sn_2O_', 'In_3Sn_4S_', 'In_3Sn_4Sb', 'In_3Sn_4O_', 'In_3Sn_3S_', 'In_3Sn_3Sb', 'In_3Sn_3O_', 'In_3Sn_3As_', 'In_4Sn_4S_', 'In_4Sn_4Sb', 'In_4Sn_4O_', 'In_4Sn_12S', 'In_4Sn_3Sb', 'In_4Sn_3S_', 'In_4Sn_3O_', 'In_4SnSb_4', 'In_4SnSb_2', 'In_4SnSb_1', 'In_4Sb_12Se', 'In_4Sb_12Te', 'In_4Sb_4O_', 'In_4Sb_4Te_', 'In_4Sb_4Se_', 'In_4Sb_2Te_', 'In_4Sb_2O_', 'In_4S_3O_1', 'In_4S_4O_1', 'In_4S_4O_6', 'In_4S_4O_2', 'WC_1-xNb_', 'WC_1-xN_x', 'WC_1−xNb_', 'WC_1−xN_x', 'W_2O_7S_2', 'W_2O_7S_3', 'W_2O_7S_4', 'W_2O_8S_2', 'W_2O_8S_4', 'W_2C_xN_2', 'W_2C_xN_1', 'W_2C_xN_4', 'W_12C_18N', 'W_12C_18H', 'W_12C_24N', 'W_12C_24H', 'W_12C_20N', 'W_12C_20H', 'W_12C_22N', 'W_12C_22S', 'W_3C_12N_', 'W_3C_12B_', 'W_3C_12BN', 'W_3C_18H_', 'W_3C_18N_', 'W_3C_2N_2', 'W_3C_2N_4', 'W_3C_2N_3', 'Fe_2Si_3O_1', 'Fe_2Si_3O_6', 'Fe_2Si_3O_8', 'Fe_2Si_3B_2', 'Fe_2Si_3B_1', 'Fe_2Si_2O_5', 'Fe_2Si_2O_6', 'Fe_2Si_2O_4', 'Fe_3C_2O_4', 'Fe_3C_2T_2', 'Fe_3C_2T_4', 'Fe_3C_2T_x', 'Fe_3C_2Ti_', 'Fe_12N_2O_', 'Fe_12N_12O', 'Fe_12N_18O', 'Fe_12N_18Co', 'Fe_12C_6N_', 'Fe_12C_6S_', 'Fe_12C_6Sb', 'Fe_12C_18N', 'Fe_12C_12N', 'Fe_12C_12O', 'Fe_12C_2N_', 'Fe_12C_2Si_', 'Re_2Co_17B_', 'Re_2Co_17Al_', 'Re_2Co_12B_', 'Re_2Co_12Al_', 'Re_2Co_10B_', 'Re_2Co_10Al_', 'Re_2Co_2Si_2', 'Re_2Co_2Si_1', 'Re_2Co_2Al_1', 'Re_2Co_2Al_2', 'Re_3B_12C_', 'Re_3B_10Si_', 'At_2Xe_12B', 'At_2Xe_12Y', 'At_2Xe_13B', 'At_2Xe_13Y', 'At_2Xe_10B', 'At_2Xe_10Y', 'At_2Xe_3Y_', 'At_2Xe_2Y_', 'At_2Xe_2YZ', 'At_2X_3Y_3', 'At_2X_3Y_4', 'At_2X_3Y_2', 'At_2X_2Y_2', 'At_2X_2Y_3', 'At_2X_2Y_4', 'At_2X_2YZ_', 'At_2X_12Y_', 'At_2X_100Y', 'At_2X_10Y_', 'At_12B_12C', 'At_12B_12H', 'At_12B_18H', 'At_12B_60Si', 'At_12B_60H', 'At_12B_6O_', 'At_12C_18H', 'At_12C_18O', 'At_12C_18N', 'At_12C_12O', 'At_12C_12N', 'At_12C_12H', 'At_12C_24H', 'At_12C_24N', 'At_12C_20H', 'At_12C_20N', 'U_2O_3N_2', 'U_2O_3N_4', 'U_2O_3NH_', 'U_3P_2O_1', 'U_3P_4O_1', 'U_3P_5O_1', 'U_3P_5O_2', 'U_3P_5S_1', 'U_3P_5S_2', 'U_3P_5Sb_', 'U_12C_12N', 'U_12C_12O', 'U_12C_18N', 'U_12C_6N_', 'U_12C_24N', 'U_12C_22N', 'Zn_2CrSb_8S', 'Zn_2CrSb_2S', 'Zn_2CrSbS_4', 'Zn_2CrSbS_6', 'Zn_2CrSnS_4', 'Zn_2CrSnS_6', 'Zn_2CrSnS_8', 'Zn_12Cu_2M', 'Zn_12Cu_2N', 'Zn_12Cu_3N', 'Zn_12Cu_3M', 'Zn_12Cu_12', 'Zn_12Cd_12', 'Zn_12Cd_1S', 'Zn_12Cd_3Co', 'Zn_12Cd_3N', 'Zn_12Cd_3S', 'Zn_12Cd_2N', 'Zn_12Cd_2M', 'Zn_12Cd_2S', 'Zr_2O_2SiO_', 'Zr_2O_2Si_2', 'Zr_2O_2Si_3', 'Zr_2O_2Si_1', 'Zr_2O_2N_2', 'Zr_2O_2N_4', 'Zr_6Cu_3Si_', 'Zr_6Cu_12N', 'Zr_6Cu_12Si', 'Zr_6Cu_2Si_', 'Zr_6Cu_2Ni', 'Zr_6C_2H_1', 'Zr_6C_2H_2', 'Zr_6C_2O_1', 'Zr_6C_2O_2', 'Zr_6C_2N_2', 'Zr_6C_2N_4', 'Zr_6C_2N_6', 'Zr_6C_12H_', 'Zr_6C_12O_', 'Zr_6C_12N_', 'Zr_6Cd_12N', 'Zr_6Cd_2Ni', 'Zr_6Cd_3Ni', 'Zr_6O_12N_', 'Zr_6O_13N_', 'Zr_6O_11N_', 'Zr_6O_11Cl_']\n",
      "Results: ['SiO', 'SiC', 'Ca_2', 'Ca_1', 'V_1', 'At_1', 'Zn_2', 'Zn_1', 'Li_2O', 'SiO_2', 'SiC_2', 'SiC_x', 'SiC_8', 'K_3Fe', 'Ca_12', 'Ca_10', 'WO_3', 'W_2C', 'W_3C', 'Fe_3C', 'Re_3B', 'Ac_2O', 'Ac_2O', 'LiNi_0', 'LiNi_2', 'LiNi_1', 'K_2Cu', 'K_2Cu', 'K_3Cu', 'K_3Cu', 'In_3Sn', 'WO_12', 'WO_10', 'Li_2O_2', 'Li_2O_3', 'Li_3N_2', 'Li_3N_4', 'Li_3N_3', 'LiNbO_3', 'Si_2O_3', 'Si_2O_5', 'Si_3N_4', 'K_3Fe_2', 'Ca_2Co_1', 'Ca_2Co_1', 'Ca_3Co_1', 'V_2O_5', 'V_2O_3', 'V_4O_9', 'V_4Co_1', 'In_2O_3', 'In_4S_3', 'In_4S_4', 'In_4S_8', 'W_2O_7', 'W_2O_8', 'W_2C_x', 'Fe_2O_3', 'Fe_2O_4', 'Fe_2Si_1', 'Fe_2Si_1', 'Fe_2Si_1', 'Fe_2Si_3', 'Fe_3O_4', 'Fe_3C_2', 'Re_2O_7', 'Re_2O_5', 'Re_3B_2', 'Re_3B_3', 'At_2O_3', 'At_2X_3', 'At_2X_2', 'U_2O_7', 'U_2O_3', 'U_3P_4', 'U_3P_5', 'Zn_2CrSb', 'Zn_2CrSn', 'Zn_2Cr_0', 'Zn_2Cr_1', 'Zn_2Cr_1', 'Zn_2Cr_1', 'Zr_2O_3', 'Zr_2O_3', 'Zr_2O_2', 'Zr_2O_4', 'Zr_6C_1', 'Li_3Ni_2', 'Li_3Ni_4', 'Li_3Ni_1', 'Li_3Ni_1', 'Si_12B_6', 'Si_12C_6', 'Si_3O_10', 'Si_3O_10', 'SiC_2H_2', 'SiC_2H_5', 'SiC_2H_3', 'SiC_2O_2', 'SiC_2O_3', 'SiC_2O_4', 'SiC_xO_y', 'SiC_xH_2', 'SiC_xH_2', 'SiC_xH_y', 'K_2C_60', 'K_3C_60', 'K_3FeCl_6', 'K_3FeCl_9', 'KC_2O_4', 'KC_2O_3', 'Ca_2Mg_2', 'Ca_2Mg_1', 'Ca_2Mg_1', 'Ca_2Mg_3', 'Ca_2Mn_1', 'Ca_2Mn_1', 'Ca_2Mn_1', 'Ca_2CoAl_1', 'V_4O_12', 'V_4O_12', 'V_4O_10', 'V_4O_11', 'V_4O_11', 'V_4Co_12', 'V_4Co_16', 'V_12C_2', 'In_3Sn_2', 'In_3Sn_4', 'W_2O_12', 'W_2O_12', 'W_2O_10', 'W_2O_7S', 'W_2O_8S', 'W_2C_18', 'W_2C_12', 'W_3C_12', 'Fe_2SiO_4', 'Fe_2SiO_4', 'Fe_2Si_3B', 'Fe_12N_2', 'Fe_12C_6', 'Fe_12C_2', 'Re_2Co_17', 'Re_3B_12', 'Re_3B_10', 'At_2Xe_3', 'At_2Xe_2', 'At_2X_12', 'At_2X_10', 'U_12C_6', 'U_12C_2', 'Zn_2CrO_4', 'Zr_6Cu_1', 'Zr_6Cd_1', 'Zr_6Cd_2', 'Zr_6Cd_3', 'Zr_6O_12', 'Zr_6O_13', 'Zr_6O_11', 'LiNi_2Co_0', 'LiNi_2Co_1', 'Si_12O_19', 'Si_12O_16', 'Si_12O_16', 'Si_12O_18', 'Si_12O_18', 'SiC_2H_2O', 'SiC_2H_5O', 'SiC_2H_3O', 'SiC_2H_3N', 'SiC_2O_2H', 'SiC_8H_10', 'SiC_8H_18', 'K_2CuCl_4', 'K_3FeCl_12', 'K_3FeCl_10', 'KC_2H_5N', 'KC_2F_5N', 'KC_2F_5O', 'KC_2F_4N', 'KC_2F_4O', 'V_12O_19', 'V_12O_18', 'V_12O_28', 'V_12C_18', 'V_12C_12', 'V_10O_16', 'V_10O_18', 'V_10O_17', 'V_10O_28', 'V_10O_20', 'V_10O_22', 'In_3SnS_4', 'In_3SnS_4', 'In_4Sn_12', 'In_4SnS_4', 'W_12C_18', 'W_12C_24', 'W_12C_22', 'W_12O_40', 'W_12O_19', 'W_12O_18', 'W_12O_18', 'W_12O_28', 'W_12O_20', 'W_12O_20', 'W_12O_22', 'W_12O_22', 'Fe_3C_2Ti', 'Fe_12N_12', 'Fe_12N_18', 'Fe_12C_12', 'At_2Xe_12', 'At_2Xe_13', 'At_2Xe_10', 'At_2Xe_3Y', 'At_2X_2YZ', 'At_2X_2YZ', 'At_2X_100', 'At_12B_12', 'At_12B_60', 'U_12C_12', 'U_12C_18', 'U_12C_24', 'U_12C_22', 'Zn_2CrSb_8', 'Zn_2CrSb_1', 'Zn_2CrSb_1', 'Zn_2CrSb_1', 'Zn_2CrSb_2', 'Zn_12Cd_1', 'Zr_6Cu_12', 'Zr_6Cd_12']\n"
     ]
    }
   ],
   "source": [
    "elements = [\n",
    "    'Li_3N_2O_', 'Li_3N_4O_', 'Li_3N_3O_', 'Li_3Ni_2M', 'Li_3Ni_2Co', 'Li_3Ni_4Co', 'LiNi_2CoMn', 'LiNi_2Co_0', 'LiNi_2Co_1', 'LiNi_2Co_2', 'LiNi_2Mn_', \n",
    "    'LiNi_2Mg_', 'Si_12O_19', 'Si_12O_16', 'Si_12O_18', 'Si_12B_12', 'Si_12B_18', 'Si_12B_19', 'Si_12B_6O', 'Si_12C_6H', 'Si_12C_18', 'Si_12C_12', \n",
    "    'SiC_2H_2O', 'SiC_2H_2N', 'SiC_2H_5O', 'SiC_2H_3O', 'SiC_2H_3N', 'SiC_2O_2H', 'SiC_xO_yH', 'SiC_xH_yO', 'SiC_8H_10', 'SiC_8H_16', 'SiC_8H_18', \n",
    "    'SiC_8H_6O', 'SiC_8H_6N', 'SiC_8H_8O', 'SiC_8H_8N', 'K_2CuCl_4', 'K_2C_2O_', 'K_2C_2N_', 'K_2C_60N', 'K_2C_4H_', 'K_2C_4N_', 'K_2C_4O_', 'K_3C_60N', \n",
    "    'K_3C_2N_', 'K_3C_2O_', 'K_3CuSbO', 'K_3CuSb_', 'K_3CuSnO', 'K_3CuSnF', 'K_3CuSnBr', 'K_3FeCl_6Br', 'K_3FeCl_6N', 'K_3FeCl_12', 'K_3FeCl_10', \n",
    "    'K_3FeCl_9N', 'K_3FeCl_9O', 'K_3Fe_2O_', 'K_3Fe_5O_', 'K_3Fe_4O_', 'KC_2H_5N', 'KC_2H_4N', 'KC_2H_3N', 'KC_2H_3O', 'KC_2O_3N', 'KC_2F_5N', 'KC_2F_5O', \n",
    "    'KC_2F_4N', 'KC_2F_4O', 'KC_8H_10', 'KC_8H_12', 'KC_8H_11', 'KC_8H_8N', 'KC_8H_8O', 'KC_4H_4N', 'KC_4H_4O', 'KC_4H_8N', 'KC_4H_8O', 'KC_4H_10', \n",
    "    'KC_4H_12', 'KC_4H_11', 'Ca_2Mg_2Si', 'Ca_2Mg_2Al', 'Ca_2Mg_3Si', 'Ca_2Mg_3Al', 'Ca_2Mn_3O', 'Ca_2Mn_2O', 'Ca_2MnSi_2', 'Ca_2MnSiO_', 'Ca_2CoAl_12', \n",
    "    'Ca_2CoAl_10', 'Ca_2CoAl_2O', 'Ca_2CoAl_2Si', 'Ca_2CoAl_4O', 'Ca_2Co_12O', 'Ca_2Co_12Al', 'Ca_2Co_2O_', 'Ca_2Co_2Mn', 'Ca_2Co_2Mg', 'Ca_2Co_2Al_', \n",
    "    'Ca_2Co_3O_', 'Ca_2CoMnSi_', 'Ca_2CoMnSiO', 'Ca_2CoMnO_', 'Ca_2CoMn_2', 'Ca_2CoMn_3', 'Ca_2CoMn_4', 'Ca_2CoMgSi_', 'Ca_2CoMgSiO', 'Ca_2CoMgZn', \n",
    "    'Ca_2CoMg_2', 'Ca_2CoMg_3', 'Ca_2CoMg_4', 'Ca_3Co_2O_', 'Ca_3Co_4O_', 'Ca_3Co_12O', 'Ca_10Al_10', 'Ca_10Al_12', 'Ca_10Al_9M', 'Ca_10Al_9Si', \n",
    "    'Ca_10Al_2Si', 'Ca_10Al_2O', 'Ca_10Al_20', 'V_4Co_12Cr', 'V_4Co_12Fe', 'V_4Co_16Cr', 'V_4Co_2Cr_', 'V_4Co_2Mn', 'V_12O_19', 'V_12O_18', 'V_12O_28', \n",
    "    'V_12C_18', 'V_12C_12', 'V_12C_2N', 'V_10O_16', 'V_10O_18', 'V_10O_17', 'V_10O_28', 'V_10O_20', 'V_10O_22', 'In_3Sb_2Te', 'In_3Sb_2O', 'In_3Sb_5Te', \n",
    "    'In_3Sb_5Se', 'In_3Sb_4O', 'In_3Sb_4Se', 'In_3Sb_4Te', 'In_3SnS_4', 'In_3Sn_2S', 'In_3Sn_2O', 'In_3Sn_4S', 'In_3Sn_4O', 'In_3Sn_3S', 'In_3Sn_3O', \n",
    "    'In_3Sn_3As', 'In_4Sn_4S', 'In_4Sn_4O', 'In_4Sn_12', 'In_4Sn_3S', 'In_4Sn_3O', 'In_4SnS_4', 'In_4SnSb_', 'In_4Sb_12', 'In_4Sb_4O', 'In_4Sb_4Te', \n",
    "    'In_4Sb_4Se', 'In_4Sb_2Te', 'In_4Sb_2O', 'In_4S_3O_', 'In_4S_4O_', 'WC_1-xNb', 'WC_1-xN_', 'WC_1−xNb', 'WC_1−xN_', 'W_2O_7S_', 'W_2O_8S_', 'W_2C_xN_', \n",
    "    'W_12C_18', 'W_12C_24', 'W_12C_20', 'W_12C_22', 'W_12O_40', 'W_12O_19', 'W_12O_18', 'W_12O_28', 'W_12O_20', 'W_12O_22', 'W_3C_12N', 'W_3C_12B', \n",
    "    'W_3C_18H', 'W_3C_18N', 'W_3C_2N_', 'Fe_2Si_3O_', 'Fe_2Si_3B_', 'Fe_2Si_2O_', 'Fe_3C_2O_', 'Fe_3C_2T_', 'Fe_3C_2Ti', \n",
    "    'Fe_12N_2O', 'Fe_12N_12', 'Fe_12N_18', 'Fe_12C_6N', 'Fe_12C_6S', 'Fe_12C_18', 'Fe_12C_12', 'Fe_12C_2N', 'Fe_12C_2Si', 'Re_2Co_17B', 'Re_2Co_17Al', \n",
    "    'Re_2Co_12B', 'Re_2Co_12Al', 'Re_2Co_10B', 'Re_2Co_10Al', 'Re_2Co_2Si_', 'Re_2Co_2Al_', 'Re_3B_12C', 'Re_3B_10Si', 'At_2Xe_12', 'At_2Xe_13', \n",
    "    'At_2Xe_10', 'At_2Xe_3Y', 'At_2Xe_2Y', 'At_2X_3Y_', 'At_2X_2Y_', 'At_2X_2YZ', 'At_2X_12Y', 'At_2X_100', 'At_2X_10Y', 'At_12B_12', 'At_12B_18', \n",
    "    'At_12B_60', 'At_12B_6O', 'At_12C_18', 'At_12C_12', 'At_12C_24', 'At_12C_20', 'U_2O_3N_', 'U_2O_3NH', 'U_3P_2O_', 'U_3P_4O_', 'U_3P_5O_', 'U_3P_5S_', \n",
    "    'U_3P_5Sb', 'U_12C_12', 'U_12C_18', 'U_12C_6N', 'U_12C_24', 'U_12C_22', 'Zn_2CrSb_8', 'Zn_2CrSb_1', 'Zn_2CrSb_2', 'Zn_2CrSbS_', 'Zn_2CrSnS_', 'Zn_12Cu_2', \n",
    "    'Zn_12Cu_3', 'Zn_12Cu_1', 'Zn_12Cd_1', 'Zn_12Cd_3', 'Zn_12Cd_2', 'Zr_2O_2SiO', 'Zr_2O_2Si_', 'Zr_2O_2N_', 'Zr_6Cu_3Si', 'Zr_6Cu_12', 'Zr_6Cu_2Si', \n",
    "    'Zr_6Cu_2N', 'Zr_6C_2H_', 'Zr_6C_2O_', 'Zr_6C_2N_', 'Zr_6C_12H', 'Zr_6C_12O', 'Zr_6C_12N', 'Zr_6Cd_12', 'Zr_6Cd_2N', 'Zr_6Cd_3N', 'Zr_6O_12N', \n",
    "    'Zr_6O_13N', 'Zr_6O_11N', 'Zr_6O_11Cl'\n",
    "]\n",
    "\n",
    "# 存储新的列表和特殊字符的元素列表\n",
    "new_elements = []\n",
    "\n",
    "# 特殊字符列表\n",
    "special_chars = {'.', '</s>', ' ', 'The', '\\n', '(', '[', '-', '−'}\n",
    "\n",
    "for element in elements:\n",
    "    # 添加一个空格，然后编码为输入张量\n",
    "    input_text = input_prompt + element\n",
    "    input_ids = tokenizer.encode(input_text, return_tensors=\"pt\").to(\"cuda\")\n",
    "\n",
    "    # 生成下一个字符的概率分布\n",
    "    with torch.no_grad():\n",
    "        logits = peft_model(input_ids).logits\n",
    "\n",
    "    # 计算下一个字符的概率\n",
    "    next_char_prob = torch.softmax(logits[0, -1, :], dim=-1)\n",
    "\n",
    "    # 寻找概率大于0.1且概率排在前三的字符\n",
    "    top_chars = torch.topk(next_char_prob, k=3)\n",
    "    for char_id, prob in zip(top_chars.indices, top_chars.values):\n",
    "        if prob > 0.1:\n",
    "            next_char = tokenizer.decode([char_id])\n",
    "            if next_char not in special_chars:\n",
    "                new_element = element + next_char\n",
    "                new_elements.append(new_element)\n",
    "            else:\n",
    "                results.append(element)\n",
    "\n",
    "# 打印新的列表\n",
    "print(\"New Elements:\", new_elements)\n",
    "\n",
    "# 打印特殊字符对应的元素列表\n",
    "print(\"Results:\", results)"
   ]
  },
  {
   "cell_type": "code",
   "execution_count": 17,
   "id": "e7124b7c-e069-4e69-a31d-45f3855cb7b8",
   "metadata": {},
   "outputs": [
    {
     "name": "stdout",
     "output_type": "stream",
     "text": [
      "New Elements: ['Li_3N_4O_20', 'Li_3N_3O_12', 'Li_3N_3O_20', 'Li_3Ni_2Mn_', 'Li_3Ni_2Mg_', 'Li_3Ni_2Co_2', 'Li_3Ni_2CoMn', 'Li_3Ni_4Co_2', 'Li_3Ni_4Co_4', 'LiNi_2CoMn_2', 'LiNi_2CoMn_3', 'LiNi_2Co_2Mn', 'LiNi_2Co_2O_', 'LiNi_2Mn_2O', 'Si_12O_16N_', 'Si_12B_12O_', 'Si_12B_12H_', 'Si_12B_18H_', 'Si_12B_19H_', 'Si_12B_19O_', 'Si_12B_19N_', 'Si_12B_6O_1', 'Si_12B_6O_2', 'Si_12C_6H_1', 'Si_12C_18H_', 'Si_12C_12O_', 'Si_12C_12H_', 'Si_12C_12N_', 'SiC_2H_2N_2', 'SiC_2H_2NH_', 'SiC_2H_5O_9', 'SiC_2H_5OCH_', 'SiC_2H_3O_1', 'SiC_2H_3O_9', 'SiC_2H_3N_2', 'SiC_2O_2H_2', 'SiC_xO_yH_z', 'SiC_xH_yO_z', 'SiC_xH_yO_1', 'SiC_8H_10O_', 'SiC_8H_10N_', 'SiC_8H_16N_', 'SiC_8H_16O_', 'SiC_8H_18N_', 'SiC_8H_18O_', 'SiC_8H_6O_3', 'SiC_8H_6N_2', 'SiC_8H_8O_3', 'SiC_8H_8O_2', 'SiC_8H_8N_2', 'SiC_8H_8N_4', 'K_2C_2O_6N', 'K_2C_2O_4N', 'K_2C_2N_2O', 'K_2C_2N_4O', 'K_2C_2N_6O', 'K_2C_60N_2', 'K_2C_60N_4', 'K_2C_4H_2N', 'K_2C_4H_3N', 'K_2C_4H_3O', 'K_2C_4H_4N', 'K_2C_4H_4O', 'K_2C_4N_2O', 'K_2C_4N_4O', 'K_2C_4N_6O', 'K_2C_4O_12', 'K_3C_60N_1', 'K_3C_60N_2', 'K_3C_2N_4O', 'K_3C_2N_2O', 'K_3C_2N_6O', 'K_3C_2O_6N', 'K_3C_2O_4N', 'K_3CuSbO_1', 'K_3CuSb_2O', 'K_3CuSb_4O', 'K_3CuSb_3O', 'K_3CuSnO_1', 'K_3CuSnF_1', 'K_3CuSnBr_1', 'K_3FeCl_6Br_1', 'K_3FeCl_6N_6', 'K_3FeCl_6N_2', 'K_3FeCl_12Br_', 'K_3FeCl_12F_', 'K_3FeCl_10O_', 'K_3FeCl_10F_', 'K_3FeCl_9N_2', 'K_3FeCl_9O_3', 'K_3Fe_2O_4N', 'K_3Fe_5O_12', 'K_3Fe_4O_12', 'KC_2H_5NH_', 'KC_2H_5N_2', 'KC_2H_5N_3', 'KC_2H_4N_2', 'KC_2H_3N_2', 'KC_2H_3O_9', 'KC_2H_3O_1', 'KC_2O_3N_2', 'KC_2O_3N_4', 'KC_2F_5N_2', 'KC_2F_5O_1', 'KC_2F_5OCl_', 'KC_2F_4N_2', 'KC_2F_4O_1', 'KC_8H_10N_', 'KC_8H_10O_', 'KC_8H_12N_', 'KC_8H_12O_', 'KC_8H_11N_', 'KC_8H_8N_2', 'KC_8H_8O_2', 'KC_4H_4N_2', 'KC_4H_4O_1', 'KC_4H_8N_2', 'KC_4H_8N_4', 'KC_4H_8O_2', 'KC_4H_8O_1', 'KC_4H_10N_', 'KC_4H_10O_', 'KC_4H_12N_', 'KC_4H_12O_', 'KC_4H_11N_', 'Ca_2Mg_2Si_2', 'Ca_2Mg_2Si_1', 'Ca_2Mg_2Al_1', 'Ca_2Mg_3Si_1', 'Ca_2Mg_3Al_1', 'Ca_2Mn_3O_1', 'Ca_2Mn_2O_1', 'Ca_2MnSi_2O_', 'Ca_2MnSiO_5O', 'Ca_2CoAl_12O_', 'Ca_2CoAl_10O_', 'Ca_2CoAl_2O_1', 'Ca_2CoAl_2Si_2', 'Ca_2CoAl_4O_1', 'Ca_2Co_12O_2', 'Ca_2Co_12Al_1', 'Ca_2Co_2Mn_1', 'Ca_2Co_2Mg_1', 'Ca_2Co_2Al_10', 'Ca_2Co_2Al_12', 'Ca_2Co_2Al_2O', 'Ca_2Co_2Al_4O', 'Ca_2Co_3O_12', 'Ca_2CoMnSi_2O', 'Ca_2CoMnSi_4O', 'Ca_2CoMnSi_3O', 'Ca_2CoMnSiO_7', 'Ca_2CoMnSiO_9', 'Ca_2CoMn_2O_', 'Ca_2CoMn_3O_', 'Ca_2CoMn_4O_', 'Ca_2CoMgSi_2O', 'Ca_2CoMgSi_4O', 'Ca_2CoMgSiO_9', 'Ca_2CoMgSiO_7', 'Ca_2CoMgZnTi', 'Ca_2CoMg_2Al_', 'Ca_2CoMg_2Si_', 'Ca_2CoMg_3Si_', 'Ca_2CoMg_3Al_', 'Ca_2CoMg_4Al_', 'Ca_3Co_4O_12', 'Ca_3Co_12O_2', 'Ca_10Al_10Ti', 'Ca_10Al_10Fe_', 'Ca_10Al_12O_', 'Ca_10Al_9Mg_', 'Ca_10Al_9Mn_', 'Ca_10Al_9Si_1', 'Ca_10Al_2Si_1', 'Ca_10Al_2O_1', 'Ca_10Al_2O_2', 'Ca_10Al_20Mg', 'Ca_10Al_20Mn', 'Ca_10Al_20Ti', 'Ca_10Al_20Si_', 'V_4Co_12Cr_1', 'V_4Co_12Fe_1', 'V_4Co_16Cr_1', 'V_4Co_2Mn_1', 'V_4Co_2Mn_2', 'V_4Co_2MnSn', 'V_12C_18N_', 'V_12C_18H_', 'V_12C_12N_', 'V_12C_12O_', 'V_12C_2N_1', 'In_3Sb_2Te_1', 'In_3Sb_2O_1', 'In_3Sb_5Te_1', 'In_3Sb_5Se_1', 'In_3Sb_4O_1', 'In_3Sb_4Se_1', 'In_3Sb_4Te_1', 'In_3Sn_2S_1', 'In_3Sn_2Sb_', 'In_3Sn_2O_1', 'In_3Sn_4S_1', 'In_3Sn_4Sb_', 'In_3Sn_4O_1', 'In_3Sn_3S_1', 'In_3Sn_3Sb_', 'In_3Sn_3O_1', 'In_3Sn_3As_1', 'In_3Sn_3As_3', 'In_4Sn_4S_1', 'In_4Sn_4Sb_', 'In_4Sn_4O_1', 'In_4Sn_4O_2', 'In_4Sn_12Sb', 'In_4Sn_3Sb_', 'In_4Sn_3S_1', 'In_4Sn_3O_1', 'In_4SnSb_12', 'In_4Sb_12Se_', 'In_4Sb_12Te_', 'In_4Sb_4O_1', 'In_4Sb_4Te_1', 'In_4Sb_4Se_1', 'In_4Sb_2Te_1', 'In_4Sb_2O_1', 'In_4S_3O_12', 'WC_1-xNb_x', 'WC_1-xN_xO', 'WC_1−xNb_x', 'WC_1−xN_xO', 'W_2C_xN_12', 'W_12C_18N_', 'W_12C_18H_', 'W_12C_24N_', 'W_12C_24H_', 'W_12C_20N_', 'W_12C_20H_', 'W_12C_22N_', 'W_12C_22S_', 'W_3C_12N_1', 'W_3C_12B_1', 'W_3C_12BN_', 'W_3C_18H_3', 'W_3C_18H_2', 'W_3C_18N_1', 'W_3C_18N_2', 'W_3C_2N_2O', 'W_3C_2N_4O', 'W_3C_2N_3O', 'Fe_2Si_3O_12', 'Fe_2Si_3B_2O', 'Fe_2Si_3B_12', 'Fe_2Si_2O_5N', 'Fe_2Si_2O_4N', 'Fe_3C_2Ti_2', 'Fe_12N_2O_2', 'Fe_12N_2O_1', 'Fe_12N_12O_', 'Fe_12N_18O_', 'Fe_12N_18Co_', 'Fe_12C_6N_6', 'Fe_12C_6N_2', 'Fe_12C_6S_1', 'Fe_12C_6Sb_', 'Fe_12C_18N_', 'Fe_12C_12N_', 'Fe_12C_12O_', 'Fe_12C_2N_2', 'Fe_12C_2Si_1', 'Fe_12C_2Si_2', 'Re_2Co_17B_1', 'Re_2Co_17Al_1', 'Re_2Co_12B_1', 'Re_2Co_12Al_1', 'Re_2Co_10B_1', 'Re_2Co_10Al_1', 'Re_2Co_2Si_2O', 'Re_2Co_2Si_12', 'Re_2Co_2Al_12', 'Re_2Co_2Al_10', 'Re_2Co_2Al_2O', 'Re_3B_12C_1', 'Re_3B_10Si_1', 'At_2Xe_12B_', 'At_2Xe_12Yb', 'At_2Xe_13B_', 'At_2Xe_13Yb', 'At_2Xe_10B_', 'At_2Xe_10Yb', 'At_2Xe_3Y_3', 'At_2Xe_3Y_1', 'At_2Xe_2Y_2', 'At_2X_3Y_4Z', 'At_2X_3Y_2Z', 'At_2X_2Y_2Z', 'At_2X_2Y_3Z', 'At_2X_2Y_4Z', 'At_2X_2YZ_2', 'At_2X_2YZ_4', 'At_2X_12Y_1', 'At_2X_12Y_2', 'At_2X_100Yb', 'At_2X_100Y_', 'At_2X_10Y_2', 'At_2X_10Y_1', 'At_12B_12C_', 'At_12B_12H_', 'At_12B_18H_', 'At_12B_60Si_', 'At_12B_60H_', 'At_12B_6O_2', 'At_12B_6O_3', 'At_12C_18H_', 'At_12C_18O_', 'At_12C_18N_', 'At_12C_12O_', 'At_12C_12N_', 'At_12C_12H_', 'At_12C_24H_', 'At_12C_24N_', 'At_12C_20H_', 'At_12C_20N_', 'U_2O_3N_2O', 'U_2O_3NH_4', 'U_3P_2O_12', 'U_3P_4O_12', 'U_3P_5O_18', 'U_3P_5O_22', 'U_3P_5Sb_1', 'U_12C_12N_', 'U_12C_12O_', 'U_12C_18N_', 'U_12C_6N_1', 'U_12C_24N_', 'U_12C_22N_', 'Zn_2CrSb_8S_', 'Zn_2CrSb_2S_', 'Zn_2CrSb_2Sn', 'Zn_12Cu_2Mn', 'Zn_12Cu_2Ni', 'Zn_12Cu_3Ni', 'Zn_12Cu_3Mn', 'Zn_12Cd_1Sn', 'Zn_12Cd_1Sb', 'Zn_12Cd_3Co_', 'Zn_12Cd_3Ni', 'Zn_12Cd_3Sn', 'Zn_12Cd_3Sb', 'Zn_12Cd_2Ni', 'Zn_12Cd_2Mn', 'Zn_12Cd_2Sn', 'Zn_12Cd_2Sb', 'Zr_2O_2SiO_4', 'Zr_2O_2Si_2O', 'Zr_2O_2Si_3O', 'Zr_2O_2Si_12', 'Zr_2O_2N_2O', 'Zr_2O_2N_4O', 'Zr_6Cu_3Si_1', 'Zr_6Cu_3Si_6', 'Zr_6Cu_12Ni', 'Zr_6Cu_12Si_', 'Zr_6Cu_2Si_1', 'Zr_6Cu_2Si_6', 'Zr_6Cu_2Ni_', 'Zr_6C_2H_2N', 'Zr_6C_2H_2O', 'Zr_6C_2O_18', 'Zr_6C_2O_12', 'Zr_6C_2O_24', 'Zr_6C_2N_2O', 'Zr_6C_2N_4O', 'Zr_6C_2N_6O', 'Zr_6C_12H_1', 'Zr_6C_12H_2', 'Zr_6C_12O_4', 'Zr_6C_12N_6', 'Zr_6C_12N_1', 'Zr_6Cd_12Ni', 'Zr_6Cd_2Ni_', 'Zr_6Cd_3Ni_', 'Zr_6O_12N_4', 'Zr_6O_12N_6', 'Zr_6O_13N_4', 'Zr_6O_11N_4', 'Zr_6O_11N_2', 'Zr_6O_11Cl_2', 'Zr_6O_11Cl_3']\n",
      "Results: ['SiO', 'SiC', 'Ca_2', 'Ca_1', 'V_1', 'At_1', 'Zn_2', 'Zn_1', 'Li_2O', 'SiO_2', 'SiC_2', 'SiC_x', 'SiC_8', 'K_3Fe', 'Ca_12', 'Ca_10', 'WO_3', 'W_2C', 'W_3C', 'Fe_3C', 'Re_3B', 'Ac_2O', 'Ac_2O', 'LiNi_0', 'LiNi_2', 'LiNi_1', 'K_2Cu', 'K_2Cu', 'K_3Cu', 'K_3Cu', 'In_3Sn', 'WO_12', 'WO_10', 'Li_2O_2', 'Li_2O_3', 'Li_3N_2', 'Li_3N_4', 'Li_3N_3', 'LiNbO_3', 'Si_2O_3', 'Si_2O_5', 'Si_3N_4', 'K_3Fe_2', 'Ca_2Co_1', 'Ca_2Co_1', 'Ca_3Co_1', 'V_2O_5', 'V_2O_3', 'V_4O_9', 'V_4Co_1', 'In_2O_3', 'In_4S_3', 'In_4S_4', 'In_4S_8', 'W_2O_7', 'W_2O_8', 'W_2C_x', 'Fe_2O_3', 'Fe_2O_4', 'Fe_2Si_1', 'Fe_2Si_1', 'Fe_2Si_1', 'Fe_2Si_3', 'Fe_3O_4', 'Fe_3C_2', 'Re_2O_7', 'Re_2O_5', 'Re_3B_2', 'Re_3B_3', 'At_2O_3', 'At_2X_3', 'At_2X_2', 'U_2O_7', 'U_2O_3', 'U_3P_4', 'U_3P_5', 'Zn_2CrSb', 'Zn_2CrSn', 'Zn_2Cr_0', 'Zn_2Cr_1', 'Zn_2Cr_1', 'Zn_2Cr_1', 'Zr_2O_3', 'Zr_2O_3', 'Zr_2O_2', 'Zr_2O_4', 'Zr_6C_1', 'Li_3Ni_2', 'Li_3Ni_4', 'Li_3Ni_1', 'Li_3Ni_1', 'Si_12B_6', 'Si_12C_6', 'Si_3O_10', 'Si_3O_10', 'SiC_2H_2', 'SiC_2H_5', 'SiC_2H_3', 'SiC_2O_2', 'SiC_2O_3', 'SiC_2O_4', 'SiC_xO_y', 'SiC_xH_2', 'SiC_xH_2', 'SiC_xH_y', 'K_2C_60', 'K_3C_60', 'K_3FeCl_6', 'K_3FeCl_9', 'KC_2O_4', 'KC_2O_3', 'Ca_2Mg_2', 'Ca_2Mg_1', 'Ca_2Mg_1', 'Ca_2Mg_3', 'Ca_2Mn_1', 'Ca_2Mn_1', 'Ca_2Mn_1', 'Ca_2CoAl_1', 'V_4O_12', 'V_4O_12', 'V_4O_10', 'V_4O_11', 'V_4O_11', 'V_4Co_12', 'V_4Co_16', 'V_12C_2', 'In_3Sn_2', 'In_3Sn_4', 'W_2O_12', 'W_2O_12', 'W_2O_10', 'W_2O_7S', 'W_2O_8S', 'W_2C_18', 'W_2C_12', 'W_3C_12', 'Fe_2SiO_4', 'Fe_2SiO_4', 'Fe_2Si_3B', 'Fe_12N_2', 'Fe_12C_6', 'Fe_12C_2', 'Re_2Co_17', 'Re_3B_12', 'Re_3B_10', 'At_2Xe_3', 'At_2Xe_2', 'At_2X_12', 'At_2X_10', 'U_12C_6', 'U_12C_2', 'Zn_2CrO_4', 'Zr_6Cu_1', 'Zr_6Cd_1', 'Zr_6Cd_2', 'Zr_6Cd_3', 'Zr_6O_12', 'Zr_6O_13', 'Zr_6O_11', 'LiNi_2Co_0', 'LiNi_2Co_1', 'Si_12O_19', 'Si_12O_16', 'Si_12O_16', 'Si_12O_18', 'Si_12O_18', 'SiC_2H_2O', 'SiC_2H_5O', 'SiC_2H_3O', 'SiC_2H_3N', 'SiC_2O_2H', 'SiC_8H_10', 'SiC_8H_18', 'K_2CuCl_4', 'K_3FeCl_12', 'K_3FeCl_10', 'KC_2H_5N', 'KC_2F_5N', 'KC_2F_5O', 'KC_2F_4N', 'KC_2F_4O', 'V_12O_19', 'V_12O_18', 'V_12O_28', 'V_12C_18', 'V_12C_12', 'V_10O_16', 'V_10O_18', 'V_10O_17', 'V_10O_28', 'V_10O_20', 'V_10O_22', 'In_3SnS_4', 'In_3SnS_4', 'In_4Sn_12', 'In_4SnS_4', 'W_12C_18', 'W_12C_24', 'W_12C_22', 'W_12O_40', 'W_12O_19', 'W_12O_18', 'W_12O_18', 'W_12O_28', 'W_12O_20', 'W_12O_20', 'W_12O_22', 'W_12O_22', 'Fe_3C_2Ti', 'Fe_12N_12', 'Fe_12N_18', 'Fe_12C_12', 'At_2Xe_12', 'At_2Xe_13', 'At_2Xe_10', 'At_2Xe_3Y', 'At_2X_2YZ', 'At_2X_2YZ', 'At_2X_100', 'At_12B_12', 'At_12B_60', 'U_12C_12', 'U_12C_18', 'U_12C_24', 'U_12C_22', 'Zn_2CrSb_8', 'Zn_2CrSb_1', 'Zn_2CrSb_1', 'Zn_2CrSb_1', 'Zn_2CrSb_2', 'Zn_12Cd_1', 'Zr_6Cu_12', 'Zr_6Cd_12', 'Li_3N_2O_4', 'Li_3N_2O_2', 'Li_3N_2O_3', 'Li_3N_4O_4', 'Li_3N_3O_4', 'LiNi_2Mn_0', 'LiNi_2Mg_0', 'SiC_xH_yOz', 'K_2C_2O_7', 'K_2C_2N_4', 'K_2C_2N_6', 'K_2C_4N_4', 'K_2C_4N_6', 'K_2C_4O_9', 'K_2C_4O_6', 'K_3C_2N_4', 'K_3C_2N_6', 'K_3C_2O_6', 'K_3C_2O_7', 'K_3Fe_2O_4', 'K_3Fe_4O_9', 'KC_2F_5OCl', 'Ca_2MnSiO_5', 'Ca_2MnSiO_6', 'Ca_2MnSiO_4', 'Ca_2Co_2O_6', 'Ca_2Co_3O_6', 'Ca_2CoMnO_6', 'Ca_2CoMnO_4', 'Ca_2CoMnO_5', 'Ca_3Co_2O_6', 'Ca_3Co_4O_9', 'In_4SnSb_4', 'In_4SnSb_2', 'In_4S_4O_1', 'In_4S_4O_6', 'WC_1-xN_x', 'WC_1−xN_x', 'W_2O_7S_2', 'W_2O_7S_3', 'W_2O_7S_4', 'W_2O_8S_2', 'W_2O_8S_4', 'W_2C_xN_2', 'W_2C_xN_2', 'W_2C_xN_4', 'W_3C_2N_2', 'W_3C_2N_4', 'W_3C_2N_3', 'Fe_2Si_3O_6', 'Fe_2Si_3O_8', 'Fe_2Si_2O_6', 'Fe_2Si_2O_4', 'Fe_3C_2O_4', 'Fe_3C_2T_2', 'Fe_3C_2T_4', 'Fe_3C_2T_x', 'At_2Xe_2YZ', 'At_2X_3Y_3', 'At_2X_3Y_4', 'At_2X_3Y_2', 'At_2X_2Y_2', 'At_2X_2Y_3', 'At_2X_2Y_4', 'U_2O_3N_2', 'U_2O_3N_4', 'U_3P_5S_2', 'Zn_2CrSbS_4', 'Zn_2CrSbS_6', 'Zn_2CrSnS_4', 'Zn_2CrSnS_6', 'Zn_2CrSnS_8', 'Zr_2O_2Si_2', 'Zr_2O_2Si_3', 'Zr_2O_2Si_1', 'Zr_2O_2N_2', 'Zr_2O_2N_4', 'Zr_6C_2N_4']\n"
     ]
    }
   ],
   "source": [
    "elements = [\n",
    "    'Li_3N_2O_4', 'Li_3N_2O_2', 'Li_3N_2O_3', 'Li_3N_4O_2', 'Li_3N_4O_3', 'Li_3N_4O_4', 'Li_3N_3O_1', 'Li_3N_3O_2', 'Li_3N_3O_4', 'Li_3Ni_2Mn', 'Li_3Ni_2Mg', 'Li_3Ni_2Co_', 'Li_3Ni_2CoM', 'Li_3Ni_4Co_', 'LiNi_2CoMn_', 'LiNi_2Co_2M', 'LiNi_2Co_2O', 'LiNi_2Mn_1', 'LiNi_2Mn_0', 'LiNi_2Mn_2', 'LiNi_2Mg_0', 'LiNi_2Mg_1', 'Si_12O_16N', 'Si_12B_12O', 'Si_12B_12H', 'Si_12B_18H', 'Si_12B_19H', 'Si_12B_19O', 'Si_12B_19N', 'Si_12B_6O_', 'Si_12C_6H_', 'Si_12C_18H', 'Si_12C_12O', 'Si_12C_12H', 'Si_12C_12N', 'SiC_2H_2O_', 'SiC_2H_2N_', 'SiC_2H_2NH', 'SiC_2H_5O_', 'SiC_2H_5OCH', 'SiC_2H_3O_', 'SiC_2H_3N_', 'SiC_2O_2H_', 'SiC_xO_yH_', 'SiC_xH_yO_', 'SiC_xH_yOz', 'SiC_8H_10O', 'SiC_8H_10N', 'SiC_8H_16N', 'SiC_8H_16O', 'SiC_8H_18N', 'SiC_8H_18O', 'SiC_8H_6O_', 'SiC_8H_6N_', 'SiC_8H_8O_', 'SiC_8H_8N_', 'K_2CuCl_4·', 'K_2C_2O_6', 'K_2C_2O_7', 'K_2C_2O_4', 'K_2C_2N_2', 'K_2C_2N_4', 'K_2C_2N_6', 'K_2C_60N_', 'K_2C_4H_2', 'K_2C_4H_3', 'K_2C_4H_4', 'K_2C_4N_2', 'K_2C_4N_4', 'K_2C_4N_6', 'K_2C_4O_1', 'K_2C_4O_9', 'K_2C_4O_6', 'K_3C_60N_', 'K_3C_2N_4', 'K_3C_2N_2', 'K_3C_2N_6', 'K_3C_2O_6', 'K_3C_2O_4', 'K_3C_2O_7', 'K_3CuSbO_', 'K_3CuSb_2', 'K_3CuSb_4', 'K_3CuSb_3', 'K_3CuSnO_', 'K_3CuSnF_', 'K_3CuSnBr_', 'K_3FeCl_6Br_', 'K_3FeCl_6N_', 'K_3FeCl_12Br', 'K_3FeCl_12F', 'K_3FeCl_10O', 'K_3FeCl_10F', 'K_3FeCl_9N_', 'K_3FeCl_9O_', 'K_3Fe_2O_4', 'K_3Fe_5O_1', 'K_3Fe_4O_9', 'K_3Fe_4O_1', 'KC_2H_5NH', 'KC_2H_5N_', 'KC_2H_4N_', 'KC_2H_3N_', 'KC_2H_3O_', 'KC_2O_3N_', 'KC_2F_5N_', 'KC_2F_5O_', 'KC_2F_5OCl', 'KC_2F_4N_', 'KC_2F_4O_', 'KC_8H_10N', 'KC_8H_10O', 'KC_8H_12N', 'KC_8H_12O', 'KC_8H_11N', 'KC_8H_8N_', 'KC_8H_8O_', 'KC_4H_4N_', 'KC_4H_4O_', 'KC_4H_8N_', 'KC_4H_8O_', 'KC_4H_10N', 'KC_4H_10O', 'KC_4H_12N', 'KC_4H_12O', 'KC_4H_11N', 'Ca_2Mg_2Si_', 'Ca_2Mg_2Al_', 'Ca_2Mg_3Si_', 'Ca_2Mg_3Al_', 'Ca_2Mn_3O_', 'Ca_2Mn_2O_', 'Ca_2MnSi_2O', 'Ca_2MnSiO_5', 'Ca_2MnSiO_6', 'Ca_2MnSiO_4', 'Ca_2CoAl_12O', 'Ca_2CoAl_10O', 'Ca_2CoAl_2O_', 'Ca_2CoAl_2Si_', 'Ca_2CoAl_4O_', 'Ca_2Co_12O_', 'Ca_2Co_12Al_', 'Ca_2Co_2O_6', 'Ca_2Co_2O_4', 'Ca_2Co_2O_5', 'Ca_2Co_2Mn_', 'Ca_2Co_2Mg_', 'Ca_2Co_2Al_1', 'Ca_2Co_2Al_2', 'Ca_2Co_2Al_4', 'Ca_2Co_3O_6', 'Ca_2Co_3O_1', 'Ca_2CoMnSi_2', 'Ca_2CoMnSi_4', 'Ca_2CoMnSi_3', 'Ca_2CoMnSiO_', 'Ca_2CoMnO_6', 'Ca_2CoMnO_4', 'Ca_2CoMnO_5', 'Ca_2CoMn_2O', 'Ca_2CoMn_3O', 'Ca_2CoMn_4O', 'Ca_2CoMgSi_2', 'Ca_2CoMgSi_4', 'Ca_2CoMgSiO_', 'Ca_2CoMgZnT', 'Ca_2CoMg_2Al', 'Ca_2CoMg_2Si', 'Ca_2CoMg_3Si', 'Ca_2CoMg_3Al', 'Ca_2CoMg_4Al', 'Ca_3Co_2O_6', 'Ca_3Co_4O_1', 'Ca_3Co_4O_9', 'Ca_3Co_12O_', 'Ca_10Al_10T', 'Ca_10Al_10Fe', 'Ca_10Al_12O', 'Ca_10Al_9Mg', 'Ca_10Al_9Mn', 'Ca_10Al_9Si_', 'Ca_10Al_2Si_', 'Ca_10Al_2O_', 'Ca_10Al_20M', 'Ca_10Al_20T', 'Ca_10Al_20Si', 'V_4Co_12Cr_', 'V_4Co_12Fe_', 'V_4Co_16Cr_', 'V_4Co_2Cr_2', 'V_4Co_2Cr_1', 'V_4Co_2Cr_3', 'V_4Co_2Mn_', 'V_4Co_2MnS', 'V_12C_18N', 'V_12C_18H', 'V_12C_12N', 'V_12C_12O', 'V_12C_2N_', 'In_3Sb_2Te_', 'In_3Sb_2O_', 'In_3Sb_5Te_', 'In_3Sb_5Se_', 'In_3Sb_4O_', 'In_3Sb_4Se_', 'In_3Sb_4Te_', 'In_3Sn_2S_', 'In_3Sn_2Sb', 'In_3Sn_2O_', 'In_3Sn_4S_', 'In_3Sn_4Sb', 'In_3Sn_4O_', 'In_3Sn_3S_', 'In_3Sn_3Sb', 'In_3Sn_3O_', 'In_3Sn_3As_', 'In_4Sn_4S_', 'In_4Sn_4Sb', 'In_4Sn_4O_', 'In_4Sn_12S', 'In_4Sn_3Sb', 'In_4Sn_3S_', 'In_4Sn_3O_', 'In_4SnSb_4', 'In_4SnSb_2', 'In_4SnSb_1', 'In_4Sb_12Se', 'In_4Sb_12Te', 'In_4Sb_4O_', 'In_4Sb_4Te_', 'In_4Sb_4Se_', 'In_4Sb_2Te_', 'In_4Sb_2O_', 'In_4S_3O_1', 'In_4S_4O_1', 'In_4S_4O_6', 'In_4S_4O_2', 'WC_1-xNb_', 'WC_1-xN_x', 'WC_1−xNb_', 'WC_1−xN_x', 'W_2O_7S_2', 'W_2O_7S_3', 'W_2O_7S_4', 'W_2O_8S_2', 'W_2O_8S_4', 'W_2C_xN_2', 'W_2C_xN_1', 'W_2C_xN_4', 'W_12C_18N', 'W_12C_18H', 'W_12C_24N', 'W_12C_24H', 'W_12C_20N', 'W_12C_20H', 'W_12C_22N', 'W_12C_22S', 'W_3C_12N_', 'W_3C_12B_', 'W_3C_12BN', 'W_3C_18H_', 'W_3C_18N_', 'W_3C_2N_2', 'W_3C_2N_4', 'W_3C_2N_3', 'Fe_2Si_3O_1', 'Fe_2Si_3O_6', 'Fe_2Si_3O_8', 'Fe_2Si_3B_2', 'Fe_2Si_3B_1', 'Fe_2Si_2O_5', 'Fe_2Si_2O_6', 'Fe_2Si_2O_4', 'Fe_3C_2O_4', 'Fe_3C_2T_2', 'Fe_3C_2T_4', 'Fe_3C_2T_x', 'Fe_3C_2Ti_', 'Fe_12N_2O_', 'Fe_12N_12O', 'Fe_12N_18O', 'Fe_12N_18Co', 'Fe_12C_6N_', 'Fe_12C_6S_', 'Fe_12C_6Sb', 'Fe_12C_18N', 'Fe_12C_12N', 'Fe_12C_12O', 'Fe_12C_2N_', 'Fe_12C_2Si_', 'Re_2Co_17B_', 'Re_2Co_17Al_', 'Re_2Co_12B_', 'Re_2Co_12Al_', 'Re_2Co_10B_', 'Re_2Co_10Al_', 'Re_2Co_2Si_2', 'Re_2Co_2Si_1', 'Re_2Co_2Al_1', 'Re_2Co_2Al_2', 'Re_3B_12C_', 'Re_3B_10Si_', 'At_2Xe_12B', 'At_2Xe_12Y', 'At_2Xe_13B', 'At_2Xe_13Y', 'At_2Xe_10B', 'At_2Xe_10Y', 'At_2Xe_3Y_', 'At_2Xe_2Y_', 'At_2Xe_2YZ', 'At_2X_3Y_3', 'At_2X_3Y_4', 'At_2X_3Y_2', 'At_2X_2Y_2', 'At_2X_2Y_3', 'At_2X_2Y_4', 'At_2X_2YZ_', 'At_2X_12Y_', 'At_2X_100Y', 'At_2X_10Y_', 'At_12B_12C', 'At_12B_12H', 'At_12B_18H', 'At_12B_60Si', 'At_12B_60H', 'At_12B_6O_', 'At_12C_18H', 'At_12C_18O', 'At_12C_18N', 'At_12C_12O', 'At_12C_12N', 'At_12C_12H', 'At_12C_24H', 'At_12C_24N', 'At_12C_20H', 'At_12C_20N', 'U_2O_3N_2', 'U_2O_3N_4', 'U_2O_3NH_', 'U_3P_2O_1', 'U_3P_4O_1', 'U_3P_5O_1', 'U_3P_5O_2', 'U_3P_5S_1', 'U_3P_5S_2', 'U_3P_5Sb_', 'U_12C_12N', 'U_12C_12O', 'U_12C_18N', 'U_12C_6N_', 'U_12C_24N', 'U_12C_22N', 'Zn_2CrSb_8S', 'Zn_2CrSb_2S', 'Zn_2CrSbS_4', 'Zn_2CrSbS_6', 'Zn_2CrSnS_4', 'Zn_2CrSnS_6', 'Zn_2CrSnS_8', 'Zn_12Cu_2M', 'Zn_12Cu_2N', 'Zn_12Cu_3N', 'Zn_12Cu_3M', 'Zn_12Cu_12', 'Zn_12Cd_12', 'Zn_12Cd_1S', 'Zn_12Cd_3Co', 'Zn_12Cd_3N', 'Zn_12Cd_3S', 'Zn_12Cd_2N', 'Zn_12Cd_2M', 'Zn_12Cd_2S', 'Zr_2O_2SiO_', 'Zr_2O_2Si_2', 'Zr_2O_2Si_3', 'Zr_2O_2Si_1', 'Zr_2O_2N_2', 'Zr_2O_2N_4', 'Zr_6Cu_3Si_', 'Zr_6Cu_12N', 'Zr_6Cu_12Si', 'Zr_6Cu_2Si_', 'Zr_6Cu_2Ni', 'Zr_6C_2H_1', 'Zr_6C_2H_2', 'Zr_6C_2O_1', 'Zr_6C_2O_2', 'Zr_6C_2N_2', 'Zr_6C_2N_4', 'Zr_6C_2N_6', 'Zr_6C_12H_', 'Zr_6C_12O_', 'Zr_6C_12N_', 'Zr_6Cd_12N', 'Zr_6Cd_2Ni', 'Zr_6Cd_3Ni', 'Zr_6O_12N_', 'Zr_6O_13N_', 'Zr_6O_11N_', 'Zr_6O_11Cl_'\n",
    "]\n",
    "\n",
    "# 存储新的列表和特殊字符的元素列表\n",
    "new_elements = []\n",
    "\n",
    "# 特殊字符列表\n",
    "special_chars = {'.', '</s>', ' ', 'The', '\\n', '(', '[', '-', '−'}\n",
    "\n",
    "for element in elements:\n",
    "    # 添加一个空格，然后编码为输入张量\n",
    "    input_text = input_prompt + element\n",
    "    input_ids = tokenizer.encode(input_text, return_tensors=\"pt\").to(\"cuda\")\n",
    "\n",
    "    # 生成下一个字符的概率分布\n",
    "    with torch.no_grad():\n",
    "        logits = peft_model(input_ids).logits\n",
    "\n",
    "    # 计算下一个字符的概率\n",
    "    next_char_prob = torch.softmax(logits[0, -1, :], dim=-1)\n",
    "\n",
    "    # 寻找概率大于0.1且概率排在前三的字符\n",
    "    top_chars = torch.topk(next_char_prob, k=2)\n",
    "    for char_id, prob in zip(top_chars.indices, top_chars.values):\n",
    "        if prob > 0.2:\n",
    "            next_char = tokenizer.decode([char_id])\n",
    "            if next_char not in special_chars:\n",
    "                new_element = element + next_char\n",
    "                new_elements.append(new_element)\n",
    "            else:\n",
    "                results.append(element)\n",
    "\n",
    "# 打印新的列表\n",
    "print(\"New Elements:\", new_elements)\n",
    "\n",
    "# 打印特殊字符对应的元素列表\n",
    "print(\"Results:\", results)"
   ]
  },
  {
   "cell_type": "code",
   "execution_count": 20,
   "id": "04984edd-f48c-439e-945e-9897319e2a8d",
   "metadata": {},
   "outputs": [
    {
     "name": "stdout",
     "output_type": "stream",
     "text": [
      "New Elements: ['LiNi_2Co_2O_12', 'LiNi_2Mn_2O_1', 'Si_12B_12O_36', 'Si_12B_12H_12', 'Si_12C_12O_12', 'Si_12C_12H_12', 'SiC_2H_3N_2O_', 'SiC_8H_10N_2O', 'SiC_8H_6O_3N_', 'SiC_8H_6N_2O_', 'SiC_8H_8O_3N_', 'SiC_8H_8N_2O_', 'SiC_8H_8N_4O_', 'K_2C_2N_2O_1', 'K_2C_2N_4O_1', 'K_2C_2N_6O_1', 'K_2C_4N_2O_1', 'K_2C_4N_4O_1', 'K_2C_4N_6O_1', 'K_3C_2N_4O_1', 'K_3C_2N_2O_1', 'K_3C_2N_6O_1', 'K_3CuSb_2O_1', 'K_3CuSb_4O_1', 'K_3CuSb_3O_1', 'K_3FeCl_6N_6O_', 'K_3FeCl_6N_2O_', 'KC_2H_5N_2O_', 'KC_2H_5N_3O_', 'KC_2H_4N_2O_', 'KC_2H_3N_2O_', 'KC_2F_4N_2O_', 'KC_8H_10N_2O', 'KC_8H_12N_2O', 'KC_8H_11N_2O', 'KC_8H_8N_2O_', 'KC_4H_4N_2O_', 'KC_4H_8N_2O_', 'KC_4H_8N_4O_', 'KC_4H_10N_2O', 'KC_4H_12N_2O', 'KC_4H_11N_2O', 'Ca_2Mg_2Si_2O_', 'Ca_2CoAl_12O_22', 'Ca_2CoAl_2Si_2O_', 'Ca_2Co_2Al_12O_', 'Ca_2Co_2Al_2O_1', 'Ca_2Co_2Al_4O_1', 'Ca_2CoMnSi_2O_1', 'Ca_2CoMnSi_4O_1', 'Ca_2CoMnSi_3O_1', 'Ca_2CoMn_2O_12', 'Ca_2CoMn_3O_12', 'Ca_2CoMgSi_2O_1', 'Ca_2CoMgSi_4O_1', 'Ca_10Al_12O_22', 'In_4Sn_3Sb_12', 'In_4Sb_12Se_22', 'In_4Sb_12Te_19', 'WC_1-xNb_xO_', 'WC_1-xN_xO_1', 'WC_1−xNb_xO_', 'WC_1−xN_xO_1', 'W_3C_2N_2O_1', 'W_3C_2N_4O_1', 'W_3C_2N_3O_1', 'Fe_2Si_3B_2O_1', 'Re_2Co_2Si_2O_1', 'Re_2Co_2Al_2O_1', 'At_2X_2Y_2Z_2', 'At_12B_12C_12', 'U_12C_12N_12', 'Zn_12Cd_1Sb_1', 'Zn_12Cd_3Sn_1', 'Zn_12Cd_3Sb_1', 'Zn_12Cd_2Ni_4', 'Zn_12Cd_2Sn_1', 'Zn_12Cd_2Sb_1', 'Zr_6Cu_3Si_6O_', 'Zr_6C_2N_2O_1', 'Zr_6C_2N_4O_1', 'Zr_6C_2N_6O_1', 'Zr_6C_12N_6O_', 'Zr_6C_12N_12O']\n",
      "Results: ['SiC_2H_2NH_2', 'SiC_2O_2H_2O', 'K_3CuSbO_12', 'K_3CuSnO_12', 'K_3CuSnBr_12', 'KC_2H_5NH_3', 'Ca_2Mn_3O_12', 'Ca_10Al_2O_19', 'In_3Sb_2Te_12', 'In_3Sb_2O_12', 'In_3Sb_5Te_12', 'In_3Sb_4Te_12', 'Fe_12N_2O_19']\n"
     ]
    }
   ],
   "source": [
    "elements = [\n",
    "    'LiNi_2Co_2Mn_', 'LiNi_2Co_2O_1', 'LiNi_2Mn_2O_', 'Si_12B_12O_3', 'Si_12B_12H_1', 'Si_12B_6O_19', 'Si_12B_6O_22', 'Si_12C_12O_1', 'Si_12C_12H_1', 'SiC_2H_2N_2O', 'SiC_2H_2NH_2', 'SiC_2H_5OCH_3', 'SiC_2H_3N_2O', 'SiC_2O_2H_2O', 'SiC_8H_10N_2', 'SiC_8H_6O_3N', 'SiC_8H_6N_2O', 'SiC_8H_8O_3N', 'SiC_8H_8N_2O', 'SiC_8H_8N_4O', 'K_2C_2O_6N_', 'K_2C_2O_4N_', 'K_2C_2N_2O_', 'K_2C_2N_4O_', 'K_2C_2N_6O_', 'K_2C_4H_2N_', 'K_2C_4H_3N_', 'K_2C_4H_3O_', 'K_2C_4H_4N_', 'K_2C_4H_4O_', 'K_2C_4N_2O_', 'K_2C_4N_4O_', 'K_2C_4N_6O_', 'K_3C_60N_12', 'K_3C_2N_4O_', 'K_3C_2N_2O_', 'K_3C_2N_6O_', 'K_3C_2O_6N_', 'K_3C_2O_4N_', 'K_3CuSbO_12', 'K_3CuSb_2O_', 'K_3CuSb_4O_', 'K_3CuSb_3O_', 'K_3CuSnO_12', 'K_3CuSnBr_12', 'K_3FeCl_6N_6O', 'K_3FeCl_6N_2O', 'K_3Fe_2O_4N_', 'KC_2H_5NH_3', 'KC_2H_5N_2O', 'KC_2H_5N_3O', 'KC_2H_4N_2O', 'KC_2H_3N_2O', 'KC_2F_4N_2O', 'KC_8H_10N_2', 'KC_8H_12N_2', 'KC_8H_11N_2', 'KC_8H_8N_2O', 'KC_4H_4N_2O', 'KC_4H_8N_2O', 'KC_4H_8N_4O', 'KC_4H_10N_2', 'KC_4H_12N_2', 'KC_4H_11N_2', 'Ca_2Mg_2Si_2O', 'Ca_2Mn_3O_12', 'Ca_2MnSi_2O_1', 'Ca_2MnSiO_5O_', 'Ca_2CoAl_12O_2', 'Ca_2CoAl_10O_2', 'Ca_2CoAl_2Si_2O', 'Ca_2Co_2Al_12O', 'Ca_2Co_2Al_2O_', 'Ca_2Co_2Al_4O_', 'Ca_2CoMnSi_2O_', 'Ca_2CoMnSi_4O_', 'Ca_2CoMnSi_3O_', 'Ca_2CoMn_2O_1', 'Ca_2CoMn_3O_1', 'Ca_2CoMn_4O_1', 'Ca_2CoMgSi_2O_', 'Ca_2CoMgSi_4O_', 'Ca_10Al_10Ti_', 'Ca_10Al_12O_2', 'Ca_10Al_2O_19', 'Ca_10Al_20Mg_', 'Ca_10Al_20Mn_', 'Ca_10Al_20Ti_', 'V_4Co_2MnSn_', 'In_3Sb_2Te_12', 'In_3Sb_2O_12', 'In_3Sb_5Te_12', 'In_3Sb_4Te_12', 'In_4Sn_12Sb_', 'In_4Sn_3Sb_1', 'In_4Sb_12Se_2', 'In_4Sb_12Te_1', 'WC_1-xNb_xO', 'WC_1-xN_xO_', 'WC_1−xNb_xO', 'WC_1−xN_xO_', 'W_3C_12N_12', 'W_3C_12B_12', 'W_3C_2N_2O_', 'W_3C_2N_4O_', 'W_3C_2N_3O_', 'Fe_2Si_3B_2O_', 'Fe_2Si_2O_5N_', 'Fe_2Si_2O_4N_', 'Fe_12N_2O_19', 'Fe_12N_12O_4', 'Re_2Co_2Si_2O_', 'Re_2Co_2Al_2O_', 'Re_3B_12C_12', 'At_2Xe_12B_1', 'At_2Xe_12Yb_', 'At_2Xe_13Yb_', 'At_2Xe_10Yb_', 'At_2X_3Y_4Z_', 'At_2X_3Y_2Z_', 'At_2X_2Y_2Z_', 'At_2X_2Y_3Z_', 'At_2X_2Y_4Z_', 'At_2X_100Yb_', 'At_12B_12C_1', 'At_12B_12H_1', 'At_12C_12H_1', 'U_2O_3N_2O_', 'U_12C_12N_1', 'Zn_2CrSb_2Sn_', 'Zn_12Cu_2Mn_', 'Zn_12Cu_2Ni_', 'Zn_12Cu_3Ni_', 'Zn_12Cu_3Mn_', 'Zn_12Cd_1Sn_', 'Zn_12Cd_1Sb_', 'Zn_12Cd_3Ni_', 'Zn_12Cd_3Sn_', 'Zn_12Cd_3Sb_', 'Zn_12Cd_2Ni_', 'Zn_12Cd_2Mn_', 'Zn_12Cd_2Sn_', 'Zn_12Cd_2Sb_', 'Zr_2O_2Si_2O_', 'Zr_2O_2Si_3O_', 'Zr_2O_2N_2O_', 'Zr_2O_2N_4O_', 'Zr_6Cu_3Si_6O', 'Zr_6Cu_12Ni_', 'Zr_6Cu_12Si_1', 'Zr_6C_2H_2N_', 'Zr_6C_2H_2O_', 'Zr_6C_2N_2O_', 'Zr_6C_2N_4O_', 'Zr_6C_2N_6O_', 'Zr_6C_12N_6O', 'Zr_6C_12N_12', 'Zr_6Cd_12Ni_'\n",
    "]\n",
    "\n",
    "# 存储新的列表和特殊字符的元素列表\n",
    "new_elements = []\n",
    "results = []\n",
    "\n",
    "# 特殊字符列表\n",
    "special_chars = {'.', '</s>', ' ', 'The', '\\n', '(', '[', '-', '−'}\n",
    "\n",
    "for element in elements:\n",
    "    # 添加一个空格，然后编码为输入张量\n",
    "    input_text = input_prompt + element\n",
    "    input_ids = tokenizer.encode(input_text, return_tensors=\"pt\").to(\"cuda\")\n",
    "\n",
    "    # 生成下一个字符的概率分布\n",
    "    with torch.no_grad():\n",
    "        logits = peft_model(input_ids).logits\n",
    "\n",
    "    # 计算下一个字符的概率\n",
    "    next_char_prob = torch.softmax(logits[0, -1, :], dim=-1)\n",
    "\n",
    "    # 寻找概率大于0.1且概率排在前三的字符\n",
    "    top_chars = torch.topk(next_char_prob, k=2)\n",
    "    for char_id, prob in zip(top_chars.indices, top_chars.values):\n",
    "        if prob > 0.5:\n",
    "            next_char = tokenizer.decode([char_id])\n",
    "            if next_char not in special_chars:\n",
    "                new_element = element + next_char\n",
    "                new_elements.append(new_element)\n",
    "            else:\n",
    "                results.append(element)\n",
    "\n",
    "# 打印新的列表\n",
    "print(\"New Elements:\", new_elements)\n",
    "\n",
    "# 打印特殊字符对应的元素列表\n",
    "print(\"Results:\", results)"
   ]
  },
  {
   "cell_type": "code",
   "execution_count": null,
   "id": "b64e29ed-2b1d-40a1-92b1-8588ca049150",
   "metadata": {},
   "outputs": [],
   "source": []
  },
  {
   "cell_type": "code",
   "execution_count": 53,
   "id": "e9ae0325-d28d-49aa-b705-93e3d26730b7",
   "metadata": {},
   "outputs": [
    {
     "name": "stdout",
     "output_type": "stream",
     "text": [
      "Answer the materials:\n",
      " Material with low magnetic damping constant.\n",
      " The molecular formula of the material: \n",
      "['He_', 'Li_', 'LiN', 'OCS', 'OC', 'O_', 'SiC', 'Si_', 'SiO', 'KC', 'K_', 'Ca_', 'V(', 'V_', 'VO', 'In_', 'WC', 'W_', 'WO', 'Re_', 'Atom', 'Atleast', 'At_', 'Acet', 'Ac_', 'U(', 'U_', 'UO', 'Nodata', 'Noinformation', 'Zn(', 'Zn_', 'Zr(', 'Zr_']\n"
     ]
    }
   ],
   "source": [
    "def generate_prompt(prompt, output=None, eos_token=\"</s>\"):\n",
    "    instruction = \"Answer the materials:\\n\"\n",
    "    input = f\"Material with {prompt}\\n\"\n",
    "    output = f\"The molecular formula of the material: \"\n",
    "    prompt = (\" \").join([instruction, input, output])\n",
    "    return prompt\n",
    "\n",
    "input_prompt = generate_prompt('low magnetic damping constant.')\n",
    "print(input_prompt)\n",
    "input_tokens = tokenizer(input_prompt, return_tensors=\"pt\")[\"input_ids\"].to(\"cuda\")\n",
    "\n",
    "elements = [\n",
    "    \"He\", \"Li\", \"O\", \"Si\", \"K\", \"Ca\", \"V\", \"In\", \"W\", \"Re\", \"At\", \"Ac\", \"Th\", \"U\", \"No\", \"Zn\", \"Zr\"\n",
    "]\n",
    "\n",
    "# 存储新的列表\n",
    "new_elements = []\n",
    "\n",
    "# 遍历每个元素\n",
    "for element in elements:\n",
    "    # 添加一个空格，然后编码为输入张量\n",
    "    input_text = input_prompt + element\n",
    "    input_ids = tokenizer.encode(input_text, return_tensors=\"pt\")\n",
    "\n",
    "    # 生成下一个字符的概率分布\n",
    "    with torch.no_grad():\n",
    "        logits = peft_model(input_ids).logits\n",
    "\n",
    "    # 计算下一个字符的概率\n",
    "    next_char_prob = torch.softmax(logits[0, -1, :], dim=-1)\n",
    "\n",
    "    # 寻找概率大于0.1的字符并添加到新列表\n",
    "    for char_id, prob in enumerate(next_char_prob):\n",
    "        if prob > 0.1:\n",
    "            next_char = tokenizer.decode([char_id])\n",
    "            new_element = element + next_char\n",
    "            new_elements.append(new_element)\n",
    "\n",
    "# 打印新的列表\n",
    "print(new_elements)"
   ]
  },
  {
   "cell_type": "code",
   "execution_count": 54,
   "id": "91bce023-a2ce-43cc-aa2a-be8837546653",
   "metadata": {},
   "outputs": [
    {
     "name": "stdout",
     "output_type": "stream",
     "text": [
      "Answer the materials:\n",
      " Material with low magnetic damping constant.\n",
      " The molecular formula of the material: \n",
      "['He_2', 'He_3', 'He_4', 'Li_2', 'Li_3', 'LiNi', 'LiNb', 'LiN(', 'OCSi', 'OCS.', 'OC(', 'OC_', 'O_2', 'O_3', 'SiC.', 'SiC_', 'Si_1', 'Si_2', 'Si_3', 'Si_4', 'SiO.', 'SiO_', 'KCu', 'KC_', 'K_2', 'K_3', 'Ca_1', 'Ca_2', 'Ca_3', 'Ca_5', 'V(CO', 'V(C', 'V_1', 'V_2', 'V_3', 'V_4', 'VO(', 'In_2', 'In_3', 'In_4', 'WC_', 'W_1', 'W_2', 'W_3', 'WO_', 'Re_2', 'Re_3', 'At_1', 'At_2', 'Ac_2', 'U_1', 'U_2', 'U_3', 'UO_', 'Zn(CH', 'Zn(C', 'Zn_1', 'Zn_2', 'Zr(CH', 'Zr(C', 'Zr_2', 'Zr_6']\n"
     ]
    }
   ],
   "source": [
    "def generate_prompt(prompt, output=None, eos_token=\"</s>\"):\n",
    "    instruction = \"Answer the materials:\\n\"\n",
    "    input = f\"Material with {prompt}\\n\"\n",
    "    output = f\"The molecular formula of the material: \"\n",
    "    prompt = (\" \").join([instruction, input, output])\n",
    "    return prompt\n",
    "\n",
    "input_prompt = generate_prompt('low magnetic damping constant.')\n",
    "print(input_prompt)\n",
    "input_tokens = tokenizer(input_prompt, return_tensors=\"pt\")[\"input_ids\"].to(\"cuda\")\n",
    "\n",
    "elements = [\n",
    "    'He_', 'Li_', 'LiN', 'OCS', 'OC', 'O_', 'SiC', 'Si_', 'SiO', 'KC', 'K_', 'Ca_', 'V(', 'V_', 'VO', 'In_', 'WC', 'W_', 'WO', 'Re_', 'At_', 'Ac_', 'U(', 'U_', 'UO', 'Zn(', 'Zn_', 'Zr(', 'Zr_'\n",
    "]\n",
    "\n",
    "# 存储新的列表\n",
    "new_elements = []\n",
    "\n",
    "# 遍历每个元素\n",
    "for element in elements:\n",
    "    # 添加一个空格，然后编码为输入张量\n",
    "    input_text = input_prompt + element\n",
    "    input_ids = tokenizer.encode(input_text, return_tensors=\"pt\")\n",
    "\n",
    "    # 生成下一个字符的概率分布\n",
    "    with torch.no_grad():\n",
    "        logits = peft_model(input_ids).logits\n",
    "\n",
    "    # 计算下一个字符的概率\n",
    "    next_char_prob = torch.softmax(logits[0, -1, :], dim=-1)\n",
    "\n",
    "    # 寻找概率大于0.1的字符并添加到新列表\n",
    "    for char_id, prob in enumerate(next_char_prob):\n",
    "        if prob > 0.1:\n",
    "            next_char = tokenizer.decode([char_id])\n",
    "            new_element = element + next_char\n",
    "            new_elements.append(new_element)\n",
    "\n",
    "# 打印新的列表\n",
    "print(new_elements)"
   ]
  },
  {
   "cell_type": "code",
   "execution_count": 55,
   "id": "52609ac2-257a-4800-aaa6-ae67ee818d4b",
   "metadata": {},
   "outputs": [
    {
     "name": "stdout",
     "output_type": "stream",
     "text": [
      "Answer the materials:\n",
      " Material with low magnetic damping constant.\n",
      " The molecular formula of the material: \n",
      "['He_2C', 'He_2N', 'He_2O', 'He_3N', 'He_4N', 'He_4O', 'Li_2O', 'Li_3N', 'LiNi_', 'LiNbO', 'LiN(CH', 'LiN(SO', 'LiN(Si', 'LiN(C', 'OCSi(', 'OCS.</s>', 'OCS.\\n', 'OCS.The', 'OC(CH', 'OC_1', 'OC_2', 'OC_6', 'O_2S', 'O_2C', 'O_2N', 'O_3S', 'O_3C', 'SiC.</s>', 'SiC.\\n', 'SiC_1', 'SiC_2', 'SiC_x', 'SiC_8', 'SiC_6', 'Si_12', 'Si_2O', 'Si_3N', 'Si_3O', 'Si_40', 'Si_49', 'Si_4O', 'SiO.</s>', 'SiO.\\n', 'SiO.The', 'SiO_2', 'KCu(', 'KCu[', 'KC_1', 'KC_2', 'KC_4', 'KC_8', 'K_2C', 'K_3Fe', 'K_3C', 'K_3[', 'Ca_1.', 'Ca_10', 'Ca_12', 'Ca_2Co', 'Ca_2.', 'Ca_2M', 'Ca_3Co', 'Ca_3(', 'Ca_5(', 'V(CO)_', 'V(CO)', 'V(C_', 'V_1.', 'V_10', 'V_12', 'V_2O', 'V_3Si', 'V_3O', 'V_4Co', 'V_4O', 'VO(CO', 'VO(OH', 'VO(C', 'In_2O', 'In_3S', 'In_4(', 'In_4S', 'WC_1', 'W_10', 'W_12', 'W_2C', 'W_2O', 'W_3C', 'WO_1', 'WO_2', 'WO_3', 'Re_2Co', 'Re_2O', 'Re_3B', 'At_1.', 'At_12', 'At_2O', 'At_2X', 'Ac_2O', 'U_10', 'U_12', 'U_2(', 'U_2O', 'U_3P', 'UO_2', 'Zn(CH_', 'Zn(C_', 'Zn_1.', 'Zn_12', 'Zn_2Cr', 'Zn_2.', 'Zr(CH_', 'Zr(Cp', 'Zr(C_', 'Zr_2(', 'Zr_2O', 'Zr_6C', 'Zr_6O']\n"
     ]
    }
   ],
   "source": [
    "def generate_prompt(prompt, output=None, eos_token=\"</s>\"):\n",
    "    instruction = \"Answer the materials:\\n\"\n",
    "    input = f\"Material with {prompt}\\n\"\n",
    "    output = f\"The molecular formula of the material: \"\n",
    "    prompt = (\" \").join([instruction, input, output])\n",
    "    return prompt\n",
    "\n",
    "input_prompt = generate_prompt('low magnetic damping constant.')\n",
    "print(input_prompt)\n",
    "input_tokens = tokenizer(input_prompt, return_tensors=\"pt\")[\"input_ids\"].to(\"cuda\")\n",
    "\n",
    "elements = [\n",
    "    'He_2', 'He_3', 'He_4', 'Li_2', 'Li_3', 'LiNi', 'LiNb', 'LiN(', 'OCSi', 'OCS.', 'OC(', 'OC_', 'O_2', 'O_3', \n",
    "    'SiC.', 'SiC_', 'Si_1', 'Si_2', 'Si_3', 'Si_4', 'SiO.', 'SiO_', 'KCu', 'KC_', 'K_2', 'K_3', \n",
    "    'Ca_1', 'Ca_2', 'Ca_3', 'Ca_5', 'V(CO', 'V(C', 'V_1', 'V_2', 'V_3', 'V_4', 'VO(', \n",
    "    'In_2', 'In_3', 'In_4', 'WC_', 'W_1', 'W_2', 'W_3', 'WO_', 'Re_2', 'Re_3', 'At_1', 'At_2', 'Ac_2', \n",
    "    'U_1', 'U_2', 'U_3', 'UO_', 'Zn(CH', 'Zn(C', 'Zn_1', 'Zn_2', 'Zr(CH', 'Zr(C', 'Zr_2', 'Zr_6'\n",
    "]\n",
    "\n",
    "# 存储新的列表\n",
    "new_elements = []\n",
    "\n",
    "# 遍历每个元素\n",
    "for element in elements:\n",
    "    # 添加一个空格，然后编码为输入张量\n",
    "    input_text = input_prompt + element\n",
    "    input_ids = tokenizer.encode(input_text, return_tensors=\"pt\")\n",
    "\n",
    "    # 生成下一个字符的概率分布\n",
    "    with torch.no_grad():\n",
    "        logits = peft_model(input_ids).logits\n",
    "\n",
    "    # 计算下一个字符的概率\n",
    "    next_char_prob = torch.softmax(logits[0, -1, :], dim=-1)\n",
    "\n",
    "    # 寻找概率大于0.1的字符并添加到新列表\n",
    "    for char_id, prob in enumerate(next_char_prob):\n",
    "        if prob > 0.1:\n",
    "            next_char = tokenizer.decode([char_id])\n",
    "            new_element = element + next_char\n",
    "            new_elements.append(new_element)\n",
    "\n",
    "# 打印新的列表\n",
    "print(new_elements)"
   ]
  },
  {
   "cell_type": "code",
   "execution_count": 56,
   "id": "8f1159dd-6426-4e34-bf1f-cf971b8bdc2c",
   "metadata": {},
   "outputs": [
    {
     "name": "stdout",
     "output_type": "stream",
     "text": [
      "Answer the materials:\n",
      " Material with low magnetic damping constant.\n",
      " The molecular formula of the material: \n",
      "['He_2Cu', 'He_2C_', 'He_2N_', 'He_2NH', 'He_2O_', 'He_3N_', 'He_3NH', 'He_4N_', 'He_4O_', 'Li_2O.', 'Li_2O-', 'Li_2O_', 'Li_3Ni', 'Li_3N_', 'LiNi_1', 'LiNi_0', 'LiNi_2', 'LiNbO_', 'OC_10', 'OC_12', 'OC_18', 'OC_2H', 'OC_6H', 'O_2Sn', 'O_2S.', 'O_2S_', 'O_2CCH', 'O_2C(', 'O_2C_', 'O_2N_', 'O_2NH', 'O_3Sn', 'O_3S_', 'O_3C_', 'SiC_1.', 'SiC_10', 'SiC_12', 'SiC_2.', 'SiC_2O', 'SiC_2H', 'SiC_x.', 'SiC_xO', 'SiC_xH', 'SiC_8.', 'SiC_8H', 'SiC_6.', 'SiC_6H', 'Si_12C', 'Si_12B', 'Si_12O', 'Si_2O_', 'Si_3N_', 'Si_3O_', 'Si_40B', 'Si_40O', 'Si_49.', 'Si_4O_', 'SiO_2.', 'KC_10', 'KC_12', 'KC_2F', 'KC_2O', 'KC_2H', 'KC_4H', 'KC_8H', 'K_2Cu', 'K_2C_', 'K_3FeCl', 'K_3Fe(', 'K_3Fe_', 'K_3Cu', 'K_3C_', 'K_3[Co', 'K_3[Fe', 'K_3[M', 'Ca_1.0', 'Ca_1.2', 'Ca_1.9', 'Ca_1.5', 'Ca_10Al', 'Ca_10(', 'Ca_12(', 'Ca_2CoAl', 'Ca_2Co_', 'Ca_2CoM', 'Ca_2.0', 'Ca_2.2', 'Ca_2.9', 'Ca_2.5', 'Ca_2Mn', 'Ca_2Mg', 'Ca_3Co_', 'Ca_3(PO', 'Ca_5(Fe', 'Ca_5(PO', 'V_1.2', 'V_1.9', 'V_1.5', 'V_100', 'V_10O', 'V_12C', 'V_12O', 'V_2O_', 'V_3Si.', 'V_3Si_', 'V_3O_', 'V_4Co_', 'V_4O_', 'In_2O_', 'In_3Sn', 'In_3Sb', 'In_4(C', 'In_4Sn', 'In_4Sb', 'In_4S_', 'WC_1-', 'WC_1−', 'W_100', 'W_12C', 'W_12O', 'W_2C.', 'W_2C_', 'W_2O_', 'W_3C.', 'W_3C_', 'WO_10', 'WO_12', 'WO_3.', 'Re_2Co_', 'Re_2O_', 'Re_3B.', 'Re_3B_', 'At_1.2', 'At_1.9', 'At_1.5', 'At_12C', 'At_12B', 'At_2O_', 'At_2Xe', 'At_2X_', 'Ac_2O\\n', 'Ac_2O.', 'U_12C', 'U_2(C', 'U_2(N', 'U_2O_', 'U_3P_', 'UO_2(', 'UO_2P', 'Zn(CH_2', 'Zn(CH_3', 'Zn(C_2', 'Zn(C_4', 'Zn(C_6', 'Zn_1.2', 'Zn_1.9', 'Zn_1.5', 'Zn_12C', 'Zn_2CrS', 'Zn_2Cr_', 'Zn_2CrO', 'Zn_2.2', 'Zn_2.5', 'Zr(CH_2', 'Zr(Cp_', 'Zr(Cp*', 'Zr(C_2', 'Zr(C_5', 'Zr(C_4', 'Zr_2(CH', 'Zr_2O_', 'Zr_6Cd', 'Zr_6Cu', 'Zr_6C_', 'Zr_6O_']\n"
     ]
    }
   ],
   "source": [
    "def generate_prompt(prompt, output=None, eos_token=\"</s>\"):\n",
    "    instruction = \"Answer the materials:\\n\"\n",
    "    input = f\"Material with {prompt}\\n\"\n",
    "    output = f\"The molecular formula of the material: \"\n",
    "    prompt = (\" \").join([instruction, input, output])\n",
    "    return prompt\n",
    "\n",
    "input_prompt = generate_prompt('low magnetic damping constant.')\n",
    "print(input_prompt)\n",
    "input_tokens = tokenizer(input_prompt, return_tensors=\"pt\")[\"input_ids\"].to(\"cuda\")\n",
    "\n",
    "elements = [\n",
    "    'He_2C', 'He_2N', 'He_2O', 'He_3N', 'He_4N', 'He_4O', 'Li_2O', 'Li_3N', 'LiNi_', 'LiNbO', \n",
    "    'OC_1', 'OC_2', 'OC_6', 'O_2S', 'O_2C', 'O_2N', 'O_3S', 'O_3C', 'SiC_1', 'SiC_2', 'SiC_x', \n",
    "    'SiC_8', 'SiC_6', 'Si_12', 'Si_2O', 'Si_3N', 'Si_3O', 'Si_40', 'Si_49', 'Si_4O', 'SiO_2', \n",
    "    'KC_1', 'KC_2', 'KC_4', 'KC_8', 'K_2C', 'K_3Fe', 'K_3C', 'K_3[', 'Ca_1.', 'Ca_10', 'Ca_12', \n",
    "    'Ca_2Co', 'Ca_2.', 'Ca_2M', 'Ca_3Co', 'Ca_3(', 'Ca_5(', 'V_1.', 'V_10', 'V_12', 'V_2O', 'V_3Si', \n",
    "    'V_3O', 'V_4Co', 'V_4O', 'In_2O', 'In_3S', 'In_4(', 'In_4S', 'WC_1', 'W_10', 'W_12', 'W_2C', \n",
    "    'W_2O', 'W_3C', 'WO_1', 'WO_2', 'WO_3', 'Re_2Co', 'Re_2O', 'Re_3B', 'At_1.', 'At_12', 'At_2O', \n",
    "    'At_2X', 'Ac_2O', 'U_10', 'U_12', 'U_2(', 'U_2O', 'U_3P', 'UO_2', 'Zn(CH_', 'Zn(C_', 'Zn_1.', \n",
    "    'Zn_12', 'Zn_2Cr', 'Zn_2.', 'Zr(CH_', 'Zr(Cp', 'Zr(C_', 'Zr_2(', 'Zr_2O', 'Zr_6C', 'Zr_6O'\n",
    "]\n",
    "\n",
    "# 存储新的列表\n",
    "new_elements = []\n",
    "\n",
    "# 遍历每个元素\n",
    "for element in elements:\n",
    "    # 添加一个空格，然后编码为输入张量\n",
    "    input_text = input_prompt + element\n",
    "    input_ids = tokenizer.encode(input_text, return_tensors=\"pt\")\n",
    "\n",
    "    # 生成下一个字符的概率分布\n",
    "    with torch.no_grad():\n",
    "        logits = peft_model(input_ids).logits\n",
    "\n",
    "    # 计算下一个字符的概率\n",
    "    next_char_prob = torch.softmax(logits[0, -1, :], dim=-1)\n",
    "\n",
    "    # 寻找概率大于0.1的字符并添加到新列表\n",
    "    for char_id, prob in enumerate(next_char_prob):\n",
    "        if prob > 0.1:\n",
    "            next_char = tokenizer.decode([char_id])\n",
    "            new_element = element + next_char\n",
    "            new_elements.append(new_element)\n",
    "\n",
    "# 打印新的列表\n",
    "print(new_elements)"
   ]
  },
  {
   "cell_type": "code",
   "execution_count": 57,
   "id": "aaeb57f9-e5dd-44da-8926-a63e5fa712bc",
   "metadata": {},
   "outputs": [
    {
     "name": "stdout",
     "output_type": "stream",
     "text": [
      "Answer the materials:\n",
      " Material with low magnetic damping constant.\n",
      " The molecular formula of the material: \n",
      "['He_2CuSi', 'He_2Cu_', 'He_2CuN', 'He_2C_1', 'He_2C_2', 'He_2C_3', 'He_2C_6', 'He_2N_2', 'He_2N_4', 'He_2NH.', 'He_2NH_', 'He_2O_2', 'He_2O_3', 'He_3N_1', 'He_3N_2', 'He_3N_3', 'He_3N_4', 'He_3NH_', 'He_4N_1', 'He_4N_2', 'He_4N_4', 'He_4O_1', 'He_4O_2', 'Li_2O_2', 'Li_2O_3', 'Li_3Ni_', 'Li_3N_2', 'Li_3N_3', 'Li_3N_4', 'LiNi_1.', 'LiNi_1-', 'LiNi_1/', 'LiNi_1−', 'LiNi_0.', 'LiNi_2Co', 'LiNi_2.', 'LiNi_2M', 'LiNbO_3', 'OC_10H', 'OC_12H', 'OC_18H', 'OC_2H_', 'OC_6H_', 'O_2Sn(', 'O_2SnS', 'O_2S.</s>', 'O_2S.\\n', 'O_2S.The', 'O_2S_2', 'O_2S_3', 'O_2S_4', 'O_2C_1', 'O_2C_2', 'O_2C_3', 'O_2C_4', 'O_2N_2', 'O_2N_3', 'O_2N_4', 'O_2NH_', 'O_3Sn.', 'O_3SnS', 'O_3Sn_', 'O_3S_2', 'O_3S_3', 'O_3S_4', 'O_3C_1', 'O_3C_2', 'O_3C_3', 'O_3C_4', 'O_3C_6', 'SiC_10H', 'SiC_12.', 'SiC_12H', 'SiC_2O_', 'SiC_2H_', 'SiC_x.</s>', 'SiC_x.\\n', 'SiC_xO_', 'SiC_xH_', 'SiC_8.</s>', 'SiC_8.\\n', 'SiC_8.The', 'SiC_8H_', 'SiC_6.</s>', 'SiC_6.\\n', 'SiC_6.The', 'SiC_6H_', 'Si_12C_', 'Si_12B_', 'Si_12O_', 'Si_2O_3', 'Si_2O_5', 'Si_3N_4', 'Si_3O_1', 'Si_40B_', 'Si_40O_', 'Si_4O_1', 'KC_10H', 'KC_12H', 'KC_2F_', 'KC_2O_', 'KC_2H_', 'KC_4H_', 'KC_8H_', 'K_2CuCl', 'K_2Cu(', 'K_2Cu[', 'K_2C_2', 'K_2C_3', 'K_2C_4', 'K_2C_6', 'K_3FeCl_', 'K_3Fe(CN', 'K_3Fe_2', 'K_3Fe_5', 'K_3Fe_4', 'K_3Cu(', 'K_3CuS', 'K_3Cu[', 'K_3C_2', 'K_3C_6', 'K_3[Co(', 'K_3[Fe(', 'K_3[Mn', 'K_3[M(', 'Ca_1.00', 'Ca_1.02', 'Ca_1.03', 'Ca_1.05', 'Ca_1.25', 'Ca_1.95', 'Ca_1.98', 'Ca_1.97', 'Ca_10Al_', 'Ca_10(Fe', 'Ca_10(PO', 'Ca_12(PO', 'Ca_12(OH', 'Ca_2CoAl_', 'Ca_2Co_1', 'Ca_2Co_2', 'Ca_2Co_3', 'Ca_2Co_4', 'Ca_2CoMn', 'Ca_2CoMg', 'Ca_2.05', 'Ca_2.08', 'Ca_2.07', 'Ca_2.25', 'Ca_2.95', 'Ca_2.98', 'Ca_2.97', 'Ca_2.5(', 'Ca_2.5M', 'Ca_2MnSi', 'Ca_2Mn_', 'Ca_2Mg_', 'Ca_3Co_1', 'Ca_3Co_2', 'Ca_3Co_4', 'Ca_3(PO_', 'Ca_5(FeT', 'Ca_5(Fe_', 'Ca_5(PO_', 'V_1.25', 'V_1.99', 'V_1.95', 'V_1.98', 'V_1.97', 'V_1.5Co', 'V_1.5C', 'V_10O_', 'V_12C_', 'V_12O_', 'V_2O_3', 'V_2O_5', 'V_3Si.</s>', 'V_3Si.\\n', 'V_3Si_1', 'V_3Si_2', 'V_3Si_3', 'V_3O_1', 'V_3O_2', 'V_3O_9', 'V_3O_8', 'V_4Co_1', 'V_4Co_2', 'V_4Co_3', 'V_4O_1', 'V_4O_9', 'In_2O_3', 'In_3Sn.', 'In_3SnS', 'In_3Sn_', 'In_3SnO', 'In_3Sb_', 'In_4(C_', 'In_4SnS', 'In_4Sn_', 'In_4Sb_', 'In_4S_1', 'In_4S_2', 'In_4S_3', 'In_4S_4', 'In_4S_8', 'WC_1-x', 'WC_1−x', 'W_12C_', 'W_12O_', 'W_2C_1', 'W_2C_x', 'W_2O_1', 'W_2O_2', 'W_2O_3', 'W_2O_8', 'W_2O_7', 'W_3C_1', 'W_3C_2', 'WO_10.', 'WO_10O', 'WO_10^', 'WO_12.', 'WO_12O', 'Re_2Co_1', 'Re_2Co_2', 'Re_2O_5', 'Re_2O_7', 'Re_3B_1', 'Re_3B_2', 'Re_3B_3', 'At_1.25', 'At_1.99', 'At_1.98', 'At_1.97', 'At_12C_', 'At_12B_', 'At_2O_3', 'At_2Xe_', 'At_2X_1', 'At_2X_2', 'At_2X_3', 'At_2X_4', 'U_12C_', 'U_2(C_', 'U_2(N_', 'U_2(NH', 'U_2O_3', 'U_2O_7', 'U_3P_2', 'U_3P_5', 'U_3P_4', 'UO_2(CO', 'UO_2(N', 'UO_2P_', 'Zn(CH_2CH', 'Zn(CH_2CO', 'Zn(CH_2)_', 'Zn(CH_3CO', 'Zn(CH_3)_', 'Zn(C_2O', 'Zn(C_2H', 'Zn(C_4H', 'Zn(C_6H', 'Zn_1.25', 'Zn_1.99', 'Zn_1.95', 'Zn_1.98', 'Zn_1.97', 'Zn_12Cd', 'Zn_12Cu', 'Zn_2CrSn', 'Zn_2CrSb', 'Zn_2Cr_1', 'Zn_2Cr_0', 'Zn_2CrO_', 'Zn_2.25', 'Zn_2.5C', 'Zr(CH_2CH', 'Zr(CH_2CO', 'Zr(CH_2)_', 'Zr(Cp_2', 'Zr(Cp*H', 'Zr(C_2B', 'Zr(C_2O', 'Zr(C_2H', 'Zr(C_5H', 'Zr(C_4H', 'Zr_2(CH_', 'Zr_2O_2', 'Zr_2O_3', 'Zr_2O_4', 'Zr_6Cd_', 'Zr_6Cu_', 'Zr_6C_1', 'Zr_6C_2', 'Zr_6O_1']\n"
     ]
    }
   ],
   "source": [
    "def generate_prompt(prompt, output=None, eos_token=\"</s>\"):\n",
    "    instruction = \"Answer the materials:\\n\"\n",
    "    input = f\"Material with {prompt}\\n\"\n",
    "    output = f\"The molecular formula of the material: \"\n",
    "    prompt = (\" \").join([instruction, input, output])\n",
    "    return prompt\n",
    "\n",
    "input_prompt = generate_prompt('low magnetic damping constant.')\n",
    "print(input_prompt)\n",
    "input_tokens = tokenizer(input_prompt, return_tensors=\"pt\")[\"input_ids\"].to(\"cuda\")\n",
    "\n",
    "elements = [\n",
    "    'He_2Cu', 'He_2C_', 'He_2N_', 'He_2NH', 'He_2O_', 'He_3N_', 'He_3NH', 'He_4N_', 'He_4O_', 'Li_2O_', 'Li_3Ni', 'Li_3N_', 'LiNi_1', 'LiNi_0', \n",
    "    'LiNi_2', 'LiNbO_', 'OC_10', 'OC_12', 'OC_18', 'OC_2H', 'OC_6H', 'O_2Sn', 'O_2S.', 'O_2S_', 'O_2C_', 'O_2N_', 'O_2NH', 'O_3Sn', 'O_3S_', \n",
    "    'O_3C_', 'SiC_10', 'SiC_12', 'SiC_2O', 'SiC_2H', 'SiC_x.', 'SiC_xO', 'SiC_xH', 'SiC_8.', 'SiC_8H', 'SiC_6.', 'SiC_6H', 'Si_12C', 'Si_12B', \n",
    "    'Si_12O', 'Si_2O_', 'Si_3N_', 'Si_3O_', 'Si_40B', 'Si_40O', 'Si_4O_', 'KC_10', 'KC_12', 'KC_2F', 'KC_2O', 'KC_2H', 'KC_4H', 'KC_8H', \n",
    "    'K_2Cu', 'K_2C_', 'K_3FeCl', 'K_3Fe(', 'K_3Fe_', 'K_3Cu', 'K_3C_', 'K_3[Co', 'K_3[Fe', 'K_3[M', 'Ca_1.0', 'Ca_1.2', 'Ca_1.9', 'Ca_1.5', \n",
    "    'Ca_10Al', 'Ca_10(', 'Ca_12(', 'Ca_2CoAl', 'Ca_2Co_', 'Ca_2CoM', 'Ca_2.0', 'Ca_2.2', 'Ca_2.9', 'Ca_2.5', 'Ca_2Mn', 'Ca_2Mg', 'Ca_3Co_', \n",
    "    'Ca_3(PO', 'Ca_5(Fe', 'Ca_5(PO', 'V_1.2', 'V_1.9', 'V_1.5', 'V_100', 'V_10O', 'V_12C', 'V_12O', 'V_2O_', 'V_3Si.', 'V_3Si_', 'V_3O_', \n",
    "    'V_4Co_', 'V_4O_', 'In_2O_', 'In_3Sn', 'In_3Sb', 'In_4(C', 'In_4Sn', 'In_4Sb', 'In_4S_', 'WC_1-', 'WC_1−', 'W_100', 'W_12C', 'W_12O', \n",
    "    'W_2C_', 'W_2O_', 'W_3C_', 'WO_10', 'WO_12', 'Re_2Co_', 'Re_2O_', 'Re_3B_', 'At_1.2', 'At_1.9', 'At_1.5', 'At_12C', 'At_12B', 'At_2O_', \n",
    "    'At_2Xe', 'At_2X_', 'U_12C', 'U_2(C', 'U_2(N', 'U_2O_', 'U_3P_', 'UO_2(', 'UO_2P', 'Zn(CH_2', 'Zn(CH_3', 'Zn(C_2', 'Zn(C_4', 'Zn(C_6', \n",
    "    'Zn_1.2', 'Zn_1.9', 'Zn_1.5', 'Zn_12C', 'Zn_2CrS', 'Zn_2Cr_', 'Zn_2CrO', 'Zn_2.2', 'Zn_2.5', 'Zr(CH_2', 'Zr(Cp_', 'Zr(Cp*', 'Zr(C_2', \n",
    "    'Zr(C_5', 'Zr(C_4', 'Zr_2(CH', 'Zr_2O_', 'Zr_6Cd', 'Zr_6Cu', 'Zr_6C_', 'Zr_6O_'\n",
    "]\n",
    "\n",
    "# 存储新的列表\n",
    "new_elements = []\n",
    "\n",
    "# 遍历每个元素\n",
    "for element in elements:\n",
    "    # 添加一个空格，然后编码为输入张量\n",
    "    input_text = input_prompt + element\n",
    "    input_ids = tokenizer.encode(input_text, return_tensors=\"pt\")\n",
    "\n",
    "    # 生成下一个字符的概率分布\n",
    "    with torch.no_grad():\n",
    "        logits = peft_model(input_ids).logits\n",
    "\n",
    "    # 计算下一个字符的概率\n",
    "    next_char_prob = torch.softmax(logits[0, -1, :], dim=-1)\n",
    "\n",
    "    # 寻找概率大于0.1的字符并添加到新列表\n",
    "    for char_id, prob in enumerate(next_char_prob):\n",
    "        if prob > 0.1:\n",
    "            next_char = tokenizer.decode([char_id])\n",
    "            new_element = element + next_char\n",
    "            new_elements.append(new_element)\n",
    "\n",
    "# 打印新的列表\n",
    "print(new_elements)"
   ]
  },
  {
   "cell_type": "code",
   "execution_count": 58,
   "id": "b6a95162-67ad-40f0-93e5-9d994158e069",
   "metadata": {},
   "outputs": [
    {
     "name": "stdout",
     "output_type": "stream",
     "text": [
      "Answer the materials:\n",
      " Material with low magnetic damping constant.\n",
      " The molecular formula of the material: \n",
      "['He_2CuSi.', 'He_2CuSi_', 'He_2Cu_1', 'He_2Cu_2', 'He_2Cu_3', 'He_2CuN_', 'He_2C_10', 'He_2C_12', 'He_2C_18', 'He_2C_2Si', 'He_2C_2N', 'He_2C_2O', 'He_2C_3N', 'He_2C_3O', 'He_2C_60', 'He_2C_6N', 'He_2C_6O', 'He_2N_2.', 'He_2N_2O', 'He_2N_4.', 'He_2N_4O', 'He_2NH_2', 'He_2NH_3', 'He_2NH_4', 'He_2O_2.', 'He_2O_3.', 'He_3N_10', 'He_3N_12', 'He_3N_18', 'He_3N_2.', 'He_3N_2O', 'He_3N_3.', 'He_3N_3O', 'He_3N_4.', 'He_3N_4O', 'He_3NH_1', 'He_3NH_2', 'He_3NH_3', 'He_3NH_4', 'He_4N_10', 'He_4N_12', 'He_4N_16', 'He_4N_2.', 'He_4N_2O', 'He_4N_4.', 'He_4N_4O', 'He_4O_12', 'He_4O_2N', 'He_4O_24', 'Li_2O_2.', 'Li_2O_3.', 'Li_3Ni_1', 'Li_3Ni_0', 'Li_3Ni_2', 'Li_3Ni_3', 'Li_3Ni_4', 'Li_3N_2.', 'Li_3N_2O', 'Li_3N_3.', 'Li_3N_3O', 'Li_3N_4.', 'Li_3N_4O', 'LiNi_1.1', 'LiNi_1.0', 'LiNi_1.2', 'LiNi_1.5', 'LiNi_1-x', 'LiNi_1/2', 'LiNi_1/3', 'LiNi_1−x', 'LiNi_1−x', 'LiNi_0.9', 'LiNi_0.5', 'LiNi_0.8', 'LiNi_0.7', 'LiNi_2Co_', 'LiNi_2CoM', 'LiNi_2.2', 'LiNi_2.5', 'LiNi_2Mn', 'LiNi_2Mg', 'LiNbO_3.', 'SiC_10H_', 'SiC_12.</s>', 'SiC_12.\\n', 'SiC_12.The', 'SiC_12H_', 'SiC_2O_2', 'SiC_2O_3', 'SiC_2O_4', 'SiC_2H_2', 'SiC_2H_3', 'SiC_2H_5', 'SiC_xO_y', 'SiC_xH_y', 'SiC_xH_2', 'SiC_8H_1', 'SiC_8H_8', 'SiC_8H_6', 'SiC_6H_1', 'SiC_6H_5', 'Si_12C_1', 'Si_12C_6', 'Si_12B_1', 'Si_12B_6', 'Si_12O_1', 'Si_2O_3.', 'Si_2O_5.', 'Si_3N_4.', 'Si_3O_10', 'Si_40B_1', 'Si_40B_2', 'Si_40B_3', 'Si_40B_4', 'Si_40B_6', 'Si_40O_1', 'Si_40O_5', 'Si_40O_4', 'Si_40O_6', 'Si_40O_7', 'Si_4O_10', 'Si_4O_12', 'KC_10H_', 'KC_12H_', 'KC_2F_5', 'KC_2F_4', 'KC_2O_3', 'KC_2O_4', 'KC_2H_3', 'KC_2H_5', 'KC_2H_4', 'KC_4H_1', 'KC_4H_9', 'KC_4H_3', 'KC_4H_4', 'KC_4H_8', 'KC_8H_1', 'KC_8H_8', 'K_2CuCl_', 'K_2Cu(N', 'K_2Cu[N', 'K_2C_2N', 'K_2C_2O', 'K_2C_3N', 'K_2C_3O', 'K_2C_4N', 'K_2C_4O', 'K_2C_4H', 'K_2C_60', 'K_3FeCl_1', 'K_3FeCl_9', 'K_3FeCl_6', 'K_3Fe(CN)_', 'K_3Fe_2(', 'K_3Fe_2O', 'K_3Fe_5O', 'K_3Fe_4O', 'K_3Cu(CN', 'K_3Cu(N', 'K_3CuSn', 'K_3CuSb', 'K_3Cu[N', 'K_3C_2N', 'K_3C_2O', 'K_3C_60', 'K_3[Co(CN', 'K_3[Co(C', 'K_3[Co(N', 'K_3[Fe(CN', 'K_3[Mn(', 'K_3[M(CN', 'Ca_10Al_1', 'Ca_10Al_2', 'Ca_10Al_9', 'Ca_10(FeT', 'Ca_10(Fe_', 'Ca_10(PO_', 'Ca_12(PO_', 'Ca_12(OH)_', 'Ca_2CoAl_1', 'Ca_2CoAl_2', 'Ca_2CoAl_4', 'Ca_2Co_1.', 'Ca_2Co_12', 'Ca_2Co_1−', 'Ca_2Co_2Al', 'Ca_2Co_2M', 'Ca_2Co_2O', 'Ca_2Co_3O', 'Ca_2Co_4Al', 'Ca_2Co_4O', 'Ca_2CoMnSi', 'Ca_2CoMn_', 'Ca_2CoMnO', 'Ca_2CoMgSi', 'Ca_2CoMg_', 'Ca_2CoMgZ', 'Ca_2MnSi_', 'Ca_2MnSiO', 'Ca_2Mn_1', 'Ca_2Mn_2', 'Ca_2Mn_3', 'Ca_2Mn_4', 'Ca_2Mg_1', 'Ca_2Mg_0', 'Ca_2Mg_2', 'Ca_2Mg_3', 'Ca_2Mg_4', 'Ca_3Co_1.', 'Ca_3Co_12', 'Ca_3Co_2O', 'Ca_3Co_4O', 'Ca_3(PO_4', 'Ca_5(FeTi', 'Ca_5(Fe_1', 'Ca_5(Fe_0', 'Ca_5(Fe_2', 'Ca_5(Fe_3', 'Ca_5(PO_3', 'Ca_5(PO_4', 'V_1.5Co_', 'V_1.5C_', 'V_10O_1', 'V_10O_2', 'V_12C_1', 'V_12C_2', 'V_12O_1', 'V_12O_2', 'V_2O_3.', 'V_2O_5.', 'V_3Si_10', 'V_3Si_12', 'V_3Si_2.', 'V_3Si_2O', 'V_3Si_3.', 'V_3O_10', 'V_3O_12', 'V_3O_25', 'V_3O_9.', 'V_3O_8.', 'V_4Co_1.', 'V_4Co_12', 'V_4Co_16', 'V_4Co_2Cr', 'V_4Co_2M', 'V_4O_11', 'V_4O_10', 'V_4O_12', 'V_4O_9.', 'In_2O_3.', 'In_3Sn.</s>', 'In_3Sn.\\n', 'In_3Sn.The', 'In_3SnS_', 'In_3Sn_1', 'In_3Sn_2', 'In_3Sn_3', 'In_3Sn_4', 'In_3SnO_', 'In_3Sb_2', 'In_3Sb_3', 'In_3Sb_5', 'In_3Sb_4', 'In_4(C_2', 'In_4(C_5', 'In_4(C_6', 'In_4SnSb', 'In_4SnS_', 'In_4Sn_1', 'In_4Sn_2', 'In_4Sn_3', 'In_4Sn_4', 'In_4Sb_1', 'In_4Sb_2', 'In_4Sb_4', 'In_4S_11', 'In_4S_10', 'In_4S_12', 'In_4S_13', 'In_4S_2O', 'In_4S_3.', 'In_4S_3O', 'In_4S_4.', 'In_4S_4O', 'In_4S_8.', 'WC_1-xN', 'WC_1−xN', 'W_12C_1', 'W_12C_2', 'W_12O_1', 'W_12O_2', 'W_12O_3', 'W_12O_4', 'W_2C_12', 'W_2C_18', 'W_2C_x.', 'W_2C_xN', 'W_2O_10', 'W_2O_12', 'W_2O_2.', 'W_2O_2S', 'W_2O_3.', 'W_2O_3S', 'W_2O_3N', 'W_2O_8.', 'W_2O_8S', 'W_2O_7.', 'W_2O_7S', 'W_3C_12', 'W_3C_18', 'W_3C_2N', 'WO_10.</s>', 'WO_10.\\n', 'WO_10.The', 'WO_10O_', 'WO_10^1', 'WO_10^2', 'WO_10^3', 'WO_10^−', 'WO_12.</s>', 'WO_12.\\n', 'WO_12O_', 'Re_2Co_10', 'Re_2Co_12', 'Re_2Co_17', 'Re_2Co_2Al', 'Re_2Co_2Si', 'Re_2O_5.', 'Re_2O_7.', 'Re_3B_10', 'Re_3B_12', 'Re_3B_2.', 'Re_3B_3.', 'At_12C_1', 'At_12C_2', 'At_12B_1', 'At_12B_6', 'At_2O_3.', 'At_2Xe_1', 'At_2Xe_2', 'At_2Xe_3', 'At_2X_10', 'At_2X_12', 'At_2X_2.', 'At_2X_2Y', 'At_2X_3.', 'At_2X_3Y', 'At_2X_4.', 'At_2X_4Y', 'U_12C_1', 'U_12C_2', 'U_12C_6', 'U_2(C_2', 'U_2(C_5', 'U_2(C_6', 'U_2(N_2', 'U_2(N_3', 'U_2(N_4', 'U_2(NH_', 'U_2O_3.', 'U_2O_3N', 'U_2O_7.', 'U_3P_2O', 'U_3P_5.', 'U_3P_5S', 'U_3P_5O', 'U_3P_4.', 'U_3P_4O', 'UO_2(CO)_', 'UO_2(CO_', 'UO_2(N_', 'UO_2(NH', 'UO_2P_2', 'UO_2P_4', 'Zn(CH_2CH_', 'Zn(CH_2COOH', 'Zn(CH_2COO', 'Zn(CH_2)_1', 'Zn(CH_2)_2', 'Zn(CH_2)_3', 'Zn(CH_2)_4', 'Zn(CH_2)_6', 'Zn(CH_3COO', 'Zn(CH_3)_2', 'Zn(CH_3)_4', 'Zn(C_2O_', 'Zn(C_2H_', 'Zn(C_4H_', 'Zn(C_6H_', 'Zn_1.25Co', 'Zn_1.25C', 'Zn_1.995', 'Zn_1.95Co', 'Zn_1.95C', 'Zn_1.98C', 'Zn_1.975', 'Zn_12Cd_', 'Zn_12Cu_', 'Zn_2CrSn.', 'Zn_2CrSnS', 'Zn_2CrSb.', 'Zn_2CrSbS', 'Zn_2CrSb_', 'Zn_2Cr_1.', 'Zn_2Cr_1-', 'Zn_2Cr_1−', 'Zn_2Cr_0.', 'Zn_2CrO_4', 'Zn_2.25Co', 'Zn_2.25Fe', 'Zn_2.25Cr', 'Zn_2.25C', 'Zn_2.5Cd', 'Zn_2.5Cu', 'Zr(CH_2CH_', 'Zr(CH_2COOH', 'Zr(CH_2COO', 'Zr(CH_2)_1', 'Zr(CH_2)_2', 'Zr(CH_2)_3', 'Zr(CH_2)_4', 'Zr(CH_2)_6', 'Zr(Cp_2Me', 'Zr(Cp_2N', 'Zr(Cp_2H', 'Zr(Cp*H)(', 'Zr(Cp*H)', 'Zr(C_2B_', 'Zr(C_2O_', 'Zr(C_2H_', 'Zr(C_5H_', 'Zr(C_4H_', 'Zr_2(CH_2', 'Zr_2(CH_3', 'Zr_2O_2Si', 'Zr_2O_2.', 'Zr_2O_2N', 'Zr_2O_3.', 'Zr_2O_3-', 'Zr_2O_4.', 'Zr_6Cd_1', 'Zr_6Cd_0', 'Zr_6Cd_2', 'Zr_6Cd_3', 'Zr_6Cd_4', 'Zr_6Cu_1', 'Zr_6Cu_2', 'Zr_6Cu_3', 'Zr_6Cu_4', 'Zr_6C_1.', 'Zr_6C_12', 'Zr_6C_2N', 'Zr_6C_2O', 'Zr_6C_2H', 'Zr_6O_11', 'Zr_6O_12', 'Zr_6O_13']\n"
     ]
    }
   ],
   "source": [
    "def generate_prompt(prompt, output=None, eos_token=\"</s>\"):\n",
    "    instruction = \"Answer the materials:\\n\"\n",
    "    input = f\"Material with {prompt}\\n\"\n",
    "    output = f\"The molecular formula of the material: \"\n",
    "    prompt = (\" \").join([instruction, input, output])\n",
    "    return prompt\n",
    "\n",
    "input_prompt = generate_prompt('low magnetic damping constant.')\n",
    "print(input_prompt)\n",
    "input_tokens = tokenizer(input_prompt, return_tensors=\"pt\")[\"input_ids\"].to(\"cuda\")\n",
    "\n",
    "elements = [\n",
    "    'He_2CuSi', 'He_2Cu_', 'He_2CuN', 'He_2C_1', 'He_2C_2', 'He_2C_3', 'He_2C_6', 'He_2N_2', 'He_2N_4', 'He_2NH_', 'He_2O_2', 'He_2O_3', \n",
    "    'He_3N_1', 'He_3N_2', 'He_3N_3', 'He_3N_4', 'He_3NH_', 'He_4N_1', 'He_4N_2', 'He_4N_4', 'He_4O_1', 'He_4O_2', 'Li_2O_2', 'Li_2O_3', \n",
    "    'Li_3Ni_', 'Li_3N_2', 'Li_3N_3', 'Li_3N_4', 'LiNi_1.', 'LiNi_1-', 'LiNi_1/', 'LiNi_1−', 'LiNi_0.', 'LiNi_2Co', 'LiNi_2.', 'LiNi_2M', \n",
    "    'LiNbO_3', 'SiC_10H', 'SiC_12.', 'SiC_12H', 'SiC_2O_', 'SiC_2H_', 'SiC_xO_', 'SiC_xH_', 'SiC_8H_', 'SiC_6H_', 'Si_12C_', 'Si_12B_', \n",
    "    'Si_12O_', 'Si_2O_3', 'Si_2O_5', 'Si_3N_4', 'Si_3O_1', 'Si_40B_', 'Si_40O_', 'Si_4O_1', 'KC_10H', 'KC_12H', 'KC_2F_', 'KC_2O_', 'KC_2H_', \n",
    "    'KC_4H_', 'KC_8H_', 'K_2CuCl', 'K_2Cu(', 'K_2Cu[', 'K_2C_2', 'K_2C_3', 'K_2C_4', 'K_2C_6', 'K_3FeCl_', 'K_3Fe(CN', 'K_3Fe_2', 'K_3Fe_5', \n",
    "    'K_3Fe_4', 'K_3Cu(', 'K_3CuS', 'K_3Cu[', 'K_3C_2', 'K_3C_6', 'K_3[Co(', 'K_3[Fe(', 'K_3[Mn', 'K_3[M(', 'Ca_10Al_', 'Ca_10(Fe', 'Ca_10(PO', \n",
    "    'Ca_12(PO', 'Ca_12(OH', 'Ca_2CoAl_', 'Ca_2Co_1', 'Ca_2Co_2', 'Ca_2Co_3', 'Ca_2Co_4', 'Ca_2CoMn', 'Ca_2CoMg', 'Ca_2MnSi', 'Ca_2Mn_', \n",
    "    'Ca_2Mg_', 'Ca_3Co_1', 'Ca_3Co_2', 'Ca_3Co_4', 'Ca_3(PO_', 'Ca_5(FeT', 'Ca_5(Fe_', 'Ca_5(PO_', 'V_1.5Co', 'V_1.5C', 'V_10O_', 'V_12C_', \n",
    "    'V_12O_', 'V_2O_3', 'V_2O_5', 'V_3Si_1', 'V_3Si_2', 'V_3Si_3', 'V_3O_1', 'V_3O_2', 'V_3O_9', 'V_3O_8', 'V_4Co_1', 'V_4Co_2', 'V_4Co_3', 'V_4O_1', 'V_4O_9', \n",
    "    'In_2O_3', 'In_3Sn.', 'In_3SnS', 'In_3Sn_', 'In_3SnO', 'In_3Sb_', 'In_4(C_', 'In_4SnS', 'In_4Sn_', 'In_4Sb_', 'In_4S_1', 'In_4S_2', 'In_4S_3', \n",
    "    'In_4S_4', 'In_4S_8', 'WC_1-x', 'WC_1−x', 'W_12C_', 'W_12O_', 'W_2C_1', 'W_2C_x', 'W_2O_1', 'W_2O_2', 'W_2O_3', 'W_2O_8', 'W_2O_7', 'W_3C_1', \n",
    "    'W_3C_2', 'WO_10.', 'WO_10O', 'WO_10^', 'WO_12.', 'WO_12O', 'Re_2Co_1', 'Re_2Co_2', 'Re_2O_5', 'Re_2O_7', 'Re_3B_1', 'Re_3B_2', 'Re_3B_3', \n",
    "    'At_12C_', 'At_12B_', 'At_2O_3', 'At_2Xe_', 'At_2X_1', 'At_2X_2', 'At_2X_3', 'At_2X_4', \n",
    "    'U_12C_', 'U_2(C_', 'U_2(N_', 'U_2(NH', 'U_2O_3', 'U_2O_7', 'U_3P_2', 'U_3P_5', 'U_3P_4', 'UO_2(CO', 'UO_2(N', 'UO_2P_', 'Zn(CH_2CH', \n",
    "    'Zn(CH_2CO', 'Zn(CH_2)_', 'Zn(CH_3CO', 'Zn(CH_3)_', 'Zn(C_2O', 'Zn(C_2H', 'Zn(C_4H', 'Zn(C_6H', 'Zn_1.25', 'Zn_1.99', 'Zn_1.95', 'Zn_1.98', \n",
    "    'Zn_1.97', 'Zn_12Cd', 'Zn_12Cu', 'Zn_2CrSn', 'Zn_2CrSb', 'Zn_2Cr_1', 'Zn_2Cr_0', 'Zn_2CrO_', 'Zn_2.25', 'Zn_2.5C', 'Zr(CH_2CH', 'Zr(CH_2CO', \n",
    "    'Zr(CH_2)_', 'Zr(Cp_2', 'Zr(Cp*H', 'Zr(C_2B', 'Zr(C_2O', 'Zr(C_2H', 'Zr(C_5H', 'Zr(C_4H', 'Zr_2(CH_', 'Zr_2O_2', 'Zr_2O_3', 'Zr_2O_4', 'Zr_6Cd_', \n",
    "    'Zr_6Cu_', 'Zr_6C_1', 'Zr_6C_2', 'Zr_6O_1'\n",
    "]\n",
    "\n",
    "# 存储新的列表\n",
    "new_elements = []\n",
    "\n",
    "# 遍历每个元素\n",
    "for element in elements:\n",
    "    # 添加一个空格，然后编码为输入张量\n",
    "    input_text = input_prompt + element\n",
    "    input_ids = tokenizer.encode(input_text, return_tensors=\"pt\")\n",
    "\n",
    "    # 生成下一个字符的概率分布\n",
    "    with torch.no_grad():\n",
    "        logits = peft_model(input_ids).logits\n",
    "\n",
    "    # 计算下一个字符的概率\n",
    "    next_char_prob = torch.softmax(logits[0, -1, :], dim=-1)\n",
    "\n",
    "    # 寻找概率大于0.1的字符并添加到新列表\n",
    "    for char_id, prob in enumerate(next_char_prob):\n",
    "        if prob > 0.1:\n",
    "            next_char = tokenizer.decode([char_id])\n",
    "            new_element = element + next_char\n",
    "            new_elements.append(new_element)\n",
    "\n",
    "# 打印新的列表\n",
    "print(new_elements)"
   ]
  },
  {
   "cell_type": "code",
   "execution_count": null,
   "id": "2cece2f3-103a-40b1-95be-5b097167db83",
   "metadata": {},
   "outputs": [],
   "source": [
    "def generate_prompt(prompt, output=None, eos_token=\"</s>\"):\n",
    "    instruction = \"Answer the materials:\\n\"\n",
    "    input = f\"Material with {prompt}\\n\"\n",
    "    output = f\"The molecular formula of the material: \"\n",
    "    prompt = (\" \").join([instruction, input, output])\n",
    "    return prompt\n",
    "\n",
    "input_prompt = generate_prompt('low magnetic damping constant.')\n",
    "print(input_prompt)\n",
    "input_tokens = tokenizer(input_prompt, return_tensors=\"pt\")[\"input_ids\"].to(\"cuda\")\n",
    "\n",
    "elements = [\n",
    "    'Li_3Ni_1', 'Li_3Ni_0', 'Li_3Ni_2', 'Li_3Ni_3', 'Li_3Ni_4', 'Li_3N_2O', 'Li_3N_3O', 'Li_3N_4.', 'Li_3N_4O',  \n",
    "    'LiNi_2Co_', 'LiNi_2CoM', 'LiNi_2.2', 'LiNi_2.5', 'LiNi_2Mn', 'LiNi_2Mg', 'LiNbO_3.', 'SiC_10H_',  \n",
    "    'SiC_12H_', 'SiC_2O_2', 'SiC_2O_3', 'SiC_2O_4', 'SiC_2H_2', 'SiC_2H_3', 'SiC_2H_5', 'SiC_xO_y', 'SiC_xH_y', 'SiC_xH_2', 'SiC_8H_1', \n",
    "    'SiC_8H_8', 'SiC_8H_6', 'SiC_6H_1', 'SiC_6H_5', 'Si_12C_1', 'Si_12C_6', 'Si_12B_1', 'Si_12B_6', 'Si_12O_1', 'Si_2O_3.', 'Si_2O_5.', \n",
    "    'Si_3N_4.', 'Si_3O_10', 'Si_40B_1', 'Si_40B_2', 'Si_40B_3', 'Si_40B_4', 'Si_40B_6', 'Si_40O_1', 'Si_40O_5', 'Si_40O_4', 'Si_40O_6', \n",
    "    'Si_40O_7', 'Si_4O_10', 'Si_4O_12', 'KC_10H_', 'KC_12H_', 'KC_2F_5', 'KC_2F_4', 'KC_2O_3', 'KC_2O_4', 'KC_2H_3', 'KC_2H_5', 'KC_2H_4', \n",
    "    'KC_4H_1', 'KC_4H_9', 'KC_4H_3', 'KC_4H_4', 'KC_4H_8', 'KC_8H_1', 'KC_8H_8', 'K_2CuCl_', 'K_2Cu(N', 'K_2Cu[N', 'K_2C_2N', 'K_2C_2O', \n",
    "    'K_2C_3N', 'K_2C_3O', 'K_2C_4N', 'K_2C_4O', 'K_2C_4H', 'K_2C_60', 'K_3FeCl_1', 'K_3FeCl_9', 'K_3FeCl_6', 'K_3Fe(CN)_', 'K_3Fe_2(', \n",
    "    'K_3Fe_2O', 'K_3Fe_5O', 'K_3Fe_4O', 'K_3Cu(CN', 'K_3Cu(N', 'K_3CuSn', 'K_3CuSb', 'K_3Cu[N', 'K_3C_2N', 'K_3C_2O', 'K_3C_60', 'K_3[Co(CN', \n",
    "    'K_3[Co(C', 'K_3[Co(N', 'K_3[Fe(CN', 'K_3[Mn(', 'K_3[M(CN', 'Ca_10Al_1', 'Ca_10Al_2', 'Ca_10Al_9', 'Ca_10(FeT', 'Ca_10(Fe_', 'Ca_10(PO_', \n",
    "    'Ca_12(PO_', 'Ca_12(OH)_', 'Ca_2CoAl_1', 'Ca_2CoAl_2', 'Ca_2CoAl_4', 'Ca_2Co_1.', 'Ca_2Co_12', 'Ca_2Co_1−', 'Ca_2Co_2Al', 'Ca_2Co_2M', \n",
    "    'Ca_2Co_2O', 'Ca_2Co_3O', 'Ca_2Co_4Al', 'Ca_2Co_4O', 'Ca_2CoMnSi', 'Ca_2CoMn_', 'Ca_2CoMnO', 'Ca_2CoMgSi', 'Ca_2CoMg_', 'Ca_2CoMgZ', \n",
    "    'Ca_2MnSi_', 'Ca_2MnSiO', 'Ca_2Mn_1', 'Ca_2Mn_2', 'Ca_2Mn_3', 'Ca_2Mn_4', 'Ca_2Mg_1', 'Ca_2Mg_0', 'Ca_2Mg_2', 'Ca_2Mg_3', 'Ca_2Mg_4', \n",
    "    'Ca_3Co_1.', 'Ca_3Co_12', 'Ca_3Co_2O', 'Ca_3Co_4O', 'Ca_3(PO_4', 'Ca_5(FeTi', 'Ca_5(Fe_1', 'Ca_5(Fe_0', 'Ca_5(Fe_2', 'Ca_5(Fe_3', 'Ca_5(PO_3', \n",
    "    'Ca_5(PO_4', 'V_1.5Co_', 'V_1.5C_', 'V_10O_1', 'V_10O_2', 'V_12C_1', 'V_12C_2', 'V_12O_1', 'V_12O_2', 'V_2O_3.', 'V_2O_5.', 'V_3Si_10', \n",
    "    'V_3Si_12', 'V_3Si_2.', 'V_3Si_2O', 'V_3Si_3.', 'V_3O_10', 'V_3O_12', 'V_3O_25', 'V_3O_9.', 'V_3O_8.', 'V_4Co_1.', 'V_4Co_12', 'V_4Co_16', \n",
    "    'V_4Co_2Cr', 'V_4Co_2M', 'V_4O_11', 'V_4O_10', 'V_4O_12', 'V_4O_9.', 'In_2O_3.', 'In_3Sn.</s>', 'In_3Sn.\\n', 'In_3Sn.The', 'In_3SnS_', \n",
    "    'In_3Sn_1', 'In_3Sn_2', 'In_3Sn_3', 'In_3Sn_4', 'In_3SnO_', 'In_3Sb_2', 'In_3Sb_3', 'In_3Sb_5', 'In_3Sb_4', 'In_4(C_2', 'In_4(C_5', 'In_4(C_6', \n",
    "    'In_4SnSb', 'In_4SnS_', 'In_4Sn_1', 'In_4Sn_2', 'In_4Sn_3', 'In_4Sn_4', 'In_4Sb_1', 'In_4Sb_2', 'In_4Sb_4', 'In_4S_11', 'In_4S_10', 'In_4S_12', \n",
    "    'In_4S_13', 'In_4S_2O', 'In_4S_3.', 'In_4S_3O', 'In_4S_4.', 'In_4S_4O', 'In_4S_8.', 'WC_1-xN', 'WC_1−xN', 'W_12C_1', 'W_12C_2', 'W_12O_1', \n",
    "    'W_12O_2', 'W_12O_3', 'W_12O_4', 'W_2C_12', 'W_2C_18', 'W_2C_x.', 'W_2C_xN', 'W_2O_10', 'W_2O_12', 'W_2O_2.', 'W_2O_2S', 'W_2O_3.', 'W_2O_3S', \n",
    "    'W_2O_3N', 'W_2O_8.', 'W_2O_8S', 'W_2O_7.', 'W_2O_7S', 'W_3C_12', 'W_3C_18', 'W_3C_2N', 'WO_10.</s>', 'WO_10.\\n', 'WO_10.The', 'WO_10O_', \n",
    "    'WO_10^1', 'WO_10^2', 'WO_10^3', 'WO_10^−', 'WO_12.</s>', 'WO_12.\\n', 'WO_12O_', 'Re_2Co_10', 'Re_2Co_12', 'Re_2Co_17', 'Re_2Co_2Al', \n",
    "    'Re_2Co_2Si', 'Re_2O_5.', 'Re_2O_7.', 'Re_3B_10', 'Re_3B_12', 'Re_3B_2.', 'Re_3B_3.', 'At_12C_1', 'At_12C_2', 'At_12B_1', 'At_12B_6', 'At_2O_3.', \n",
    "    'At_2Xe_1', 'At_2Xe_2', 'At_2Xe_3', 'At_2X_10', 'At_2X_12', 'At_2X_2.', 'At_2X_2Y', 'At_2X_3.', 'At_2X_3Y', 'At_2X_4.', 'At_2X_4Y', 'U_12C_1', \n",
    "    'U_12C_2', 'U_12C_6', 'U_2(C_2', 'U_2(C_5', 'U_2(C_6', 'U_2(N_2', 'U_2(N_3', 'U_2(N_4', 'U_2(NH_', 'U_2O_3.', 'U_2O_3N', 'U_2O_7.', 'U_3P_2O', \n",
    "    'U_3P_5.', 'U_3P_5S', 'U_3P_5O', 'U_3P_4.', 'U_3P_4O', 'UO_2(CO)_', 'UO_2(CO_', 'UO_2(N_', 'UO_2(NH', 'UO_2P_2', 'UO_2P_4', 'Zn(CH_2CH_', \n",
    "    'Zn(CH_2COOH', 'Zn(CH_2COO', 'Zn(CH_2)_1', 'Zn(CH_2)_2', 'Zn(CH_2)_3', 'Zn(CH_2)_4', 'Zn(CH_2)_6', 'Zn(CH_3COO', 'Zn(CH_3)_2', 'Zn(CH_3)_4', \n",
    "    'Zn(C_2O_', 'Zn(C_2H_', 'Zn(C_4H_', 'Zn(C_6H_', 'Zn_1.25Co', 'Zn_1.25C', 'Zn_1.995', 'Zn_1.95Co', 'Zn_1.95C', 'Zn_1.98C', 'Zn_1.975', 'Zn_12Cd_', \n",
    "    'Zn_12Cu_', 'Zn_2CrSn.', 'Zn_2CrSnS', 'Zn_2CrSb.', 'Zn_2CrSbS', 'Zn_2CrSb_', 'Zn_2Cr_1.', 'Zn_2Cr_1-', 'Zn_2Cr_1−', 'Zn_2Cr_0.', 'Zn_2CrO_4', \n",
    "    'Zn_2.25Co', 'Zn_2.25Fe', 'Zn_2.25Cr', 'Zn_2.25C', 'Zn_2.5Cd', 'Zn_2.5Cu', 'Zr(CH_2CH_', 'Zr(CH_2COOH', 'Zr(CH_2COO', 'Zr(CH_2)_1', 'Zr(CH_2)_2', \n",
    "    'Zr(CH_2)_3', 'Zr(CH_2)_4', 'Zr(CH_2)_6', 'Zr(Cp_2Me', 'Zr(Cp_2N', 'Zr(Cp_2H', 'Zr(Cp*H)(', 'Zr(Cp*H)', 'Zr(C_2B_', 'Zr(C_2O_', 'Zr(C_2H_', \n",
    "    'Zr(C_5H_', 'Zr(C_4H_', 'Zr_2(CH_2', 'Zr_2(CH_3', 'Zr_2O_2Si', 'Zr_2O_2.', 'Zr_2O_2N', 'Zr_2O_3.', 'Zr_2O_3-', 'Zr_2O_4.', 'Zr_6Cd_1', 'Zr_6Cd_0', \n",
    "    'Zr_6Cd_2', 'Zr_6Cd_3', 'Zr_6Cd_4', 'Zr_6Cu_1', 'Zr_6Cu_2', 'Zr_6Cu_3', 'Zr_6Cu_4', 'Zr_6C_1.', 'Zr_6C_12', 'Zr_6C_2N', 'Zr_6C_2O', 'Zr_6C_2H', \n",
    "    'Zr_6O_11', 'Zr_6O_12', 'Zr_6O_13'\n",
    "]\n",
    "\n",
    "# 存储新的列表\n",
    "new_elements = []\n",
    "\n",
    "# 遍历每个元素\n",
    "for element in elements:\n",
    "    # 添加一个空格，然后编码为输入张量\n",
    "    input_text = input_prompt + element\n",
    "    input_ids = tokenizer.encode(input_text, return_tensors=\"pt\")\n",
    "\n",
    "    # 生成下一个字符的概率分布\n",
    "    with torch.no_grad():\n",
    "        logits = peft_model(input_ids).logits\n",
    "\n",
    "    # 计算下一个字符的概率\n",
    "    next_char_prob = torch.softmax(logits[0, -1, :], dim=-1)\n",
    "\n",
    "    # 寻找概率大于0.1的字符并添加到新列表\n",
    "    for char_id, prob in enumerate(next_char_prob):\n",
    "        if prob > 0.1:\n",
    "            next_char = tokenizer.decode([char_id])\n",
    "            new_element = element + next_char\n",
    "            new_elements.append(new_element)\n",
    "\n",
    "# 打印新的列表\n",
    "print(new_elements)"
   ]
  },
  {
   "cell_type": "code",
   "execution_count": 40,
   "id": "09d899bc-3684-4a72-a233-14b4d9292f64",
   "metadata": {},
   "outputs": [
    {
     "name": "stdout",
     "output_type": "stream",
     "text": [
      "Answer the materials:\n",
      " Material with low magnetic damping constant.\n",
      " The molecular formula of the material: \n",
      "Probability of A: 0.0000\n",
      "Probability of B: 0.0000\n",
      "Probability of C: 0.7909\n",
      "Probability of D: 0.0000\n",
      "Probability of E: 0.0000\n",
      "Probability of F: 0.0000\n",
      "Probability of G: 0.0000\n",
      "Probability of H: 0.0000\n",
      "Probability of I: 0.0000\n",
      "Probability of J: 0.0000\n",
      "Probability of K: 0.0000\n",
      "Probability of L: 0.0000\n",
      "Probability of M: 0.0001\n",
      "Probability of N: 0.0577\n",
      "Probability of O: 0.0000\n",
      "Probability of P: 0.0000\n",
      "Probability of Q: 0.0000\n",
      "Probability of R: 0.0000\n",
      "Probability of S: 0.0000\n",
      "Probability of T: 0.0000\n",
      "Probability of U: 0.0000\n",
      "Probability of V: 0.0000\n",
      "Probability of W: 0.0000\n",
      "Probability of X: 0.0000\n",
      "Probability of Y: 0.0000\n",
      "Probability of Z: 0.0000\n"
     ]
    }
   ],
   "source": [
    "def generate_prompt(prompt, output=None, eos_token=\"</s>\"):\n",
    "    instruction = \"Answer the materials:\\n\"\n",
    "    input = f\"Material with {prompt}\\n\"\n",
    "    output = f\"The molecular formula of the material: \"\n",
    "    prompt = (\" \").join([instruction, input, output])\n",
    "    return prompt\n",
    "\n",
    "input_prompt = generate_prompt('low magnetic damping constant.')\n",
    "print(input_prompt)\n",
    "input_tokens = tokenizer(input_prompt, return_tensors=\"pt\")[\"input_ids\"].to(\"cuda\")\n",
    "\n",
    "with torch.no_grad():\n",
    "    logits = peft_model(input_tokens).logits\n",
    "\n",
    "probabilities = torch.softmax(logits[:, -1, :], dim=-1)\n",
    "\n",
    "for i, letter in enumerate(\"ABCDEFGHIJKLMNOPQRSTUVWXYZ\"):\n",
    "    probability = probabilities[0][ord(letter) - ord('A')].item()\n",
    "    print(f\"Probability of {letter}: {probability:.4f}\")"
   ]
  },
  {
   "cell_type": "code",
   "execution_count": 33,
   "id": "79959cd0-5b32-4541-a117-dfedd7b61a86",
   "metadata": {},
   "outputs": [
    {
     "name": "stdout",
     "output_type": "stream",
     "text": [
      "Elements in token list:\n",
      "H\n",
      "He\n",
      "Li\n",
      "Be\n",
      "B\n",
      "C\n",
      "N\n",
      "O\n",
      "F\n",
      "Ne\n",
      "Na\n",
      "Al\n",
      "Si\n",
      "P\n",
      "S\n",
      "Cl\n",
      "Ar\n",
      "K\n",
      "Ca\n",
      "Sc\n",
      "V\n",
      "Cr\n",
      "Fe\n",
      "Co\n",
      "Ge\n",
      "As\n",
      "Se\n",
      "Br\n",
      "Y\n",
      "Mo\n",
      "Ag\n",
      "In\n",
      "Te\n",
      "I\n",
      "La\n",
      "Pr\n",
      "Sm\n",
      "Er\n",
      "Lu\n",
      "W\n",
      "Re\n",
      "Os\n",
      "Bi\n",
      "Po\n",
      "At\n",
      "Fr\n",
      "Ac\n",
      "Th\n",
      "Pa\n",
      "U\n",
      "Am\n",
      "Es\n",
      "No\n",
      "Db\n",
      "Fl\n",
      "Mc\n",
      "\n",
      "Elements NOT in token list:\n",
      "Mg\n",
      "Ti\n",
      "Mn\n",
      "Ni\n",
      "Cu\n",
      "Zn\n",
      "Ga\n",
      "Kr\n",
      "Rb\n",
      "Sr\n",
      "Zr\n",
      "Nb\n",
      "Tc\n",
      "Ru\n",
      "Rh\n",
      "Pd\n",
      "Cd\n",
      "Sn\n",
      "Sb\n",
      "Xe\n",
      "Cs\n",
      "Ba\n",
      "Ce\n",
      "Nd\n",
      "Pm\n",
      "Eu\n",
      "Gd\n",
      "Tb\n",
      "Dy\n",
      "Ho\n",
      "Tm\n",
      "Yb\n",
      "Hf\n",
      "Ta\n",
      "Ir\n",
      "Pt\n",
      "Au\n",
      "Hg\n",
      "Tl\n",
      "Pb\n",
      "Rn\n",
      "Ra\n",
      "Np\n",
      "Pu\n",
      "Cm\n",
      "Bk\n",
      "Cf\n",
      "Fm\n",
      "Md\n",
      "Lr\n",
      "Rf\n",
      "Sg\n",
      "Bh\n",
      "Hs\n",
      "Mt\n",
      "Ds\n",
      "Rg\n",
      "Cn\n",
      "Nh\n",
      "Lv\n",
      "Ts\n",
      "Og\n"
     ]
    }
   ],
   "source": [
    "elements = [\n",
    "    \"H\", \"He\", \"Li\", \"Be\", \"B\", \"C\", \"N\", \"O\", \"F\", \"Ne\",\n",
    "    \"Na\", \"Mg\", \"Al\", \"Si\", \"P\", \"S\", \"Cl\", \"Ar\", \"K\", \"Ca\",\n",
    "    \"Sc\", \"Ti\", \"V\", \"Cr\", \"Mn\", \"Fe\", \"Ni\", \"Co\", \"Cu\", \"Zn\",\n",
    "    \"Ga\", \"Ge\", \"As\", \"Se\", \"Br\", \"Kr\", \"Rb\", \"Sr\", \"Y\", \"Zr\",\n",
    "    \"Nb\", \"Mo\", \"Tc\", \"Ru\", \"Rh\", \"Pd\", \"Ag\", \"Cd\", \"In\", \"Sn\",\n",
    "    \"Sb\", \"Te\", \"I\", \"Xe\", \"Cs\", \"Ba\", \"La\", \"Ce\", \"Pr\", \"Nd\",\n",
    "    \"Pm\", \"Sm\", \"Eu\", \"Gd\", \"Tb\", \"Dy\", \"Ho\", \"Er\", \"Tm\", \"Yb\",\n",
    "    \"Lu\", \"Hf\", \"Ta\", \"W\", \"Re\", \"Os\", \"Ir\", \"Pt\", \"Au\", \"Hg\",\n",
    "    \"Tl\", \"Pb\", \"Bi\", \"Po\", \"At\", \"Rn\", \"Fr\", \"Ra\", \"Ac\", \"Th\",\n",
    "    \"Pa\", \"U\", \"Np\", \"Pu\", \"Am\", \"Cm\", \"Bk\", \"Cf\", \"Es\", \"Fm\",\n",
    "    \"Md\", \"No\", \"Lr\", \"Rf\", \"Db\", \"Sg\", \"Bh\", \"Hs\", \"Mt\", \"Ds\",\n",
    "    \"Rg\", \"Cn\", \"Nh\", \"Fl\", \"Mc\", \"Lv\", \"Ts\", \"Og\"\n",
    "]\n",
    "\n",
    "# 获取GPT-3.5模型的token列表\n",
    "model_tokens = tokenizer.get_vocab().keys()\n",
    "\n",
    "# 检查每个元素是否在token列表中\n",
    "elements_in_token_list = [element for element in elements if element in model_tokens]\n",
    "\n",
    "# 打印包含在token列表中的元素\n",
    "print(\"Elements in token list:\")\n",
    "for element in elements_in_token_list:\n",
    "    print(element)\n",
    "\n",
    "# 打印不包含在token列表中的元素\n",
    "print(\"\\nElements NOT in token list:\")\n",
    "for element in elements:\n",
    "    if element not in elements_in_token_list:\n",
    "        print(element)"
   ]
  },
  {
   "cell_type": "code",
   "execution_count": 4,
   "id": "58bb3669-59fc-4844-978f-d31948567a45",
   "metadata": {},
   "outputs": [],
   "source": [
    "def generate_prompt(materials, gilbert=None, eos_token=\"</s>\"):\n",
    "  instruction = \"Answer the value:\\n\"\n",
    "  input = f\"Gilbert damping constant of {materials}\\n\"\n",
    "  gilbert = f\"Value: {gilbert + ' ' + eos_token if gilbert else ''} \"\n",
    "  prompt = (\" \").join([instruction, input, gilbert])\n",
    "  return prompt"
   ]
  },
  {
   "cell_type": "code",
   "execution_count": 7,
   "id": "ddc843b2-7b3e-4d9c-bc64-ec08e63fc9b9",
   "metadata": {},
   "outputs": [
    {
     "name": "stdout",
     "output_type": "stream",
     "text": [
      "Answer the value:\n",
      " Gilbert damping constant of Fe\n",
      " Value:  \n",
      "Word: 0, Probability: 0.3416\n",
      "Word: </s>, Probability: 0.1380\n",
      "Word: 1, Probability: 0.1257\n",
      "Word: 2, Probability: 0.0452\n",
      "Word: γ, Probability: 0.0408\n",
      "Word: 4, Probability: 0.0315\n",
      "Word: \n",
      ", Probability: 0.0292\n",
      "Word: 5, Probability: 0.0213\n",
      "Word: 3, Probability: 0.0204\n",
      "Word: ξ, Probability: 0.0155\n"
     ]
    }
   ],
   "source": [
    "input_prompt = generate_prompt('Fe')\n",
    "print(input_prompt)\n",
    "input_tokens = tokenizer(input_prompt, return_tensors=\"pt\")[\"input_ids\"].to(\"cuda\")\n",
    "\n",
    "with torch.no_grad():\n",
    "    logits = peft_model(input_tokens).logits\n",
    "\n",
    "probabilities = torch.softmax(logits[:, -1, :], dim=-1)\n",
    "\n",
    "# Get the top 10 token IDs and their probabilities\n",
    "top_k = 10\n",
    "top_probabilities, top_token_ids = torch.topk(probabilities, top_k)\n",
    "\n",
    "# Convert probabilities to a human-readable format (e.g., Python list)\n",
    "top_probabilities = top_probabilities.squeeze().tolist()\n",
    "top_token_ids = top_token_ids.squeeze().tolist()\n",
    "\n",
    "# Decode each token ID and pair it with its probability\n",
    "top_words_with_probs = [(tokenizer.decode([token_id]), prob) for token_id, prob in zip(top_token_ids, top_probabilities)]\n",
    "\n",
    "# Display the results\n",
    "for word, prob in top_words_with_probs:\n",
    "    print(f\"Word: {word}, Probability: {prob:.4f}\")"
   ]
  },
  {
   "cell_type": "code",
   "execution_count": 8,
   "id": "bd9b843b-457f-4aea-b951-5f37c16971c3",
   "metadata": {},
   "outputs": [
    {
     "name": "stdout",
     "output_type": "stream",
     "text": [
      "Answer the value:\n",
      " Gilbert damping constant of Fe\n",
      " Value:  1.079×10−3 N⋅m/rad\n",
      "\n",
      "### 2.\n",
      "\n",
      "The following is a list of values for the Gilbert damping constant, $k_g$, of iron (Fe).\n",
      "\n",
      "Answer the value: Gilbert damping constant of Iron\n",
      " Value:   4.685×10−3 N⋅m/rad\n"
     ]
    }
   ],
   "source": [
    "input_prompt = generate_prompt('Fe')\n",
    "input_tokens = tokenizer(input_prompt, return_tensors=\"pt\")[\"input_ids\"].to(\"cuda\")\n",
    "with torch.cuda.amp.autocast():\n",
    "  generation_output = model.generate(\n",
    "      input_ids=input_tokens,\n",
    "      max_new_tokens=1000,\n",
    "      do_sample=True,\n",
    "      top_k=10,\n",
    "      top_p=0.9,\n",
    "      temperature=0.3,\n",
    "      repetition_penalty=1.15,\n",
    "      num_return_sequences=1,\n",
    "      eos_token_id=tokenizer.eos_token_id,\n",
    "    )\n",
    "op = tokenizer.decode(generation_output[0], skip_special_tokens=True)\n",
    "print(op)"
   ]
  },
  {
   "cell_type": "code",
   "execution_count": 20,
   "id": "d54db31b-59b9-473f-9265-4142818dfc13",
   "metadata": {},
   "outputs": [],
   "source": [
    "from peft import PeftModel\n",
    "\n",
    "peft_model_id = \"cp/models--enyuan--llama/snapshots/cc9f2b840050248a80e02c0a61e3cc0050c54b2e\"\n",
    "peft_model = PeftModel.from_pretrained(model, peft_model_id, torch_dtype=torch.float16, offload_folder=\"lora_results/lora_7/temp\")"
   ]
  },
  {
   "cell_type": "code",
   "execution_count": 21,
   "id": "e0f73bb9-2a2c-4f20-a8b1-537889ea2fe6",
   "metadata": {},
   "outputs": [
    {
     "name": "stdout",
     "output_type": "stream",
     "text": [
      "Answer the value:\n",
      " Gilbert damping constant of Fe\n",
      " Value:  0.0135\n"
     ]
    }
   ],
   "source": [
    "input_prompt = generate_prompt('Fe')\n",
    "input_tokens = tokenizer(input_prompt, return_tensors=\"pt\")[\"input_ids\"].to(\"cuda\")\n",
    "with torch.cuda.amp.autocast():\n",
    "    generation_output = peft_model.generate(\n",
    "        input_ids=input_tokens,\n",
    "        max_new_tokens=100,\n",
    "        do_sample=True,\n",
    "        top_k=10,\n",
    "        top_p=0.9,\n",
    "        temperature=0.3,\n",
    "        repetition_penalty=1.15,\n",
    "        num_return_sequences=1,\n",
    "        eos_token_id=tokenizer.eos_token_id,\n",
    "      )\n",
    "op = tokenizer.decode(generation_output[0], skip_special_tokens=True)\n",
    "print(op)"
   ]
  },
  {
   "cell_type": "code",
   "execution_count": 22,
   "id": "e7bc86a4-ec15-4a55-9979-68666af10175",
   "metadata": {},
   "outputs": [
    {
     "name": "stdout",
     "output_type": "stream",
     "text": [
      "Answer the value:\n",
      " Gilbert damping constant of Fe\n",
      " Value:  \n",
      "Word: 0, Probability: 0.3416\n",
      "Word: </s>, Probability: 0.1380\n",
      "Word: 1, Probability: 0.1257\n",
      "Word: 2, Probability: 0.0452\n",
      "Word: γ, Probability: 0.0408\n",
      "Word: 4, Probability: 0.0315\n",
      "Word: \n",
      ", Probability: 0.0292\n",
      "Word: 5, Probability: 0.0213\n",
      "Word: 3, Probability: 0.0204\n",
      "Word: ξ, Probability: 0.0155\n"
     ]
    }
   ],
   "source": [
    "print(input_prompt)\n",
    "input_tokens = tokenizer(input_prompt, return_tensors=\"pt\")[\"input_ids\"].to(\"cuda\")\n",
    "\n",
    "with torch.no_grad():\n",
    "    logits = peft_model(input_tokens).logits\n",
    "\n",
    "probabilities = torch.softmax(logits[:, -1, :], dim=-1)\n",
    "\n",
    "# Get the top 10 token IDs and their probabilities\n",
    "top_k = 10\n",
    "top_probabilities, top_token_ids = torch.topk(probabilities, top_k)\n",
    "\n",
    "# Convert probabilities to a human-readable format (e.g., Python list)\n",
    "top_probabilities = top_probabilities.squeeze().tolist()\n",
    "top_token_ids = top_token_ids.squeeze().tolist()\n",
    "\n",
    "# Decode each token ID and pair it with its probability\n",
    "top_words_with_probs = [(tokenizer.decode([token_id]), prob) for token_id, prob in zip(top_token_ids, top_probabilities)]\n",
    "\n",
    "# Display the results\n",
    "for word, prob in top_words_with_probs:\n",
    "    print(f\"Word: {word}, Probability: {prob:.4f}\")"
   ]
  },
  {
   "cell_type": "code",
   "execution_count": 25,
   "id": "79bd9991-6ef0-44f6-87cd-a2491b89118e",
   "metadata": {},
   "outputs": [],
   "source": [
    "def generate_prompt(materials, gilbert=None, eos_token=\"</s>\"):\n",
    "  instruction = \"Answer the materials:\\n\"\n",
    "  input = f\"Metal oxide with {materials}\\n\"\n",
    "  gilbert = f\"Materials: {gilbert + ' ' + eos_token if gilbert else ''} \"\n",
    "  prompt = (\" \").join([instruction, input, gilbert])\n",
    "  return prompt"
   ]
  },
  {
   "cell_type": "code",
   "execution_count": 33,
   "id": "58999089-f4c8-46c9-8206-bc2c38bb8fc3",
   "metadata": {},
   "outputs": [],
   "source": [
    "def generate_prompt(prompt, output=None, eos_token=\"</s>\"):\n",
    "    instruction = \"Answer the materials:\\n\"\n",
    "    input = f\"Metal oxide with {prompt}\\n\"\n",
    "    output = f\"The molecular formula of the material: 1\"\n",
    "    prompt = (\" \").join([instruction, input, output])\n",
    "    return prompt"
   ]
  },
  {
   "cell_type": "code",
   "execution_count": 29,
   "id": "4708b9c7-c5e2-47df-9bfb-78d0ea7123f9",
   "metadata": {},
   "outputs": [
    {
     "name": "stdout",
     "output_type": "stream",
     "text": [
      "Answer the materials:\n",
      " Metal oxide with low magnetic damping constant.\n",
      " Materials:  \n"
     ]
    }
   ],
   "source": [
    "input_prompt = generate_prompt('low magnetic damping constant.')\n",
    "input_tokens = tokenizer(input_prompt, return_tensors=\"pt\")[\"input_ids\"].to(\"cuda\")\n",
    "with torch.cuda.amp.autocast():\n",
    "    generation_output = peft_model.generate(\n",
    "        input_ids=input_tokens,\n",
    "        max_new_tokens=100,\n",
    "        do_sample=True,\n",
    "        top_k=10,\n",
    "        top_p=0.9,\n",
    "        temperature=0.3,\n",
    "        repetition_penalty=1.15,\n",
    "        num_return_sequences=1,\n",
    "        eos_token_id=tokenizer.eos_token_id,\n",
    "      )\n",
    "op = tokenizer.decode(generation_output[0], skip_special_tokens=True)\n",
    "print(op)"
   ]
  },
  {
   "cell_type": "code",
   "execution_count": 32,
   "id": "23c81787-1398-4c67-a32e-743ce5765ad0",
   "metadata": {},
   "outputs": [
    {
     "name": "stdout",
     "output_type": "stream",
     "text": [
      "Answer the materials:\n",
      " Metal oxide with low density of states at the Fermi level\n",
      " Materials:  \n"
     ]
    }
   ],
   "source": [
    "input_prompt = generate_prompt('low density of states at the Fermi level')\n",
    "input_tokens = tokenizer(input_prompt, return_tensors=\"pt\")[\"input_ids\"].to(\"cuda\")\n",
    "with torch.cuda.amp.autocast():\n",
    "    generation_output = peft_model.generate(\n",
    "        input_ids=input_tokens,\n",
    "        max_new_tokens=100,\n",
    "        do_sample=True,\n",
    "        top_k=10,\n",
    "        top_p=0.9,\n",
    "        temperature=0.3,\n",
    "        repetition_penalty=1.15,\n",
    "        num_return_sequences=1,\n",
    "        eos_token_id=tokenizer.eos_token_id,\n",
    "      )\n",
    "op = tokenizer.decode(generation_output[0], skip_special_tokens=True)\n",
    "print(op)"
   ]
  },
  {
   "cell_type": "code",
   "execution_count": 51,
   "id": "8719804a-eb44-4f3b-aec8-67493910dfa7",
   "metadata": {},
   "outputs": [
    {
     "name": "stdout",
     "output_type": "stream",
     "text": [
      "List five materials:\n",
      " Alloys with low Gilbert damping constant. e.g. low magnetic damping constant. e.g. \n",
      " Materials:  \n",
      "$${Co-Pd}$$ Co - Pd , $${Ni-Fe}$$ Ni - Fe , $${NbTa}$$ NbTa , $${Cu-Ag}$$ Cu - Ag , $${Au-Ag}$$ Au - Ag . \n"
     ]
    }
   ],
   "source": [
    "input_prompt = generate_prompt('low magnetic damping constant. e.g. ')\n",
    "input_tokens = tokenizer(input_prompt, return_tensors=\"pt\")[\"input_ids\"].to(\"cuda\")\n",
    "with torch.cuda.amp.autocast():\n",
    "    generation_output = peft_model.generate(\n",
    "        input_ids=input_tokens,\n",
    "        max_new_tokens=100,\n",
    "        do_sample=True,\n",
    "        top_k=10,\n",
    "        top_p=0.9,\n",
    "        temperature=0.3,\n",
    "        repetition_penalty=1.15,\n",
    "        num_return_sequences=1,\n",
    "        eos_token_id=tokenizer.eos_token_id,\n",
    "      )\n",
    "op = tokenizer.decode(generation_output[0], skip_special_tokens=True)\n",
    "print(op)"
   ]
  },
  {
   "cell_type": "code",
   "execution_count": 58,
   "id": "3003fa0f-1650-40c6-a6b7-d109174bd1c0",
   "metadata": {},
   "outputs": [
    {
     "name": "stdout",
     "output_type": "stream",
     "text": [
      "List five materials:\n",
      " Metal oxide with low density of states at the Fermi level\n",
      " Materials:  \n",
      "$$\\mathrm{MgO}$$ M g O , $$ \\mathrm{Al_2O_3} $$ Al 2 O 3 , $$ \\mathrm{SiO_2} $$ SiO 2 , $$ \\mathrm{Ta_2O_5} $$ Ta 2 O 5 .  \n",
      "$$\\mathrm{CuO}$$ C u O , $$ \\mathrm{ZnO} $$ Z n O , $$ \\mathrm{Nb\n"
     ]
    }
   ],
   "source": [
    "input_prompt = generate_prompt('low density of states at the Fermi level')\n",
    "input_tokens = tokenizer(input_prompt, return_tensors=\"pt\")[\"input_ids\"].to(\"cuda\")\n",
    "with torch.cuda.amp.autocast():\n",
    "    generation_output = peft_model.generate(\n",
    "        input_ids=input_tokens,\n",
    "        max_new_tokens=100,\n",
    "        do_sample=True,\n",
    "        top_k=10,\n",
    "        top_p=0.9,\n",
    "        temperature=0.3,\n",
    "        repetition_penalty=1.15,\n",
    "        num_return_sequences=1,\n",
    "        eos_token_id=tokenizer.eos_token_id,\n",
    "      )\n",
    "op = tokenizer.decode(generation_output[0], skip_special_tokens=True)\n",
    "print(op)"
   ]
  },
  {
   "cell_type": "code",
   "execution_count": 72,
   "id": "999e53a9-bc64-4e95-932d-a471d40cd1e1",
   "metadata": {},
   "outputs": [
    {
     "name": "stdout",
     "output_type": "stream",
     "text": [
      "List five materials:\n",
      " Metal oxide with low magnetic damping constant. e.g. \n",
      " Materials:  \n",
      "$${\\text{MnBi}}_{2}{\\text{O}}_{4}$$ MnBi 2 O 4 , $${\\text{CuTiO}}_{3}$$ CuTiO 3 .  \n",
      "Materials:  \n",
      "$${\\text{Fe}}_{3} {\\text{O}}_{4}$$ Fe 3 O 4 , $${\\text{Nd}_{1 - x}Dy_{x}} {\\text{FeO}}_{4}$$ Nd\n"
     ]
    }
   ],
   "source": [
    "input_prompt = generate_prompt('low magnetic damping constant. e.g. ')\n",
    "input_tokens = tokenizer(input_prompt, return_tensors=\"pt\")[\"input_ids\"].to(\"cuda\")\n",
    "with torch.cuda.amp.autocast():\n",
    "    generation_output = peft_model.generate(\n",
    "        input_ids=input_tokens,\n",
    "        max_new_tokens=100,\n",
    "        do_sample=True,\n",
    "        top_k=10,\n",
    "        top_p=0.9,\n",
    "        temperature=0.2,\n",
    "        repetition_penalty=1.15,\n",
    "        num_return_sequences=1,\n",
    "        eos_token_id=tokenizer.eos_token_id,\n",
    "      )\n",
    "op = tokenizer.decode(generation_output[0], skip_special_tokens=True)\n",
    "print(op)"
   ]
  },
  {
   "cell_type": "code",
   "execution_count": 6,
   "id": "25f33fd7-008c-4d74-82d0-4814b21b696e",
   "metadata": {},
   "outputs": [],
   "source": [
    "lora_config = LoraConfig(\n",
    "        r=128,\n",
    "        lora_alpha=256,\n",
    "        lora_dropout=0.05,\n",
    "        target_modules=[\"q_proj\",\"k_proj\",\"v_proj\",\"o_proj\"],\n",
    "        bias=\"none\",\n",
    "        task_type=\"CAUSAL_LM\",\n",
    "    )\n",
    "\n",
    "# this should be set for finutning and batched inference\n",
    "tokenizer.add_special_tokens({\"pad_token\": \"<PAD>\"})\n",
    "model.resize_token_embeddings(len(tokenizer))\n",
    "\n",
    "# Loading in 8 bit ...\"\n",
    "model = prepare_model_for_kbit_training(model)\n",
    "model = get_peft_model(model, lora_config)"
   ]
  },
  {
   "cell_type": "code",
   "execution_count": 11,
   "id": "9981f016-a05d-4ea9-a7f2-1c8f69f1597e",
   "metadata": {},
   "outputs": [],
   "source": [
    "output_dir = \"cp\"\n",
    "per_device_train_batch_size = 4\n",
    "gradient_accumulation_steps = 4\n",
    "per_device_eval_batch_size = 4\n",
    "eval_accumulation_steps = 4\n",
    "optim = \"paged_adamw_32bit\"\n",
    "save_steps = 500\n",
    "logging_steps = 500\n",
    "learning_rate = 1e-4\n",
    "max_grad_norm = 0.2\n",
    "#max_steps = 50\n",
    "warmup_ratio = 0.03\n",
    "evaluation_strategy=\"epoch\"\n",
    "lr_scheduler_type = \"constant\"\n",
    "\n",
    "training_args = transformers.TrainingArguments(\n",
    "            output_dir=output_dir,\n",
    "            per_device_train_batch_size=per_device_train_batch_size,\n",
    "            gradient_accumulation_steps=gradient_accumulation_steps,\n",
    "            optim=optim,\n",
    "            evaluation_strategy=evaluation_strategy,\n",
    "            save_steps=save_steps,\n",
    "            learning_rate=learning_rate,\n",
    "            logging_steps=logging_steps,\n",
    "            max_grad_norm=max_grad_norm,\n",
    "            #max_steps=max_steps,\n",
    "            warmup_ratio=warmup_ratio,\n",
    "            group_by_length=True,\n",
    "            lr_scheduler_type=lr_scheduler_type,\n",
    "            ddp_find_unused_parameters=False,\n",
    "            eval_accumulation_steps=eval_accumulation_steps,\n",
    "            per_device_eval_batch_size=per_device_eval_batch_size,\n",
    "        )"
   ]
  },
  {
   "cell_type": "code",
   "execution_count": 10,
   "id": "49676da0-6985-4bcb-a80f-b278b283c074",
   "metadata": {},
   "outputs": [
    {
     "data": {
      "application/vnd.jupyter.widget-view+json": {
       "model_id": "1fa36c0c5a7e41ae9aedc02dd08af26c",
       "version_major": 2,
       "version_minor": 0
      },
      "text/plain": [
       "Map:   0%|          | 0/278 [00:00<?, ? examples/s]"
      ]
     },
     "metadata": {},
     "output_type": "display_data"
    },
    {
     "data": {
      "application/vnd.jupyter.widget-view+json": {
       "model_id": "2383540a8fcf4a3b8b775cb070b6e7b4",
       "version_major": 2,
       "version_minor": 0
      },
      "text/plain": [
       "Map:   0%|          | 0/278 [00:00<?, ? examples/s]"
      ]
     },
     "metadata": {},
     "output_type": "display_data"
    },
    {
     "name": "stderr",
     "output_type": "stream",
     "text": [
      "You're using a LlamaTokenizerFast tokenizer. Please note that with a fast tokenizer, using the `__call__` method is faster than using a method to encode the text followed by a call to the `pad` method to get a padded encoding.\n",
      "`use_cache=True` is incompatible with gradient checkpointing. Setting `use_cache=False`...\n",
      "/opt/conda/lib/python3.10/site-packages/bitsandbytes/autograd/_functions.py:322: UserWarning: MatMul8bitLt: inputs will be cast from torch.float32 to float16 during quantization\n",
      "  warnings.warn(f\"MatMul8bitLt: inputs will be cast from {A.dtype} to float16 during quantization\")\n"
     ]
    },
    {
     "data": {
      "text/html": [
       "\n",
       "    <div>\n",
       "      \n",
       "      <progress value='50' max='50' style='width:300px; height:20px; vertical-align: middle;'></progress>\n",
       "      [50/50 08:49, Epoch 2/3]\n",
       "    </div>\n",
       "    <table border=\"1\" class=\"dataframe\">\n",
       "  <thead>\n",
       " <tr style=\"text-align: left;\">\n",
       "      <th>Step</th>\n",
       "      <th>Training Loss</th>\n",
       "      <th>Validation Loss</th>\n",
       "    </tr>\n",
       "  </thead>\n",
       "  <tbody>\n",
       "    <tr>\n",
       "      <td>10</td>\n",
       "      <td>2.098400</td>\n",
       "      <td>1.891765</td>\n",
       "    </tr>\n",
       "    <tr>\n",
       "      <td>20</td>\n",
       "      <td>1.891100</td>\n",
       "      <td>1.811098</td>\n",
       "    </tr>\n",
       "    <tr>\n",
       "      <td>30</td>\n",
       "      <td>1.814300</td>\n",
       "      <td>1.744567</td>\n",
       "    </tr>\n",
       "    <tr>\n",
       "      <td>40</td>\n",
       "      <td>1.705700</td>\n",
       "      <td>1.667625</td>\n",
       "    </tr>\n",
       "    <tr>\n",
       "      <td>50</td>\n",
       "      <td>1.717800</td>\n",
       "      <td>1.575743</td>\n",
       "    </tr>\n",
       "  </tbody>\n",
       "</table><p>"
      ],
      "text/plain": [
       "<IPython.core.display.HTML object>"
      ]
     },
     "metadata": {},
     "output_type": "display_data"
    },
    {
     "name": "stderr",
     "output_type": "stream",
     "text": [
      "/opt/conda/lib/python3.10/site-packages/bitsandbytes/autograd/_functions.py:322: UserWarning: MatMul8bitLt: inputs will be cast from torch.float32 to float16 during quantization\n",
      "  warnings.warn(f\"MatMul8bitLt: inputs will be cast from {A.dtype} to float16 during quantization\")\n",
      "/opt/conda/lib/python3.10/site-packages/bitsandbytes/autograd/_functions.py:322: UserWarning: MatMul8bitLt: inputs will be cast from torch.float32 to float16 during quantization\n",
      "  warnings.warn(f\"MatMul8bitLt: inputs will be cast from {A.dtype} to float16 during quantization\")\n",
      "/opt/conda/lib/python3.10/site-packages/bitsandbytes/autograd/_functions.py:322: UserWarning: MatMul8bitLt: inputs will be cast from torch.float32 to float16 during quantization\n",
      "  warnings.warn(f\"MatMul8bitLt: inputs will be cast from {A.dtype} to float16 during quantization\")\n",
      "/opt/conda/lib/python3.10/site-packages/bitsandbytes/autograd/_functions.py:322: UserWarning: MatMul8bitLt: inputs will be cast from torch.float32 to float16 during quantization\n",
      "  warnings.warn(f\"MatMul8bitLt: inputs will be cast from {A.dtype} to float16 during quantization\")\n"
     ]
    }
   ],
   "source": [
    "def formatting_func(prompt):\n",
    "  output = []\n",
    "\n",
    "  for d, s in zip(prompt[\"title\"], prompt[\"abstract\"]):\n",
    "    op = generate_prompt(d, s)\n",
    "    output.append(op)\n",
    "\n",
    "  return output\n",
    "\n",
    "\n",
    "trainer = SFTTrainer(\n",
    "    model=model,\n",
    "    train_dataset=data_train,\n",
    "    eval_dataset=data_val,\n",
    "    peft_config=lora_config,\n",
    "    formatting_func=formatting_func,\n",
    "    max_seq_length=1024,\n",
    "    tokenizer=tokenizer,\n",
    "    args=training_args\n",
    ")\n",
    "\n",
    "# We will also pre-process the model by upcasting the layer norms in float 32 for more stable training\n",
    "for name, module in trainer.model.named_modules():\n",
    "    if \"norm\" in name:\n",
    "        module = module.to(torch.float32)\n",
    "\n",
    "trainer.train()\n",
    "trainer.save_model(f\"{output_dir}/final\")\n",
    "\n",
    "# Step Training Loss Validation Loss\n",
    "# 10 1.848200 1.746341\n",
    "# 20 1.688300 1.696681\n",
    "# 30 1.654500 1.698127\n",
    "# 40 1.579400 1.652010\n",
    "# 50 1.492600 1.701877"
   ]
  },
  {
   "cell_type": "code",
   "execution_count": 10,
   "id": "c8b1b0f0-b8db-4e73-bd5d-ef09466dbf92",
   "metadata": {},
   "outputs": [
    {
     "data": {
      "text/plain": [
       "Embedding(32001, 4096)"
      ]
     },
     "execution_count": 10,
     "metadata": {},
     "output_type": "execute_result"
    }
   ],
   "source": [
    "# this should be set for finutning and batched inference\n",
    "tokenizer.add_special_tokens({\"pad_token\": \"<PAD>\"})\n",
    "model.resize_token_embeddings(len(tokenizer))"
   ]
  },
  {
   "cell_type": "code",
   "execution_count": null,
   "id": "37ee3021-a7c8-419c-8174-b55fc182547a",
   "metadata": {},
   "outputs": [],
   "source": [
    "# Loading in 8 bit ...\"\n",
    "model = prepare_model_for_kbit_training(model)\n",
    "#model = get_peft_model(model, lora_config)\n",
    "\n",
    "output_dir = \"cp\"\n",
    "per_device_train_batch_size = 4\n",
    "gradient_accumulation_steps = 4\n",
    "per_device_eval_batch_size = 4\n",
    "eval_accumulation_steps = 4\n",
    "optim = \"paged_adamw_32bit\"\n",
    "save_steps = 200\n",
    "logging_steps = 200\n",
    "learning_rate = 1e-4\n",
    "max_grad_norm = 0.2\n",
    "#max_steps = 50\n",
    "warmup_ratio = 0.03\n",
    "evaluation_strategy=\"epoch\"\n",
    "lr_scheduler_type = \"constant\"\n",
    "\n",
    "training_args = transformers.TrainingArguments(\n",
    "            output_dir=output_dir,\n",
    "            per_device_train_batch_size=per_device_train_batch_size,\n",
    "            gradient_accumulation_steps=gradient_accumulation_steps,\n",
    "            optim=optim,\n",
    "            evaluation_strategy=evaluation_strategy,\n",
    "            save_steps=save_steps,\n",
    "            learning_rate=learning_rate,\n",
    "            logging_steps=logging_steps,\n",
    "            max_grad_norm=max_grad_norm,\n",
    "            #max_steps=max_steps,\n",
    "            warmup_ratio=warmup_ratio,\n",
    "            group_by_length=True,\n",
    "            lr_scheduler_type=lr_scheduler_type,\n",
    "            ddp_find_unused_parameters=False,\n",
    "            eval_accumulation_steps=eval_accumulation_steps,\n",
    "            per_device_eval_batch_size=per_device_eval_batch_size,\n",
    "        )\n",
    "\n",
    "def formatting_func(prompt):\n",
    "  output = []\n",
    "\n",
    "  for d, s in zip(prompt[\"title\"], prompt[\"abstract\"]):\n",
    "    op = generate_prompt(d, s)\n",
    "    output.append(op)\n",
    "\n",
    "  return output\n",
    "\n",
    "\n",
    "trainer = SFTTrainer(\n",
    "    model=peft_model,\n",
    "    train_dataset=data_train,\n",
    "    eval_dataset=data_val,\n",
    "    #peft_config=lora_config,\n",
    "    formatting_func=formatting_func,\n",
    "    max_seq_length=1024,\n",
    "    tokenizer=tokenizer,\n",
    "    args=training_args\n",
    ")\n",
    "\n",
    "# We will also pre-process the model by upcasting the layer norms in float 32 for more stable training\n",
    "for name, module in trainer.model.named_modules():\n",
    "    if \"norm\" in name:\n",
    "        module = module.to(torch.float32)\n",
    "\n",
    "trainer.train()\n",
    "trainer.save_model(f\"{output_dir}/final\")\n",
    "\n",
    "# Step Training Loss Validation Loss\n",
    "# 10 1.848200 1.746341\n",
    "# 20 1.688300 1.696681\n",
    "# 30 1.654500 1.698127\n",
    "# 40 1.579400 1.652010\n",
    "# 50 1.492600 1.701877"
   ]
  },
  {
   "cell_type": "code",
   "execution_count": null,
   "id": "d1669c18-e142-4baf-893e-5f0c9f1827d9",
   "metadata": {},
   "outputs": [],
   "source": []
  }
 ],
 "metadata": {
  "kernelspec": {
   "display_name": "Python 3 (ipykernel)",
   "language": "python",
   "name": "python3"
  },
  "language_info": {
   "codemirror_mode": {
    "name": "ipython",
    "version": 3
   },
   "file_extension": ".py",
   "mimetype": "text/x-python",
   "name": "python",
   "nbconvert_exporter": "python",
   "pygments_lexer": "ipython3",
   "version": "3.10.11"
  }
 },
 "nbformat": 4,
 "nbformat_minor": 5
}
